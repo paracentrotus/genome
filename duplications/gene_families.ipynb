{
 "cells": [
  {
   "cell_type": "code",
   "execution_count": 4,
   "metadata": {},
   "outputs": [],
   "source": [
    "from collections import defaultdict\n",
    "from collections import Counter\n",
    "from ete3 import PhyloTree\n",
    "import numpy as np\n",
    "from tqdm import tqdm\n",
    "import scipy.stats as stats\n",
    "from statsmodels.stats.multitest import multipletests\n",
    "\n",
    "import time\n",
    "import csv\n",
    "import copy\n",
    "import pandas as pd\n",
    "from glob import glob\n",
    "from itertools import combinations\n",
    "from ete3 import Tree"
   ]
  },
  {
   "cell_type": "markdown",
   "metadata": {},
   "source": [
    "Load gene families"
   ]
  },
  {
   "cell_type": "code",
   "execution_count": 2,
   "metadata": {},
   "outputs": [],
   "source": [
    "spsel=set(['Acapla','Annjap', 'Apojap', 'Astrub', 'Auraur', 'Braflo', 'Bralan', 'Calmil', 'Captel', 'Cioint', 'Dromel', 'Homsap', 'Lepocu', 'Limpol', 'Linana', 'Lotgig', 'Lytvar', 'Molocc', 'Nemvec', 'Parliv', 'Patmin', 'Patyes', 'Ptyfla', 'Sackow', 'Strpur', 'Tricas'])"
   ]
  },
  {
   "cell_type": "code",
   "execution_count": 24,
   "metadata": {},
   "outputs": [],
   "source": [
    "spsel=set(['Acapla','Annjap', 'Apojap', 'Auraur', 'Braflo', 'Bralan', 'Calmil', 'Captel', 'Cioint', 'Dromel', 'Homsap', 'Lepocu', 'Limpol', 'Linana', 'Lotgig', 'Lytvar', 'Molocc', 'Nemvec', 'Parliv', 'Patmin', 'Patyes', 'Ptyfla', 'Sackow', 'Strpur', 'Tricas'])"
   ]
  },
  {
   "cell_type": "code",
   "execution_count": 30,
   "metadata": {},
   "outputs": [],
   "source": [
    "Fams,species={},[]\n",
    "for line in open('orthologous_groups.txt'):\n",
    "    if line.startswith(\"#\"): continue\n",
    "    fid,glt=line.strip().split('\\t')\n",
    "    gbs=defaultdict(list)\n",
    "    for g in glt.split():\n",
    "        if not len(g.split('_',1))==2: continue\n",
    "        spc,gid=g.split('_',1)\n",
    "        if not spc in spsel: continue \n",
    "        gbs[spc].append(gid)\n",
    "    species.extend(gbs.keys())\n",
    "    if len(gbs.keys())<=1: continue\n",
    "    Fams[fid]=gbs\n",
    "        #if i==5: break\n",
    "species=list(set(species))"
   ]
  },
  {
   "cell_type": "code",
   "execution_count": 14,
   "metadata": {},
   "outputs": [
    {
     "name": "stdout",
     "output_type": "stream",
     "text": [
      "('OG_1', defaultdict(<class 'list'>, {'Homsap': ['ENSG00000168944'], 'Lytvar': ['L_var_10415-RA'], 'Lepocu': ['ENSLOCG00000008635'], 'Ptyfla': ['pfl_40v0_9_20150316_1g17968'], 'Strpur': ['LOC577882'], 'Nemvec': ['NEMVEDRAFT_v1g116171'], 'Parliv': ['PL00614'], 'Limpol': ['XP_013777632', 'XP_013777633', 'XP_013777634'], 'Cioint': ['ENSCING00000020805'], 'Apojap': ['BSL78_15936', 'BSL78_11218'], 'Sackow': ['Sakowv30036170m'], 'Auraur': ['scaffold7269_g1', 'scaffold5741_g1', 'scaffold723_g2'], 'Linana': ['LANA06268', 'LANA06269'], 'Patmin': ['PMI_004327-RA', 'PMI_016166-RA'], 'Molocc': ['g27598', 'g27599', 'g27601', 'g27600'], 'Tricas': ['TC015682', 'TC015681'], 'Braflo': ['BL074181'], 'Captel': ['CapteG32511'], 'Bralan': ['BL08976'], 'Patyes': ['PY_T15208'], 'Annjap': ['LOC117108548'], 'Lotgig': ['LotgiG190538'], 'Calmil': ['SINCAMG00000005543'], 'Acapla': ['LOC110981048']}))\n",
      "18758\n",
      "['Acapla', 'Annjap', 'Apojap', 'Auraur', 'Braflo', 'Bralan', 'Calmil', 'Captel', 'Cioint', 'Dromel', 'Homsap', 'Lepocu', 'Limpol', 'Linana', 'Lotgig', 'Lytvar', 'Molocc', 'Nemvec', 'Parliv', 'Patmin', 'Patyes', 'Ptyfla', 'Sackow', 'Strpur', 'Tricas']\n"
     ]
    }
   ],
   "source": [
    "print(list(Fams.items())[0])\n",
    "print(len(Fams))\n",
    "print(sorted(species))"
   ]
  },
  {
   "cell_type": "markdown",
   "metadata": {},
   "source": [
    "Creates non-redundant species set"
   ]
  },
  {
   "cell_type": "markdown",
   "metadata": {},
   "source": [
    "Load species tree"
   ]
  },
  {
   "cell_type": "code",
   "execution_count": 10,
   "metadata": {},
   "outputs": [],
   "source": [
    "spT=PhyloTree(open('species_wa.tre').read(), format=1)"
   ]
  },
  {
   "cell_type": "markdown",
   "metadata": {},
   "source": [
    "### Determine phylostrata of  genes "
   ]
  },
  {
   "cell_type": "code",
   "execution_count": 15,
   "metadata": {},
   "outputs": [
    {
     "name": "stdout",
     "output_type": "stream",
     "text": [
      "defaultdict(<class 'list'>, {'Acapla': ['LOC110984554']})\n"
     ]
    }
   ],
   "source": [
    "print(Fams['OG_171'])"
   ]
  },
  {
   "cell_type": "code",
   "execution_count": 29,
   "metadata": {},
   "outputs": [],
   "source": [
    "urchinPhylo=defaultdict(int)\n",
    "g2f={}\n",
    "genephylo={}\n",
    "tor=defaultdict(int)\n",
    "size=[]\n",
    "for fid in Fams:\n",
    "    gbs=Fams[fid]\n",
    "    spset=[s for s,gbs in gbs.items() if len(gbs)>0]\n",
    "    if len(spset)==0: continue\n",
    "    phtyp=spT.get_common_ancestor(spset) if len(spset)>1 else spT.search_nodes(name=spset[0])\n",
    "    #print(fid,len(phtyp))\n",
    "    tor[phtyp.name]+=1\n",
    "    size.append(len(spset))\n",
    "    for g in gbs['Parliv']:\n",
    "        urchinPhylo[phtyp.name]+=1\n",
    "        genephylo[g]=phtyp.name\n",
    "        g2f[g]=fid\n",
    "        "
   ]
  },
  {
   "cell_type": "code",
   "execution_count": null,
   "metadata": {},
   "outputs": [],
   "source": []
  },
  {
   "cell_type": "markdown",
   "metadata": {},
   "source": [
    "print(urchinPhylo,sum(urchinPhylo.values()))"
   ]
  },
  {
   "cell_type": "code",
   "execution_count": 31,
   "metadata": {},
   "outputs": [],
   "source": [
    "selclades=['Eumetazoa','Bilateria','Deuterostomia','Ambulacraria', 'Echinodermata','Eleutherozoa','Echinozoa','Echinoidea']"
   ]
  },
  {
   "cell_type": "code",
   "execution_count": 32,
   "metadata": {},
   "outputs": [
    {
     "data": {
      "text/plain": [
       "Counter({25: 1865,\n",
       "         26: 1878,\n",
       "         24: 1315,\n",
       "         20: 414,\n",
       "         23: 914,\n",
       "         17: 281,\n",
       "         12: 181,\n",
       "         11: 176,\n",
       "         22: 711,\n",
       "         21: 539,\n",
       "         19: 326,\n",
       "         7: 307,\n",
       "         6: 314,\n",
       "         15: 247,\n",
       "         18: 315,\n",
       "         14: 197,\n",
       "         3: 1827,\n",
       "         4: 552,\n",
       "         8: 231,\n",
       "         13: 183,\n",
       "         5: 364,\n",
       "         9: 217,\n",
       "         16: 263,\n",
       "         10: 184,\n",
       "         2: 5157})"
      ]
     },
     "execution_count": 32,
     "metadata": {},
     "output_type": "execute_result"
    }
   ],
   "source": [
    "Counter(size)"
   ]
  },
  {
   "cell_type": "markdown",
   "metadata": {},
   "source": [
    "## Extract TFs"
   ]
  },
  {
   "cell_type": "code",
   "execution_count": 9,
   "metadata": {},
   "outputs": [],
   "source": [
    "hsa_tfs=set([l.strip().split('\\t')[1] for l in open('hsa_tfs.txt')])"
   ]
  },
  {
   "cell_type": "code",
   "execution_count": null,
   "metadata": {},
   "outputs": [],
   "source": [
    "print(hsa_tfs)"
   ]
  },
  {
   "cell_type": "code",
   "execution_count": 18,
   "metadata": {},
   "outputs": [
    {
     "name": "stdout",
     "output_type": "stream",
     "text": [
      "0\n"
     ]
    }
   ],
   "source": [
    "print(len([]))"
   ]
  },
  {
   "cell_type": "code",
   "execution_count": 76,
   "metadata": {},
   "outputs": [],
   "source": [
    "pltf=[]\n",
    "ucfn=0\n",
    "with open('Pliv_tfs.tsv','w') as out:\n",
    "    for f,gbs in Fams.items():\n",
    "        hgs=set(gbs.get('Homsap',[]))\n",
    "        tfhg=hgs.intersection(hsa_tfs)\n",
    "        if len(tfhg)>=1:\n",
    "            tfpl=gbs.get('Parliv',[])\n",
    "            if len(tfpl)>=1:\n",
    "                for g in tfpl:\n",
    "                    if not g in PlivNames: ucfn+=1 \n",
    "                    out.write(\"{}\\n\".format('\\t'.join([f,g,PlivNames.get(g,'Unk_{}'.format(ucfn)),','.join(Panther.get(g,'-')),gPos.get(g,''),','.join([HsaNames[g] for g in tfhg])])))\n",
    "                        \n",
    "            #print(f,tfhg,[HsaNames[g] for g in tfhg],tfpl,[PlivNames.get(g,'') for g in tfpl])\n",
    "    \n",
    "    "
   ]
  },
  {
   "cell_type": "code",
   "execution_count": null,
   "metadata": {},
   "outputs": [],
   "source": []
  },
  {
   "cell_type": "markdown",
   "metadata": {},
   "source": [
    "## Testing family expansions"
   ]
  },
  {
   "cell_type": "code",
   "execution_count": 8,
   "metadata": {},
   "outputs": [],
   "source": [
    "#only testing species expansion\n",
    "def fishExp(gbs,tbs):\n",
    "    cbs=dict((sp,len(gs)) for sp,gs in gbs.items())\n",
    "    med=np.median(list(cbs.values()))\n",
    "    #print(cbs,med)\n",
    "    spval={}\n",
    "    for sp,st in cbs.items():\n",
    "        nis=sum(cbs.values())-st\n",
    "        nit=sum(tbs.values())-tbs[sp]-sum(cbs.values())+st\n",
    "        odds,pval=stats.fisher_exact([[st, tbs[sp]-st], [nis, nit]],alternative='greater')\n",
    "        nmed=np.median([cbs[ssp] for ssp in cbs if not ssp==sp])\n",
    "        tmed=np.median([tbs[ssp] for ssp in tbs if not ssp==sp])\n",
    "        m_odds,m_pval=stats.fisher_exact([[st, tbs[sp]-st], [nmed, tmed]],alternative='greater')\n",
    "        #print(sp,pval,[st, tbs[sp]-st], [nis, nit],m_pval,[st, tbs[sp]-st], [nmed, tmed])\n",
    "        spval[sp]=(cbs[sp],m_pval)\n",
    "\n",
    "    return spval"
   ]
  },
  {
   "cell_type": "markdown",
   "metadata": {},
   "source": [
    "calculate number of genes per species"
   ]
  },
  {
   "cell_type": "code",
   "execution_count": 9,
   "metadata": {},
   "outputs": [],
   "source": [
    "tbs=defaultdict(int)\n",
    "for fid,gbs in Fams.items():\n",
    "    for sp in gbs:\n",
    "        tbs[sp]+=len(gbs[sp])"
   ]
  },
  {
   "cell_type": "code",
   "execution_count": 10,
   "metadata": {},
   "outputs": [
    {
     "name": "stderr",
     "output_type": "stream",
     "text": [
      "100%|██████████| 18958/18958 [01:51<00:00, 170.58it/s]\n"
     ]
    }
   ],
   "source": [
    "toosmall=0\n",
    "expRes=[]\n",
    "for fid,gbs in tqdm(Fams.items()):\n",
    "    cbs=dict((sp,len(gs)) for sp,gs in gbs.items())\n",
    "    if len(cbs.keys())<3 or sum(cbs.values())<5:\n",
    "        toosmall+=1\n",
    "        continue\n",
    "    try:\n",
    "        spval=fishExp(gbs,tbs)\n",
    "        expRes.append((fid,spval))\n",
    "    except:\n",
    "        print(fid,cbs)"
   ]
  },
  {
   "cell_type": "code",
   "execution_count": 11,
   "metadata": {},
   "outputs": [
    {
     "name": "stdout",
     "output_type": "stream",
     "text": [
      "18958 12418 6540\n"
     ]
    }
   ],
   "source": [
    "print(len(Fams),len(expRes),toosmall)"
   ]
  },
  {
   "cell_type": "code",
   "execution_count": 12,
   "metadata": {},
   "outputs": [],
   "source": [
    "spFam,spPval=defaultdict(list),defaultdict(list)\n",
    "for fid,spval in expRes:\n",
    "    for sp in spval:\n",
    "        ct,pval=spval[sp]\n",
    "        spFam[sp].append(fid)                     \n",
    "        spPval[sp].append(pval)"
   ]
  },
  {
   "cell_type": "code",
   "execution_count": 13,
   "metadata": {},
   "outputs": [
    {
     "name": "stdout",
     "output_type": "stream",
     "text": [
      "Homsap Counter({False: 8825, True: 25})\n",
      "Lytvar Counter({False: 9876, True: 45})\n",
      "Lepocu Counter({False: 8826, True: 13})\n",
      "Ptyfla Counter({False: 8711, True: 79})\n",
      "Astrub Counter({False: 9924, True: 16})\n",
      "Strpur Counter({False: 10039, True: 39})\n",
      "Nemvec Counter({False: 8420, True: 38})\n",
      "Parliv Counter({False: 10074, True: 60})\n",
      "Limpol Counter({False: 7912, True: 20})\n",
      "Cioint Counter({False: 7304, True: 9})\n",
      "Apojap Counter({False: 9052, True: 42})\n",
      "Sackow Counter({False: 9894, True: 58})\n",
      "Auraur Counter({False: 6310, True: 55})\n",
      "Linana Counter({False: 9940, True: 22})\n",
      "Patmin Counter({False: 8668, True: 35})\n",
      "Molocc Counter({False: 7662, True: 36})\n",
      "Tricas Counter({False: 7022, True: 39})\n",
      "Braflo Counter({False: 9638, True: 39})\n",
      "Captel Counter({False: 9345, True: 63})\n",
      "Bralan Counter({False: 10030, True: 43})\n",
      "Patyes Counter({False: 9626, True: 34})\n",
      "Annjap Counter({False: 9654, True: 28})\n",
      "Lotgig Counter({False: 9281, True: 27})\n",
      "Calmil Counter({False: 8628, True: 13})\n",
      "Acapla Counter({False: 9854, True: 14})\n",
      "Dromel Counter({False: 6524, True: 33})\n"
     ]
    }
   ],
   "source": [
    "famEnrich=defaultdict(dict)\n",
    "for sp in spPval:\n",
    "    #signif_pvals = sidak(spPval[sp], alpha=0.05)\n",
    "    #before_adj=['True' if p < 0.05  else 'False' for p in spPval[sp] ]\n",
    "    #1signif_pvals = lsu(np.array(spPval[sp]), q=0.05) #this is benferroni-hochberg\n",
    "    adj=multipletests(pvals=np.array(spPval[sp]), alpha=0.05, method=\"fdr_bh\")\n",
    "    print (sp,Counter(adj[0]))\n",
    "    for fam,pth,pval in zip(spFam[sp],adj[0],adj[1]):\n",
    "        famEnrich[fam][sp]=(pth,pval)\n",
    "        \n"
   ]
  },
  {
   "cell_type": "code",
   "execution_count": 11,
   "metadata": {},
   "outputs": [],
   "source": [
    "HsaNames={e[0]:e[1] for e in csv.reader(open('Hsa_mart_info.txt'),delimiter='\\t')}"
   ]
  },
  {
   "cell_type": "code",
   "execution_count": 30,
   "metadata": {},
   "outputs": [],
   "source": [
    "Panther={e[0]:e[7].split(',') for e in csv.reader(open('/Users/fmarletaz/Dropbox/Genomes/Urchin/Annotation/Pliv_genes_master_filt.txt'),delimiter='\\t')}"
   ]
  },
  {
   "cell_type": "code",
   "execution_count": null,
   "metadata": {},
   "outputs": [],
   "source": [
    "print(Panther)"
   ]
  },
  {
   "cell_type": "code",
   "execution_count": 23,
   "metadata": {},
   "outputs": [],
   "source": [
    "PlivNames={e[0]:e[1] for e in csv.reader(open('/Users/fmarletaz/Dropbox/Genomes/Urchin/Annotation/Pliv_genes_master_filt.txt'),delimiter='\\t')}"
   ]
  },
  {
   "cell_type": "code",
   "execution_count": null,
   "metadata": {},
   "outputs": [],
   "source": [
    "print(Pfam)"
   ]
  },
  {
   "cell_type": "code",
   "execution_count": 70,
   "metadata": {},
   "outputs": [],
   "source": [
    "Pfam={e[0]:e[5].split(',') for e in csv.reader(open('/Users/fmarletaz/Dropbox/Genomes/Urchin/Annotation/Pliv_genes_master_filt.txt'),delimiter='\\t')}"
   ]
  },
  {
   "cell_type": "code",
   "execution_count": 29,
   "metadata": {},
   "outputs": [],
   "source": [
    "gPos={e[3].split('.')[0]:\"{}:{}-{}\".format(e[0],e[1],e[2]) for e in csv.reader(open('/Users/fmarletaz/Dropbox/Genomes/Urchin/Paracentrotus_genome/Analyses/Architecture/Pliv_aH2p.rcl.bed'),delimiter='\\t')}"
   ]
  },
  {
   "cell_type": "code",
   "execution_count": 30,
   "metadata": {},
   "outputs": [
    {
     "name": "stdout",
     "output_type": "stream",
     "text": [
      "[('PL00001', 'Scaffold_3062:2905-5121'), ('PL00002', 'Scaffold_3062:1081-1618'), ('PL00003', 'Scaffold_1901:19325-25241'), ('PL00004', 'Scaffold_1901:7664-12225')]\n"
     ]
    }
   ],
   "source": [
    "print(list(gPos.items())[0:4])"
   ]
  },
  {
   "cell_type": "code",
   "execution_count": 82,
   "metadata": {},
   "outputs": [],
   "source": [
    "enrList=[]\n",
    "for fid,gbs in Fams.items():\n",
    "    cbs=dict((sp,len(gs)) for sp,gs in gbs.items())\n",
    "    pvl=famEnrich[fid]\n",
    "    plnm=[PlivNames.get(g,'-') for g in gbs.get('Parliv',[])]\n",
    "    plnm=[d for d in plnm if not d.startswith('unchar') and not d=='-']\n",
    "        #print(plnm)\n",
    "    hsnm=[HsaNames[g] for g in gbs.get('Homsap',[]) if g in HsaNames]\n",
    "    pfam=set(list(sum([Pfam[g] for g in gbs.get('Parliv',[]) if g in Pfam],[])))\n",
    "    #print(pfam)\n",
    "    panther=set(list(sum([Panther[g] for g in gbs.get('Parliv',[]) if g in Panther],[])))\n",
    "    enriched= [(s,p[1]) for s,p in pvl.items() if p[0]==True]\n",
    "    if len(enriched)==0:\n",
    "        continue\n",
    "    #print(enriched)\n",
    "    outList=[fid,len(cbs),sum(cbs.values()),np.median(list(cbs.values())),','.join([s for s,p in enriched]),\n",
    "            ','.join([str(cbs[s]) for s,p in enriched]),','.join(plnm),\n",
    "             ','.join(hsnm),','.join(['\\'{}\\''.format(g) for g in gbs['Parliv']]),','.join(set(panther)),','.join(set(pfam)),','.join(['{:.2e}'.format(float(p)) for s,p in enriched])]\n",
    "    enrList.append(outList)  \n",
    "        \n",
    "    "
   ]
  },
  {
   "cell_type": "code",
   "execution_count": 63,
   "metadata": {},
   "outputs": [
    {
     "name": "stdout",
     "output_type": "stream",
     "text": [
      "{'-'}\n"
     ]
    }
   ],
   "source": [
    "print(pfam)"
   ]
  },
  {
   "cell_type": "code",
   "execution_count": 83,
   "metadata": {},
   "outputs": [],
   "source": [
    "enrichPD=pd.DataFrame(enrList, columns = ['FID', 'NbSp','NbGenes','MedGeneNb','Enriched','NbEnriched','Pliv_names','Hsa_names','Pliv_id','Panther','PFAM','pvals'])  "
   ]
  },
  {
   "cell_type": "code",
   "execution_count": 84,
   "metadata": {},
   "outputs": [],
   "source": [
    "enrichPD[enrichPD.Enriched.str.contains('Parliv')].to_csv('enriched_in_Parliv.txt',sep='\\t')"
   ]
  },
  {
   "cell_type": "code",
   "execution_count": null,
   "metadata": {},
   "outputs": [],
   "source": [
    "enrichPD[enrichPD.Enriched.str.contains('Parliv')]"
   ]
  },
  {
   "cell_type": "markdown",
   "metadata": {},
   "source": [
    "## Gain and losses"
   ]
  },
  {
   "cell_type": "code",
   "execution_count": 31,
   "metadata": {},
   "outputs": [],
   "source": [
    "def checkFam(fam,spTd):\n",
    "    fid,gbs=fam\n",
    "    spset=[s for s,gbs in gbs.items() if len(gbs)>0]\n",
    "    #print(spset)\n",
    "    #print(phtyp.name)\n",
    "    #phyloCt[phtyp.name]+=1\n",
    "    #gbs[Ai]\n",
    "    #spTp=copy.deepcopy(spTd)\n",
    "    for leaf in spTd:\n",
    "        pv='1' if leaf.name in gbs else '0'\n",
    "        leaf.add_features(presence=pv)\n",
    "    phtyp=spTd.get_common_ancestor(spset) if len(spset)>1 else spT.search_nodes(name=spset[0])\n",
    "    ndesc=len([l.name for l in phtyp.get_leaves()])\n",
    "    lost=[node.name  for node in phtyp.get_monophyletic(values=['0'], target_attr=\"presence\")]\n",
    "    #print spTd.get_ascii(attributes=[\"name\",\"presence\"], show_internal=True)\n",
    "    #for node in spTd.get_monophyletic(values=['0'], target_attr=\"presence\"):\n",
    "    #    print node.name\n",
    "    #    print node.get_ascii(attributes=[\"presence\", \"name\"], show_internal=False)\n",
    "    return fid,len(gbs.keys()),ndesc,phtyp.name,lost\n",
    "\n"
   ]
  },
  {
   "cell_type": "code",
   "execution_count": 16,
   "metadata": {},
   "outputs": [],
   "source": [
    "def checkFamCounts(fam,spTd):\n",
    "    fid,cbs=fam\n",
    "    spset=[s for s,n in cbs.items() if n>0]\n",
    "    if len(spset)>1:\n",
    "        phtyp=spT.get_common_ancestor(spset)\n",
    "    else:\n",
    "        phtyp=[l for l in spT.get_leaves() if l.name==spset[0]][0]\n",
    "    #print phtyp.name\n",
    "    #phyloCt[phtyp.name]+=1\n",
    "    #gbs[Ai]\n",
    "    ndesc=len([l.name for l in phtyp.get_leaves()])\n",
    "    for leaf in spTd:\n",
    "        pv='1' if leaf.name in spset else '0'\n",
    "        leaf.add_features(presence=pv)\n",
    "    lost=[node.name  for node in phtyp.get_monophyletic(values=['0'], target_attr=\"presence\")]\n",
    "    #print spTd.get_ascii(attributes=[\"name\",\"presence\"], show_internal=True)\n",
    "    #for node in spTd.get_monophyletic(values=['0'], target_attr=\"presence\"):\n",
    "    #    print node.name\n",
    "    #    print node.get_ascii(attributes=[\"presence\", \"name\"], show_internal=False)\n",
    "    return fid,len(spset),ndesc,phtyp.name,lost\n",
    "\n",
    "\n"
   ]
  },
  {
   "cell_type": "code",
   "execution_count": 88,
   "metadata": {},
   "outputs": [
    {
     "data": {
      "text/plain": [
       "('OG_559', 25, 26, 'Eumetazoa', ['Auraur'])"
      ]
     },
     "execution_count": 88,
     "metadata": {},
     "output_type": "execute_result"
    }
   ],
   "source": [
    "checkFam(list(Fams.items())[555],spT)"
   ]
  },
  {
   "cell_type": "code",
   "execution_count": 89,
   "metadata": {},
   "outputs": [
    {
     "name": "stdout",
     "output_type": "stream",
     "text": [
      "('OG_559', defaultdict(<class 'list'>, {'Linana': ['LANA25934'], 'Bralan': ['BL04443'], 'Strpur': ['LOC592736'], 'Parliv': ['PL21635'], 'Braflo': ['BL153011'], 'Sackow': ['Sakowv30029968m'], 'Lytvar': ['L_var_26160-RA'], 'Homsap': ['ENSG00000163291'], 'Patyes': ['PY_T06293'], 'Apojap': ['BSL78_00950'], 'Limpol': ['XP_013789801', 'XP_013790183'], 'Captel': ['CapteG138960'], 'Patmin': ['PMI_028803-RA', 'PMI_014526-RA'], 'Lepocu': ['ENSLOCG00000007313'], 'Acapla': ['LOC110976640'], 'Calmil': ['SINCAMG00000004329', 'SINCAMG00000015047'], 'Lotgig': ['LotgiG144778'], 'Molocc': ['g07092'], 'Nemvec': ['NEMVEDRAFT_v1g227246'], 'Tricas': ['TC000446'], 'Dromel': ['FBgn0038256'], 'Cioint': ['ENSCING00000018091', 'ENSCING00000019528'], 'Annjap': ['LOC117103605'], 'Astrub': ['AR14388'], 'Ptyfla': ['pfl_40v0_9_20150316_1g11072']}))\n"
     ]
    }
   ],
   "source": [
    "print(list(Fams.items())[555])"
   ]
  },
  {
   "cell_type": "code",
   "execution_count": 9,
   "metadata": {},
   "outputs": [
    {
     "name": "stdout",
     "output_type": "stream",
     "text": [
      "defaultdict(<class 'list'>, {'Xentro': ['LOC100496101', 'steap1', 'LOC100145516', 'steap2', 'steap4'], 'Letjap': ['g652', 'g3360', 'g3361', 'g888'], 'Latcha': ['ENSLACG00000017667', 'ENSLACG00000003461', 'ENSLACG00000004138'], 'Petmar': ['PMZ_0030391-RA', 'PMZ_0037405-RA', 'PMZ_0040255-RA', 'PMZ_0040256-RA', 'PMZ_0032253-RA'], 'Homsap': ['ENSG00000157214', 'ENSG00000105889', 'ENSG00000164647', 'ENSG00000127954', 'ENSG00000115107'], 'Ambrad': ['XP_032869053', 'XP_032868575', 'XP_032868590', 'XP_032868581', 'XP_032880496', 'XP_032880497', 'XP_032880499', 'XP_032869019'], 'Danrer': ['ENSDARG00000075641', 'ENSDARG00000055901', 'ENSDARG00000062887'], 'Chipun': ['Chipu0000159', 'Chipu0000161', 'Chipu0000181', 'Chipu0003586'], 'Scytor': ['Scyto0004572', 'Scyto0004573', 'Scyto0012267', 'Scyto0006159'], 'Braflo': ['BF19766', 'BF27795', 'BF02799', 'BF02847'], 'Leueri': ['LE26648', 'LE27505', 'LE08360', 'LE27593'], 'Lepocu': ['ENSLOCG00000003240', 'ENSLOCG00000010512', 'ENSLOCG00000010454', 'ENSLOCG00000010448'], 'Orylat': ['ENSORLG00000008484', 'ENSORLG00000004437', 'ENSORLG00000019588'], 'Musmus': ['ENSMUSG00000026389', 'ENSMUSG00000015653', 'ENSMUSG00000012428', 'ENSMUSG00000015652'], 'Brabel': ['174630F', '110550R', '027020R', '110540R', '086370R'], 'Bralan': ['BL20101', 'BL10364', 'BL10367', 'BL95009', 'BL95008', 'BL23606'], 'Galgal': ['ENSGALG00000009006', 'ENSGALG00000012117', 'ENSGALG00000008997', 'ENSGALG00000009017'], 'Calmil': ['SINCAMG00000009029', 'SINCAMG00000009028', 'SINCAMG00000005450', 'SINCAMG00000013098']})\n"
     ]
    }
   ],
   "source": [
    "print(Fams['OG_65'])"
   ]
  },
  {
   "cell_type": "code",
   "execution_count": 32,
   "metadata": {},
   "outputs": [],
   "source": [
    "origins=defaultdict(int)\n",
    "losses=defaultdict(int)\n",
    "idGainLoss={}\n",
    "for fam in Fams.items():\n",
    "    fid,nspec,ndesc,oritax,lost=checkFam(fam,spT)\n",
    "    idGainLoss[fid]=(nspec,ndesc,oritax,lost)\n",
    "    origins[oritax]+=1\n",
    "    for tax in lost:\n",
    "        losses[tax]+=1\n",
    "        "
   ]
  },
  {
   "cell_type": "code",
   "execution_count": null,
   "metadata": {},
   "outputs": [],
   "source": [
    "for f,e in idGainLoss.items():\n",
    "    if e[2]==''"
   ]
  },
  {
   "cell_type": "code",
   "execution_count": 33,
   "metadata": {},
   "outputs": [],
   "source": [
    "spTi=copy.deepcopy(spT)\n",
    "for node in spTi.traverse(\"postorder\"):\n",
    "    #print node.name,origins[node.name],losses[node.name]\n",
    "    #node.add_features(origins=origins[node.name],losses=losses[node.name])\n",
    "    node.name=\"{0}_{1}_{2}_{3}\".format(node.name,origins[node.name],losses[node.name],totdups[node.name])"
   ]
  },
  {
   "cell_type": "code",
   "execution_count": 59,
   "metadata": {},
   "outputs": [],
   "source": [
    "spTg=copy.deepcopy(spT)\n",
    "for node in spTg.traverse(\"postorder\"):\n",
    "    #print node.name,origins[node.name],losses[node.name]\n",
    "    #node.add_features(origins=origins[node.name],losses=losses[node.name])\n",
    "    if not node.is_leaf():\n",
    "        #node.name=\"{0}_{1}_{2}_{3}\".format(node.name,origins[node.name],losses[node.name],totdups[node.name])\n",
    "        node.name=\"{0}\".format(totdups[node.name])"
   ]
  },
  {
   "cell_type": "code",
   "execution_count": 60,
   "metadata": {},
   "outputs": [
    {
     "name": "stdout",
     "output_type": "stream",
     "text": [
      "((Auraur:1,Nemvec:1)498:1,((((((Homsap:1,Lepocu:1)273:1,Calmil:1)3404:1,(Cioint:1,Molocc:1)1072:1)246:1,(Braflo:1,Bralan:1)1731:1)288:1,((Ptyfla:1,Sackow:1)1167:1,(Annjap:1,((Acapla:1,Patmin:1)1043:1,(Apojap:1,(Parliv:1,(Lytvar:1,Strpur:1)348:1)2053:1)316:1)851:1)930:1)687:1)1145:1,(((Dromel:1,Tricas:1)0:1,Limpol:1)190:1,((Lotgig:1,Patyes:1)0:1,(Captel:1,Linana:1)0:1)410:1)399:1)3748:1);\n"
     ]
    }
   ],
   "source": [
    "print(spTg.write(format=1))"
   ]
  },
  {
   "cell_type": "code",
   "execution_count": null,
   "metadata": {},
   "outputs": [],
   "source": [
    "print(spTi.get_ascii(show_internal=True))"
   ]
  },
  {
   "cell_type": "code",
   "execution_count": 91,
   "metadata": {},
   "outputs": [],
   "source": [
    "igl=[[s,len(sum(list(Fams[s].values()),[])),v[0],v[1],v[2],','.join(v[3])] for s,v in idGainLoss.items()]"
   ]
  },
  {
   "cell_type": "code",
   "execution_count": 92,
   "metadata": {},
   "outputs": [],
   "source": [
    "fidGL=pd.DataFrame(igl, columns = ['FID', 'NbGenes','NbSpecies','NbDesc','Strata','Losses'])  "
   ]
  },
  {
   "cell_type": "code",
   "execution_count": 93,
   "metadata": {},
   "outputs": [],
   "source": [
    "plnp={fid:','.join([PlivNames[g] for g in gbs.get('Parliv',[]) if g in PlivNames]) for fid,gbs in Fams.items()}"
   ]
  },
  {
   "cell_type": "code",
   "execution_count": 94,
   "metadata": {},
   "outputs": [],
   "source": [
    "plid={fid:','.join([g for g in gbs.get('Parliv',[])]) for fid,gbs in Fams.items()}"
   ]
  },
  {
   "cell_type": "code",
   "execution_count": 95,
   "metadata": {},
   "outputs": [],
   "source": [
    "hsnm={fid:','.join([HsaNames.get(g,'-') for g in gbs.get('Homsap',[])]) for fid,gbs in Fams.items()}"
   ]
  },
  {
   "cell_type": "code",
   "execution_count": 179,
   "metadata": {},
   "outputs": [],
   "source": [
    "panth={fid:','.join(set(sum([Panther.get(g,['-']) for g in gbs.get('Parliv',[])],[]))) for fid,gbs in Fams.items()}"
   ]
  },
  {
   "cell_type": "code",
   "execution_count": 178,
   "metadata": {},
   "outputs": [
    {
     "data": {
      "text/plain": [
       "['protein wnt-2']"
      ]
     },
     "execution_count": 178,
     "metadata": {},
     "output_type": "execute_result"
    }
   ],
   "source": [
    "sum([Panther.get('PL40550',['-']) for g in gbs.get('Parliv',[])],[])"
   ]
  },
  {
   "cell_type": "code",
   "execution_count": 180,
   "metadata": {},
   "outputs": [],
   "source": [
    "pfam={fid:','.join(set(sum([Pfam.get(g,['-']) for g in gbs.get('Parliv',[])],[]))) for fid,gbs in Fams.items()}"
   ]
  },
  {
   "cell_type": "code",
   "execution_count": 96,
   "metadata": {},
   "outputs": [
    {
     "data": {
      "text/plain": [
       "36"
      ]
     },
     "execution_count": 96,
     "metadata": {},
     "output_type": "execute_result"
    }
   ],
   "source": [
    "len(sum(list(Fams['OG_1'].values()),[]))"
   ]
  },
  {
   "cell_type": "code",
   "execution_count": null,
   "metadata": {},
   "outputs": [],
   "source": [
    "print(pfam)"
   ]
  },
  {
   "cell_type": "code",
   "execution_count": 97,
   "metadata": {},
   "outputs": [],
   "source": [
    "fidGL['Pliv_names']=fidGL['FID'].map(plnp) "
   ]
  },
  {
   "cell_type": "code",
   "execution_count": 98,
   "metadata": {},
   "outputs": [],
   "source": [
    "fidGL['Hsa_names']=fidGL['FID'].map(hsnm) "
   ]
  },
  {
   "cell_type": "code",
   "execution_count": 99,
   "metadata": {},
   "outputs": [],
   "source": [
    "fidGL['Pliv_ids']=fidGL['FID'].map(plid) "
   ]
  },
  {
   "cell_type": "code",
   "execution_count": 167,
   "metadata": {},
   "outputs": [],
   "source": [
    "fidGL['Duplications']=fidGL['FID'].map(dupNodes) "
   ]
  },
  {
   "cell_type": "code",
   "execution_count": 181,
   "metadata": {},
   "outputs": [],
   "source": [
    "fidGL['Panther']=fidGL['FID'].map(panth) "
   ]
  },
  {
   "cell_type": "code",
   "execution_count": 182,
   "metadata": {},
   "outputs": [],
   "source": [
    "fidGL['PFAM']=fidGL['FID'].map(pfam) "
   ]
  },
  {
   "cell_type": "code",
   "execution_count": 184,
   "metadata": {},
   "outputs": [
    {
     "data": {
      "text/html": [
       "<div>\n",
       "<style scoped>\n",
       "    .dataframe tbody tr th:only-of-type {\n",
       "        vertical-align: middle;\n",
       "    }\n",
       "\n",
       "    .dataframe tbody tr th {\n",
       "        vertical-align: top;\n",
       "    }\n",
       "\n",
       "    .dataframe thead th {\n",
       "        text-align: right;\n",
       "    }\n",
       "</style>\n",
       "<table border=\"1\" class=\"dataframe\">\n",
       "  <thead>\n",
       "    <tr style=\"text-align: right;\">\n",
       "      <th></th>\n",
       "      <th>FID</th>\n",
       "      <th>NbGenes</th>\n",
       "      <th>NbSpecies</th>\n",
       "      <th>NbDesc</th>\n",
       "      <th>Strata</th>\n",
       "      <th>Losses</th>\n",
       "      <th>Pliv_names</th>\n",
       "      <th>Hsa_names</th>\n",
       "      <th>Pliv_ids</th>\n",
       "      <th>Duplications</th>\n",
       "      <th>Panther</th>\n",
       "      <th>PFAM</th>\n",
       "    </tr>\n",
       "  </thead>\n",
       "  <tbody>\n",
       "    <tr>\n",
       "      <th>39</th>\n",
       "      <td>OG_40</td>\n",
       "      <td>11</td>\n",
       "      <td>6</td>\n",
       "      <td>24</td>\n",
       "      <td>Bilateria</td>\n",
       "      <td>Tunicata,Cephalochordata,Ptyfla,Annjap,Asteroi...</td>\n",
       "      <td></td>\n",
       "      <td>TCIRG1,ATP6V0A2</td>\n",
       "      <td></td>\n",
       "      <td>Lepocu,Vertebrata</td>\n",
       "      <td></td>\n",
       "      <td></td>\n",
       "    </tr>\n",
       "    <tr>\n",
       "      <th>43</th>\n",
       "      <td>OG_44</td>\n",
       "      <td>16</td>\n",
       "      <td>15</td>\n",
       "      <td>24</td>\n",
       "      <td>Bilateria</td>\n",
       "      <td>Homsap,Tunicata,Echinoidea,Ecdysozoa</td>\n",
       "      <td></td>\n",
       "      <td></td>\n",
       "      <td></td>\n",
       "      <td>Bilateria</td>\n",
       "      <td></td>\n",
       "      <td></td>\n",
       "    </tr>\n",
       "    <tr>\n",
       "      <th>81</th>\n",
       "      <td>OG_82</td>\n",
       "      <td>3</td>\n",
       "      <td>3</td>\n",
       "      <td>17</td>\n",
       "      <td>Deuterostomia</td>\n",
       "      <td>Vertebrata,Cioint,Cephalochordata,Sackow,Annja...</td>\n",
       "      <td></td>\n",
       "      <td></td>\n",
       "      <td></td>\n",
       "      <td>NaN</td>\n",
       "      <td></td>\n",
       "      <td></td>\n",
       "    </tr>\n",
       "    <tr>\n",
       "      <th>123</th>\n",
       "      <td>OG_124</td>\n",
       "      <td>3</td>\n",
       "      <td>3</td>\n",
       "      <td>8</td>\n",
       "      <td>Echinodermata</td>\n",
       "      <td>Acapla,Astrub,Echinoidea</td>\n",
       "      <td></td>\n",
       "      <td></td>\n",
       "      <td></td>\n",
       "      <td>NaN</td>\n",
       "      <td></td>\n",
       "      <td></td>\n",
       "    </tr>\n",
       "    <tr>\n",
       "      <th>184</th>\n",
       "      <td>OG_186</td>\n",
       "      <td>28</td>\n",
       "      <td>16</td>\n",
       "      <td>24</td>\n",
       "      <td>Bilateria</td>\n",
       "      <td>Tunicata,Asteroidea,Echinoidea</td>\n",
       "      <td></td>\n",
       "      <td>SCRN1,SCRN2,SCRN3</td>\n",
       "      <td></td>\n",
       "      <td>Captel,Limpol,Vertebrata,Bilateria,Apojap</td>\n",
       "      <td></td>\n",
       "      <td></td>\n",
       "    </tr>\n",
       "    <tr>\n",
       "      <th>...</th>\n",
       "      <td>...</td>\n",
       "      <td>...</td>\n",
       "      <td>...</td>\n",
       "      <td>...</td>\n",
       "      <td>...</td>\n",
       "      <td>...</td>\n",
       "      <td>...</td>\n",
       "      <td>...</td>\n",
       "      <td>...</td>\n",
       "      <td>...</td>\n",
       "      <td>...</td>\n",
       "      <td>...</td>\n",
       "    </tr>\n",
       "    <tr>\n",
       "      <th>17525</th>\n",
       "      <td>OG_18164</td>\n",
       "      <td>6</td>\n",
       "      <td>5</td>\n",
       "      <td>26</td>\n",
       "      <td>Eumetazoa</td>\n",
       "      <td>Nemvec,Vertebrata,Bralan,Hemichordata,Annjap,A...</td>\n",
       "      <td></td>\n",
       "      <td></td>\n",
       "      <td></td>\n",
       "      <td>NaN</td>\n",
       "      <td></td>\n",
       "      <td></td>\n",
       "    </tr>\n",
       "    <tr>\n",
       "      <th>17530</th>\n",
       "      <td>OG_18170</td>\n",
       "      <td>2</td>\n",
       "      <td>2</td>\n",
       "      <td>17</td>\n",
       "      <td>Deuterostomia</td>\n",
       "      <td>Olfactores,Bralan,Hemichordata,Annjap,Asteroid...</td>\n",
       "      <td></td>\n",
       "      <td></td>\n",
       "      <td></td>\n",
       "      <td>NaN</td>\n",
       "      <td></td>\n",
       "      <td></td>\n",
       "    </tr>\n",
       "    <tr>\n",
       "      <th>17531</th>\n",
       "      <td>OG_18171</td>\n",
       "      <td>3</td>\n",
       "      <td>2</td>\n",
       "      <td>26</td>\n",
       "      <td>Eumetazoa</td>\n",
       "      <td>Nemvec,Chordata,Hemichordata,Annjap,Asteroidea...</td>\n",
       "      <td></td>\n",
       "      <td></td>\n",
       "      <td></td>\n",
       "      <td>NaN</td>\n",
       "      <td></td>\n",
       "      <td></td>\n",
       "    </tr>\n",
       "    <tr>\n",
       "      <th>17798</th>\n",
       "      <td>OG_18459</td>\n",
       "      <td>2</td>\n",
       "      <td>2</td>\n",
       "      <td>17</td>\n",
       "      <td>Deuterostomia</td>\n",
       "      <td>Vertebrata,Cioint,Cephalochordata,Hemichordata...</td>\n",
       "      <td></td>\n",
       "      <td></td>\n",
       "      <td></td>\n",
       "      <td>NaN</td>\n",
       "      <td></td>\n",
       "      <td></td>\n",
       "    </tr>\n",
       "    <tr>\n",
       "      <th>17842</th>\n",
       "      <td>OG_18506</td>\n",
       "      <td>2</td>\n",
       "      <td>2</td>\n",
       "      <td>8</td>\n",
       "      <td>Echinodermata</td>\n",
       "      <td>Asteroidea,Echinoidea</td>\n",
       "      <td></td>\n",
       "      <td></td>\n",
       "      <td></td>\n",
       "      <td>NaN</td>\n",
       "      <td></td>\n",
       "      <td></td>\n",
       "    </tr>\n",
       "  </tbody>\n",
       "</table>\n",
       "<p>346 rows × 12 columns</p>\n",
       "</div>"
      ],
      "text/plain": [
       "            FID  NbGenes  NbSpecies  NbDesc         Strata  \\\n",
       "39        OG_40       11          6      24      Bilateria   \n",
       "43        OG_44       16         15      24      Bilateria   \n",
       "81        OG_82        3          3      17  Deuterostomia   \n",
       "123      OG_124        3          3       8  Echinodermata   \n",
       "184      OG_186       28         16      24      Bilateria   \n",
       "...         ...      ...        ...     ...            ...   \n",
       "17525  OG_18164        6          5      26      Eumetazoa   \n",
       "17530  OG_18170        2          2      17  Deuterostomia   \n",
       "17531  OG_18171        3          2      26      Eumetazoa   \n",
       "17798  OG_18459        2          2      17  Deuterostomia   \n",
       "17842  OG_18506        2          2       8  Echinodermata   \n",
       "\n",
       "                                                  Losses Pliv_names  \\\n",
       "39     Tunicata,Cephalochordata,Ptyfla,Annjap,Asteroi...              \n",
       "43                  Homsap,Tunicata,Echinoidea,Ecdysozoa              \n",
       "81     Vertebrata,Cioint,Cephalochordata,Sackow,Annja...              \n",
       "123                             Acapla,Astrub,Echinoidea              \n",
       "184                       Tunicata,Asteroidea,Echinoidea              \n",
       "...                                                  ...        ...   \n",
       "17525  Nemvec,Vertebrata,Bralan,Hemichordata,Annjap,A...              \n",
       "17530  Olfactores,Bralan,Hemichordata,Annjap,Asteroid...              \n",
       "17531  Nemvec,Chordata,Hemichordata,Annjap,Asteroidea...              \n",
       "17798  Vertebrata,Cioint,Cephalochordata,Hemichordata...              \n",
       "17842                              Asteroidea,Echinoidea              \n",
       "\n",
       "               Hsa_names Pliv_ids                               Duplications  \\\n",
       "39       TCIRG1,ATP6V0A2                                   Lepocu,Vertebrata   \n",
       "43                                                                 Bilateria   \n",
       "81                                                                       NaN   \n",
       "123                                                                      NaN   \n",
       "184    SCRN1,SCRN2,SCRN3           Captel,Limpol,Vertebrata,Bilateria,Apojap   \n",
       "...                  ...      ...                                        ...   \n",
       "17525                                                                    NaN   \n",
       "17530                                                                    NaN   \n",
       "17531                                                                    NaN   \n",
       "17798                                                                    NaN   \n",
       "17842                                                                    NaN   \n",
       "\n",
       "      Panther PFAM  \n",
       "39                  \n",
       "43                  \n",
       "81                  \n",
       "123                 \n",
       "184                 \n",
       "...       ...  ...  \n",
       "17525               \n",
       "17530               \n",
       "17531               \n",
       "17798               \n",
       "17842               \n",
       "\n",
       "[346 rows x 12 columns]"
      ]
     },
     "execution_count": 184,
     "metadata": {},
     "output_type": "execute_result"
    }
   ],
   "source": [
    "fidGL[fidGL.Losses.str.contains('Echinoidea')]#.to_csv('lost_in_osteo.txt',sep='\\t')"
   ]
  },
  {
   "cell_type": "code",
   "execution_count": 186,
   "metadata": {},
   "outputs": [
    {
     "data": {
      "text/html": [
       "<div>\n",
       "<style scoped>\n",
       "    .dataframe tbody tr th:only-of-type {\n",
       "        vertical-align: middle;\n",
       "    }\n",
       "\n",
       "    .dataframe tbody tr th {\n",
       "        vertical-align: top;\n",
       "    }\n",
       "\n",
       "    .dataframe thead th {\n",
       "        text-align: right;\n",
       "    }\n",
       "</style>\n",
       "<table border=\"1\" class=\"dataframe\">\n",
       "  <thead>\n",
       "    <tr style=\"text-align: right;\">\n",
       "      <th></th>\n",
       "      <th>FID</th>\n",
       "      <th>NbGenes</th>\n",
       "      <th>NbSpecies</th>\n",
       "      <th>NbDesc</th>\n",
       "      <th>Strata</th>\n",
       "      <th>Losses</th>\n",
       "      <th>Pliv_names</th>\n",
       "      <th>Hsa_names</th>\n",
       "      <th>Pliv_ids</th>\n",
       "      <th>Duplications</th>\n",
       "      <th>Panther</th>\n",
       "      <th>PFAM</th>\n",
       "    </tr>\n",
       "  </thead>\n",
       "  <tbody>\n",
       "    <tr>\n",
       "      <th>34</th>\n",
       "      <td>OG_35</td>\n",
       "      <td>7</td>\n",
       "      <td>7</td>\n",
       "      <td>8</td>\n",
       "      <td>Echinodermata</td>\n",
       "      <td>Apojap</td>\n",
       "      <td>unchar-8163</td>\n",
       "      <td></td>\n",
       "      <td>PL34457</td>\n",
       "      <td></td>\n",
       "      <td>subfamily not named</td>\n",
       "      <td>7tm_2</td>\n",
       "    </tr>\n",
       "    <tr>\n",
       "      <th>123</th>\n",
       "      <td>OG_124</td>\n",
       "      <td>3</td>\n",
       "      <td>3</td>\n",
       "      <td>8</td>\n",
       "      <td>Echinodermata</td>\n",
       "      <td>Acapla,Astrub,Echinoidea</td>\n",
       "      <td></td>\n",
       "      <td></td>\n",
       "      <td></td>\n",
       "      <td>NaN</td>\n",
       "      <td></td>\n",
       "      <td></td>\n",
       "    </tr>\n",
       "    <tr>\n",
       "      <th>257</th>\n",
       "      <td>OG_260</td>\n",
       "      <td>7</td>\n",
       "      <td>6</td>\n",
       "      <td>8</td>\n",
       "      <td>Echinodermata</td>\n",
       "      <td>Patmin,Parliv</td>\n",
       "      <td></td>\n",
       "      <td></td>\n",
       "      <td></td>\n",
       "      <td>Echinodermata</td>\n",
       "      <td></td>\n",
       "      <td></td>\n",
       "    </tr>\n",
       "    <tr>\n",
       "      <th>297</th>\n",
       "      <td>OG_300</td>\n",
       "      <td>3</td>\n",
       "      <td>3</td>\n",
       "      <td>8</td>\n",
       "      <td>Echinodermata</td>\n",
       "      <td>Patmin,Echinozoa</td>\n",
       "      <td></td>\n",
       "      <td></td>\n",
       "      <td></td>\n",
       "      <td>NaN</td>\n",
       "      <td></td>\n",
       "      <td></td>\n",
       "    </tr>\n",
       "    <tr>\n",
       "      <th>624</th>\n",
       "      <td>OG_629</td>\n",
       "      <td>6</td>\n",
       "      <td>3</td>\n",
       "      <td>8</td>\n",
       "      <td>Echinodermata</td>\n",
       "      <td>Patmin,Echinozoa</td>\n",
       "      <td></td>\n",
       "      <td></td>\n",
       "      <td></td>\n",
       "      <td>NaN</td>\n",
       "      <td></td>\n",
       "      <td></td>\n",
       "    </tr>\n",
       "    <tr>\n",
       "      <th>...</th>\n",
       "      <td>...</td>\n",
       "      <td>...</td>\n",
       "      <td>...</td>\n",
       "      <td>...</td>\n",
       "      <td>...</td>\n",
       "      <td>...</td>\n",
       "      <td>...</td>\n",
       "      <td>...</td>\n",
       "      <td>...</td>\n",
       "      <td>...</td>\n",
       "      <td>...</td>\n",
       "      <td>...</td>\n",
       "    </tr>\n",
       "    <tr>\n",
       "      <th>17746</th>\n",
       "      <td>OG_18403</td>\n",
       "      <td>2</td>\n",
       "      <td>2</td>\n",
       "      <td>8</td>\n",
       "      <td>Echinodermata</td>\n",
       "      <td>Acapla,Astrub,Echinozoa</td>\n",
       "      <td></td>\n",
       "      <td></td>\n",
       "      <td></td>\n",
       "      <td>NaN</td>\n",
       "      <td></td>\n",
       "      <td></td>\n",
       "    </tr>\n",
       "    <tr>\n",
       "      <th>17762</th>\n",
       "      <td>OG_18420</td>\n",
       "      <td>2</td>\n",
       "      <td>2</td>\n",
       "      <td>8</td>\n",
       "      <td>Echinodermata</td>\n",
       "      <td>Acapla,Astrub,Echinozoa</td>\n",
       "      <td></td>\n",
       "      <td></td>\n",
       "      <td></td>\n",
       "      <td>NaN</td>\n",
       "      <td></td>\n",
       "      <td></td>\n",
       "    </tr>\n",
       "    <tr>\n",
       "      <th>17764</th>\n",
       "      <td>OG_18422</td>\n",
       "      <td>2</td>\n",
       "      <td>2</td>\n",
       "      <td>8</td>\n",
       "      <td>Echinodermata</td>\n",
       "      <td>Patmin,Astrub,Echinozoa</td>\n",
       "      <td></td>\n",
       "      <td></td>\n",
       "      <td></td>\n",
       "      <td>NaN</td>\n",
       "      <td></td>\n",
       "      <td></td>\n",
       "    </tr>\n",
       "    <tr>\n",
       "      <th>17765</th>\n",
       "      <td>OG_18423</td>\n",
       "      <td>2</td>\n",
       "      <td>2</td>\n",
       "      <td>8</td>\n",
       "      <td>Echinodermata</td>\n",
       "      <td>Asteroidea,Apojap,B</td>\n",
       "      <td>unchar-705</td>\n",
       "      <td></td>\n",
       "      <td>PL32783</td>\n",
       "      <td>NaN</td>\n",
       "      <td>-</td>\n",
       "      <td>-</td>\n",
       "    </tr>\n",
       "    <tr>\n",
       "      <th>17842</th>\n",
       "      <td>OG_18506</td>\n",
       "      <td>2</td>\n",
       "      <td>2</td>\n",
       "      <td>8</td>\n",
       "      <td>Echinodermata</td>\n",
       "      <td>Asteroidea,Echinoidea</td>\n",
       "      <td></td>\n",
       "      <td></td>\n",
       "      <td></td>\n",
       "      <td>NaN</td>\n",
       "      <td></td>\n",
       "      <td></td>\n",
       "    </tr>\n",
       "  </tbody>\n",
       "</table>\n",
       "<p>104 rows × 12 columns</p>\n",
       "</div>"
      ],
      "text/plain": [
       "            FID  NbGenes  NbSpecies  NbDesc         Strata  \\\n",
       "34        OG_35        7          7       8  Echinodermata   \n",
       "123      OG_124        3          3       8  Echinodermata   \n",
       "257      OG_260        7          6       8  Echinodermata   \n",
       "297      OG_300        3          3       8  Echinodermata   \n",
       "624      OG_629        6          3       8  Echinodermata   \n",
       "...         ...      ...        ...     ...            ...   \n",
       "17746  OG_18403        2          2       8  Echinodermata   \n",
       "17762  OG_18420        2          2       8  Echinodermata   \n",
       "17764  OG_18422        2          2       8  Echinodermata   \n",
       "17765  OG_18423        2          2       8  Echinodermata   \n",
       "17842  OG_18506        2          2       8  Echinodermata   \n",
       "\n",
       "                         Losses   Pliv_names Hsa_names Pliv_ids  \\\n",
       "34                       Apojap  unchar-8163            PL34457   \n",
       "123    Acapla,Astrub,Echinoidea                                   \n",
       "257               Patmin,Parliv                                   \n",
       "297            Patmin,Echinozoa                                   \n",
       "624            Patmin,Echinozoa                                   \n",
       "...                         ...          ...       ...      ...   \n",
       "17746   Acapla,Astrub,Echinozoa                                   \n",
       "17762   Acapla,Astrub,Echinozoa                                   \n",
       "17764   Patmin,Astrub,Echinozoa                                   \n",
       "17765       Asteroidea,Apojap,B   unchar-705            PL32783   \n",
       "17842     Asteroidea,Echinoidea                                   \n",
       "\n",
       "        Duplications              Panther   PFAM  \n",
       "34                    subfamily not named  7tm_2  \n",
       "123              NaN                              \n",
       "257    Echinodermata                              \n",
       "297              NaN                              \n",
       "624              NaN                              \n",
       "...              ...                  ...    ...  \n",
       "17746            NaN                              \n",
       "17762            NaN                              \n",
       "17764            NaN                              \n",
       "17765            NaN                    -      -  \n",
       "17842            NaN                              \n",
       "\n",
       "[104 rows x 12 columns]"
      ]
     },
     "execution_count": 186,
     "metadata": {},
     "output_type": "execute_result"
    }
   ],
   "source": [
    "fidGL[fidGL.Strata.str.contains('Echinodermata')]#.to_csv('novel_in_echinoidea.txt',sep='\\t')"
   ]
  },
  {
   "cell_type": "code",
   "execution_count": null,
   "metadata": {},
   "outputs": [],
   "source": [
    "fidGL[fidGL.Losses.str.contains('Osteichthyes')]#.to_csv('lost_in_osteo.txt',sep='\\t')"
   ]
  },
  {
   "cell_type": "code",
   "execution_count": 187,
   "metadata": {},
   "outputs": [],
   "source": [
    "fidGL.to_csv('all_families_gain_loss.txt',sep='\\t')"
   ]
  },
  {
   "cell_type": "code",
   "execution_count": null,
   "metadata": {},
   "outputs": [],
   "source": [
    "gpos="
   ]
  },
  {
   "cell_type": "markdown",
   "metadata": {},
   "source": [
    "## Duplications "
   ]
  },
  {
   "cell_type": "code",
   "execution_count": 1,
   "metadata": {},
   "outputs": [],
   "source": [
    "def decoTree(t,outtax=['Nemvec','Auraur']):\n",
    "    for l in t:\n",
    "        sp,gid=l.name.split('_',1)\n",
    "        gid=gid.split('.')[0]\n",
    "        l.add_features(species=sp,gid=gid)\n",
    "    #first, reset rooting with mid-point rooting\n",
    "    R = t.get_midpoint_outgroup()\n",
    "    t.set_outgroup(R)\n",
    "    #then root with deuterostome ancestor\n",
    "    sot=[l for l in t if l.species in outtax] \n",
    "    if len(sot)>0:\n",
    "        anc=t.get_common_ancestor(sot)\n",
    "        if not anc==t:\n",
    "            t.set_outgroup(anc)\n",
    "    return t"
   ]
  },
  {
   "cell_type": "code",
   "execution_count": 2,
   "metadata": {},
   "outputs": [],
   "source": [
    "def age(node,sptr):\n",
    "    tsp=list(set([lf.species for lf in node]))\n",
    "    if len(tsp)==1:\n",
    "        return tsp[0]\n",
    "    else:\n",
    "        tanc=sptr.get_common_ancestor(tsp).name\n",
    "        return tanc"
   ]
  },
  {
   "cell_type": "code",
   "execution_count": 5,
   "metadata": {},
   "outputs": [],
   "source": [
    "rTrees={}\n",
    "nclgbfl=[]\n",
    "strees={}\n",
    "nexcl=0\n",
    "for l in open('urch_rec.trees'):\n",
    "    o,ts=l.strip().split(':',1)\n",
    "    og=o.split('/')[-1].rsplit('_',1)[0]\n",
    "    #print(og)\n",
    "    strees[og]=ts\n",
    "    t=Tree(ts, format=1)\n",
    "    try:\n",
    "        t=decoTree(t)\n",
    "        spl=list(set([l.species for l in t]))\n",
    "    #print(spl)\n",
    "        if len(spl)<3:\n",
    "            nexcl+=1\n",
    "            continue\n",
    "        rTrees[og]=t\n",
    "    except:\n",
    "        print(\"troubles with {}\".format(og))"
   ]
  },
  {
   "cell_type": "code",
   "execution_count": 8,
   "metadata": {},
   "outputs": [
    {
     "name": "stdout",
     "output_type": "stream",
     "text": [
      "0 11274\n"
     ]
    }
   ],
   "source": [
    "print(nexcl,len(rTrees))"
   ]
  },
  {
   "cell_type": "code",
   "execution_count": 36,
   "metadata": {},
   "outputs": [],
   "source": [
    "dupNodes={}\n",
    "totdups=defaultdict(int)\n",
    "for f,st in rTrees.items():\n",
    "    dupnds=[sst for sst in st.search_nodes(D='Y')]\n",
    "    ages=[age(n,spT) for n in dupnds]\n",
    "    for a in list(set(ages)):\n",
    "        totdups[a]+=1\n",
    "    dupNodes[f]=','.join(list(set(ages)))\n",
    "    #print(f,dupnds,ages)"
   ]
  },
  {
   "cell_type": "code",
   "execution_count": 37,
   "metadata": {},
   "outputs": [
    {
     "name": "stdout",
     "output_type": "stream",
     "text": [
      "defaultdict(<class 'int'>, {'Asteroidea': 1043, 'Patmin': 5815, 'Eumetazoa': 2452, 'Nemvec': 2275, 'Parliv': 1548, 'Echinoidea': 2053, 'Strpur': 2827, 'Limpol': 3706, 'Vertebrata': 3404, 'Spiralia': 410, 'Ecdysozoa': 190, 'Osteichthyes': 273, 'Cephalochordata': 1731, 'Apojap': 3845, 'Sackow': 1558, 'Annjap': 1542, 'Lotgig': 1285, 'Homsap': 1310, 'Bilateria': 3748, 'Ptyfla': 2242, 'Echinodermata': 930, 'Calmil': 410, 'Braflo': 939, 'Molocc': 1824, 'Captel': 2070, 'Deuterostomia': 1145, 'Acapla': 524, 'Bralan': 1466, 'Dromel': 740, 'Auraur': 1311, 'Hemichordata': 1167, 'Lytvar': 2379, 'Tunicata': 1072, 'Ambulacraria': 687, 'Cioint': 778, 'Chordata': 288, 'Olfactores': 246, 'Eleutherozoa': 851, 'Protostomia': 399, 'Lepocu': 434, 'Cnidaria': 498, 'Echinozoa': 316, 'B': 348})\n"
     ]
    }
   ],
   "source": [
    "print(totdups)"
   ]
  },
  {
   "cell_type": "code",
   "execution_count": 13,
   "metadata": {},
   "outputs": [],
   "source": [
    "dupNodes={}\n",
    "dupEchG=defaultdict(set)\n",
    "totdups=defaultdict(int)\n",
    "for f,st in rTrees.items():\n",
    "    #dupnds=[sst for sst in st.search_nodes(D='Y')]\n",
    "    for n in st.search_nodes(D='Y'):\n",
    "        a=age(n,spT)\n",
    "        if a=='Echinoidea':\n",
    "            for l in n.search_nodes(species='Parliv'):\n",
    "                dupEchG[f].add(l.name.split('_',1)[1])\n",
    "\n",
    "    \n",
    "    \n",
    "\n"
   ]
  },
  {
   "cell_type": "code",
   "execution_count": 14,
   "metadata": {},
   "outputs": [
    {
     "name": "stdout",
     "output_type": "stream",
     "text": [
      "2053\n"
     ]
    }
   ],
   "source": [
    "print(len(dupEchG))"
   ]
  },
  {
   "cell_type": "code",
   "execution_count": 15,
   "metadata": {},
   "outputs": [
    {
     "name": "stdout",
     "output_type": "stream",
     "text": [
      "2.0\n"
     ]
    }
   ],
   "source": [
    "print(np.median([len(g) for f,g in dupEchG.items()]))"
   ]
  },
  {
   "cell_type": "code",
   "execution_count": null,
   "metadata": {},
   "outputs": [],
   "source": [
    "with open('dups_Echinoidea')for g in dupEchG:\n",
    "    "
   ]
  },
  {
   "cell_type": "code",
   "execution_count": 13,
   "metadata": {},
   "outputs": [
    {
     "name": "stdout",
     "output_type": "stream",
     "text": [
      "[('OG_1000', 'Valvatida,Patmin'), ('OG_10011', 'Nemvec,Eumetazoa'), ('OG_10015', 'Echinoidea,Parliv,Strpur'), ('OG_1001', 'Spiralia,Ecdysozoa,Limpol,Vertebrata,Patmin,Cephalochordata,Osteichthyes'), ('OG_10027', 'Apojap,Sackow,Limpol')]\n"
     ]
    }
   ],
   "source": [
    "print(list(dupNodes.items())[0:5])"
   ]
  },
  {
   "cell_type": "code",
   "execution_count": 16,
   "metadata": {},
   "outputs": [
    {
     "ename": "NameError",
     "evalue": "name 'gene2mod' is not defined",
     "output_type": "error",
     "traceback": [
      "\u001b[0;31m---------------------------------------------------------------------------\u001b[0m",
      "\u001b[0;31mNameError\u001b[0m                                 Traceback (most recent call last)",
      "\u001b[0;32m<ipython-input-16-bcd1ec658eac>\u001b[0m in \u001b[0;36m<module>\u001b[0;34m\u001b[0m\n\u001b[1;32m      6\u001b[0m         \u001b[0manc\u001b[0m\u001b[0;34m=\u001b[0m\u001b[0mage\u001b[0m\u001b[0;34m(\u001b[0m\u001b[0mst\u001b[0m\u001b[0;34m.\u001b[0m\u001b[0mget_common_ancestor\u001b[0m\u001b[0;34m(\u001b[0m\u001b[0;34m[\u001b[0m\u001b[0mg1\u001b[0m\u001b[0;34m,\u001b[0m\u001b[0mg2\u001b[0m\u001b[0;34m]\u001b[0m\u001b[0;34m)\u001b[0m\u001b[0;34m,\u001b[0m\u001b[0mspT\u001b[0m\u001b[0;34m)\u001b[0m\u001b[0;34m\u001b[0m\u001b[0;34m\u001b[0m\u001b[0m\n\u001b[1;32m      7\u001b[0m         \u001b[0mgi1\u001b[0m\u001b[0;34m,\u001b[0m\u001b[0mgi2\u001b[0m\u001b[0;34m=\u001b[0m\u001b[0mg1\u001b[0m\u001b[0;34m.\u001b[0m\u001b[0msplit\u001b[0m\u001b[0;34m(\u001b[0m\u001b[0;34m'_'\u001b[0m\u001b[0;34m,\u001b[0m\u001b[0;36m1\u001b[0m\u001b[0;34m)\u001b[0m\u001b[0;34m[\u001b[0m\u001b[0;36m1\u001b[0m\u001b[0;34m]\u001b[0m\u001b[0;34m,\u001b[0m\u001b[0mg2\u001b[0m\u001b[0;34m.\u001b[0m\u001b[0msplit\u001b[0m\u001b[0;34m(\u001b[0m\u001b[0;34m'_'\u001b[0m\u001b[0;34m,\u001b[0m\u001b[0;36m1\u001b[0m\u001b[0;34m)\u001b[0m\u001b[0;34m[\u001b[0m\u001b[0;36m1\u001b[0m\u001b[0;34m]\u001b[0m\u001b[0;34m\u001b[0m\u001b[0;34m\u001b[0m\u001b[0m\n\u001b[0;32m----> 8\u001b[0;31m         \u001b[0mm1\u001b[0m\u001b[0;34m,\u001b[0m\u001b[0mm2\u001b[0m\u001b[0;34m=\u001b[0m\u001b[0mgene2mod\u001b[0m\u001b[0;34m.\u001b[0m\u001b[0mget\u001b[0m\u001b[0;34m(\u001b[0m\u001b[0mgi1\u001b[0m\u001b[0;34m,\u001b[0m\u001b[0;34m'-'\u001b[0m\u001b[0;34m)\u001b[0m\u001b[0;34m,\u001b[0m\u001b[0mgene2mod\u001b[0m\u001b[0;34m.\u001b[0m\u001b[0mget\u001b[0m\u001b[0;34m(\u001b[0m\u001b[0mgi2\u001b[0m\u001b[0;34m,\u001b[0m\u001b[0;34m'-'\u001b[0m\u001b[0;34m)\u001b[0m\u001b[0;34m\u001b[0m\u001b[0;34m\u001b[0m\u001b[0m\n\u001b[0m\u001b[1;32m      9\u001b[0m         \u001b[0mprint\u001b[0m\u001b[0;34m(\u001b[0m\u001b[0mf\u001b[0m\u001b[0;34m,\u001b[0m\u001b[0mg1\u001b[0m\u001b[0;34m,\u001b[0m\u001b[0mg2\u001b[0m\u001b[0;34m,\u001b[0m\u001b[0mPlivNames\u001b[0m\u001b[0;34m.\u001b[0m\u001b[0mget\u001b[0m\u001b[0;34m(\u001b[0m\u001b[0mgi1\u001b[0m\u001b[0;34m,\u001b[0m\u001b[0;34m'-'\u001b[0m\u001b[0;34m)\u001b[0m\u001b[0;34m,\u001b[0m\u001b[0mPlivNames\u001b[0m\u001b[0;34m.\u001b[0m\u001b[0mget\u001b[0m\u001b[0;34m(\u001b[0m\u001b[0mgi2\u001b[0m\u001b[0;34m,\u001b[0m\u001b[0;34m'-'\u001b[0m\u001b[0;34m)\u001b[0m\u001b[0;34m,\u001b[0m\u001b[0mm1\u001b[0m\u001b[0;34m,\u001b[0m\u001b[0mm2\u001b[0m\u001b[0;34m,\u001b[0m\u001b[0mmoddesc\u001b[0m\u001b[0;34m.\u001b[0m\u001b[0mget\u001b[0m\u001b[0;34m(\u001b[0m\u001b[0mm1\u001b[0m\u001b[0;34m,\u001b[0m\u001b[0;34m'-'\u001b[0m\u001b[0;34m)\u001b[0m\u001b[0;34m,\u001b[0m\u001b[0mmoddesc\u001b[0m\u001b[0;34m.\u001b[0m\u001b[0mget\u001b[0m\u001b[0;34m(\u001b[0m\u001b[0mm2\u001b[0m\u001b[0;34m,\u001b[0m\u001b[0;34m'-'\u001b[0m\u001b[0;34m)\u001b[0m\u001b[0;34m,\u001b[0m\u001b[0manc\u001b[0m\u001b[0;34m)\u001b[0m\u001b[0;34m\u001b[0m\u001b[0;34m\u001b[0m\u001b[0m\n\u001b[1;32m     10\u001b[0m \u001b[0;34m\u001b[0m\u001b[0m\n",
      "\u001b[0;31mNameError\u001b[0m: name 'gene2mod' is not defined"
     ]
    }
   ],
   "source": [
    "i=0\n",
    "for f,st in rTrees.items():\n",
    "    pliv=[sst.name for sst in st.search_nodes(species='Parliv')]\n",
    "    if len(pliv)<2: continue\n",
    "    for g1,g2 in list(combinations(pliv,2)):\n",
    "        anc=age(st.get_common_ancestor([g1,g2]),spT)\n",
    "        gi1,gi2=g1.split('_',1)[1],g2.split('_',1)[1]\n",
    "        m1,m2=gene2mod.get(gi1,'-'),gene2mod.get(gi2,'-')\n",
    "        print(f,g1,g2,PlivNames.get(gi1,'-'),PlivNames.get(gi2,'-'),m1,m2,moddesc.get(m1,'-'),moddesc.get(m2,'-'),anc)\n",
    "        \n",
    "    i+=1\n",
    "    #ages=[age(n,spT) for n in dupnds]\n",
    "    #for a in list(set(ages)):\n",
    "    #    totdups[a]+=1\n",
    "    #dupNodes[f]=','.join(list(set(ages)))\n",
    "    #print(f,dupnds,ages)\n",
    "    if i==20: break"
   ]
  },
  {
   "cell_type": "code",
   "execution_count": 127,
   "metadata": {},
   "outputs": [
    {
     "name": "stdout",
     "output_type": "stream",
     "text": [
      "\n",
      "                     /-Lytvar_L_var_25220-RA, N\n",
      "                /70, N\n",
      "               |    |      /-Strpur_LOC589280, N\n",
      "           /66, N    \\n11, Y\n",
      "          |    |           \\-Strpur_LOC115923326, N\n",
      "          |    |\n",
      "          |     \\-Parliv_PL20127, N\n",
      "          |\n",
      "      /95, Y              /-Parliv_PL19596, N\n",
      "     |    |          /67, Y\n",
      "     |    |         |     \\-Parliv_PL20177, N\n",
      "     |    |     /17, Y\n",
      "     |    |    |    |      /-Parliv_PL37751, N\n",
      "     |    |    |     \\100, Y\n",
      "-n73, N    \\29, N          \\-Parliv_PL19959, N\n",
      "     |         |\n",
      "     |         |     /-Lytvar_L_var_25221-RA, N\n",
      "     |          \\49, N\n",
      "     |               \\-Strpur_LOC763046, N\n",
      "     |\n",
      "      \\-Auraur_scaffold1886_g2, N\n"
     ]
    }
   ],
   "source": [
    "print(rTrees['OG_10015'].get_ascii(attributes=[\"name\",\"D\"], show_internal=True))"
   ]
  },
  {
   "cell_type": "code",
   "execution_count": 17,
   "metadata": {},
   "outputs": [],
   "source": [
    "i=0\n",
    "gDupAge={}\n",
    "for f,st in rTrees.items():\n",
    "    #print(f)\n",
    "    pliv=[sst.name for sst in st.search_nodes(species='Parliv')]\n",
    "    for l in st.search_nodes(species=\"Parliv\"):\n",
    "        gid=l.name.split('_',1)[1]\n",
    "        gda='PreMet'\n",
    "        #gda=['PreMet']\n",
    "        for n in l.iter_ancestors():\n",
    "            if n.D=='Y':\n",
    "                gda=age(n,spT)\n",
    "                break\n",
    "        gDupAge[gid]=gda\n",
    "    i+=1\n",
    "    #ages=[age(n,spT) for n in dupnds]\n",
    "    #for a in list(set(ages)):\n",
    "    #    totdups[a]+=1\n",
    "    #dupNodes[f]=','.join(list(set(ages)))\n",
    "    #print(f,dupnds,ages)\n",
    "    #if i==3: break    \n",
    "#print(Counter(gDupAge.values()))"
   ]
  },
  {
   "cell_type": "code",
   "execution_count": 18,
   "metadata": {},
   "outputs": [
    {
     "name": "stdout",
     "output_type": "stream",
     "text": [
      "Counter({'Parliv': 7594, 'Echinoidea': 4374, 'PreMet': 3097, 'Bilateria': 1949, 'Eumetazoa': 872, 'Eleutherozoa': 648, 'Echinodermata': 633, 'Deuterostomia': 555, 'Ambulacraria': 415, 'Echinozoa': 255})\n"
     ]
    }
   ],
   "source": [
    "print(Counter(gDupAge.values()))"
   ]
  },
  {
   "cell_type": "code",
   "execution_count": 25,
   "metadata": {},
   "outputs": [],
   "source": [
    "selDupCl=['PreMet','Eumetazoa','Bilateria','Deuterostomia','Echinodermata','Ambulacraria','Eleutherozoa','Echinozoa','Echinoidea','Parliv']"
   ]
  },
  {
   "cell_type": "code",
   "execution_count": 26,
   "metadata": {},
   "outputs": [],
   "source": [
    "i=0\n",
    "gDupAge={}\n",
    "fgd={}\n",
    "for f,st in rTrees.items():\n",
    "    #print(f)\n",
    "    pliv=[sst.name for sst in st.search_nodes(species='Parliv')]\n",
    "    for l in st.search_nodes(species=\"Parliv\"):\n",
    "        gid=l.name.split('_',1)[1]\n",
    "        #gda='PreMet'\n",
    "        gda=['PreMet']\n",
    "        for n in l.iter_ancestors():\n",
    "            if n.D=='Y':\n",
    "                #print(n.name,n.D,age(n,spT))\n",
    "                gda.append(age(n,spT))\n",
    "                \n",
    "        gDupAge[gid]=[1 if c in gda else 0 for c in selDupCl]\n",
    "        fgd[gid]=f \n",
    "    i+=1\n",
    "    #ages=[age(n,spT) for n in dupnds]\n",
    "    #for a in list(set(ages)):\n",
    "    #    totdups[a]+=1\n",
    "    #dupNodes[f]=','.join(list(set(ages)))\n",
    "    #print(f,dupnds,ages)\n",
    "    #if i==3: break    \n",
    "#print(Counter(gDupAge.values()))"
   ]
  },
  {
   "cell_type": "code",
   "execution_count": 27,
   "metadata": {},
   "outputs": [],
   "source": [
    "gbd=defaultdict(list)\n",
    "for g in gDupAge:\n",
    "    d=gDupAge[g]\n",
    "    if d[-1]==0 and d[-2]==1:\n",
    "        if not g in fgd: continue\n",
    "        gbd[fgd[g]].append(g)\n",
    "        #print(fgd[g],g,gPos.get(g,''),d)\n"
   ]
  },
  {
   "cell_type": "code",
   "execution_count": null,
   "metadata": {},
   "outputs": [],
   "source": [
    "dupEchG"
   ]
  },
  {
   "cell_type": "code",
   "execution_count": 58,
   "metadata": {},
   "outputs": [],
   "source": [
    "dists=[]\n",
    "nscafs=[]\n",
    "ngsc,ngt=0,0\n",
    "i=0\n",
    "for f in dupEchG:\n",
    "    if len(dupEchG[f])>=2:\n",
    "        i+=1\n",
    "        pos=[gPos[g] for g in dupEchG[f]]\n",
    "        scaf=[s.split(':')[0] for s in pos]\n",
    "        for s,c in Counter(scaf).items():\n",
    "            if c>=2:\n",
    "                ngsc+=1 \n",
    "        ngt+=sum(Counter(scaf).values())\n",
    "        stp=[int(s.split(':')[1].split('-')[0]) for s in pos]\n",
    "        if len(set(scaf))==1:\n",
    "            d=max([abs(m2-m1) for m1,m2 in combinations(stp,2)])\n",
    "            dists.append(d)\n",
    "        nscafs.append(len(set(scaf)))\n",
    "        #print(f,gbd[f],pos,stp,d)\n",
    "        #if i==30: break"
   ]
  },
  {
   "cell_type": "code",
   "execution_count": null,
   "metadata": {},
   "outputs": [],
   "source": [
    "dupNodes={}\n",
    "totdups=defaultdict(int)\n",
    "for f,st in rTrees.items():\n",
    "    dupnds=[sst for sst in st.search_nodes(D='Y')]\n",
    "    ages=[age(n,spT) for n in dupnds]\n",
    "    for a in list(set(ages)):\n",
    "        totdups[a]+=1\n",
    "    dupNodes[f]=','.join(list(set(ages)))\n",
    "    #print(f,dupnds,ages)"
   ]
  },
  {
   "cell_type": "code",
   "execution_count": 55,
   "metadata": {},
   "outputs": [
    {
     "name": "stdout",
     "output_type": "stream",
     "text": [
      "1136 3621\n"
     ]
    }
   ],
   "source": [
    "print(951)"
   ]
  },
  {
   "cell_type": "code",
   "execution_count": 59,
   "metadata": {},
   "outputs": [
    {
     "name": "stdout",
     "output_type": "stream",
     "text": [
      "Counter({1: 951, 2: 274, 3: 112, 4: 61, 5: 43, 6: 25, 8: 24, 7: 19, 11: 13, 12: 11, 9: 11, 10: 6, 17: 4, 13: 3, 16: 3, 26: 2, 24: 2, 21: 2, 15: 2, 18: 1, 14: 1, 46: 1, 33: 1, 41: 1, 30: 1, 31: 1}) 1939\n"
     ]
    }
   ],
   "source": [
    "print(Counter(nscafs),len(gbd))"
   ]
  },
  {
   "cell_type": "code",
   "execution_count": 61,
   "metadata": {},
   "outputs": [
    {
     "name": "stdout",
     "output_type": "stream",
     "text": [
      "703\n"
     ]
    }
   ],
   "source": [
    "print(len([d for d in dists if d<100000]))"
   ]
  },
  {
   "cell_type": "code",
   "execution_count": 62,
   "metadata": {},
   "outputs": [
    {
     "name": "stdout",
     "output_type": "stream",
     "text": [
      "0.36255801959773076\n"
     ]
    }
   ],
   "source": [
    "print(703/1939)"
   ]
  },
  {
   "cell_type": "code",
   "execution_count": 49,
   "metadata": {},
   "outputs": [],
   "source": [
    "with open('dups_classif.tsv','w') as out:\n",
    "    out.write('fid\\tgid\\t{}\\n'.format('\\t'.join(selDupCl)))\n",
    "    for g in gDupAge:\n",
    "        out.write('{}\\t{}\\t{}\\t{}\\n'.format(fgd[g],g,'\\t'.join(map(str,gDupAge[g])),gPos.get(g,'')))\n",
    "        \n",
    "        \n",
    "        \n",
    "    "
   ]
  },
  {
   "cell_type": "code",
   "execution_count": 83,
   "metadata": {},
   "outputs": [
    {
     "name": "stdout",
     "output_type": "stream",
     "text": [
      "[('PL09166', [1, 0, 0, 0, 0, 0, 0, 0, 0, 0]), ('PL20127', [1, 0, 0, 0, 0, 0, 0, 0, 1, 0]), ('PL19596', [1, 0, 0, 0, 0, 0, 0, 0, 1, 1]), ('PL20177', [1, 0, 0, 0, 0, 0, 0, 0, 1, 1]), ('PL37751', [1, 0, 0, 0, 0, 0, 0, 0, 1, 1])]\n"
     ]
    }
   ],
   "source": [
    "print(list(gDupAge.items())[0:5])"
   ]
  },
  {
   "cell_type": "markdown",
   "metadata": {},
   "source": [
    "## Importing WGCNA information"
   ]
  },
  {
   "cell_type": "code",
   "execution_count": 33,
   "metadata": {},
   "outputs": [],
   "source": [
    "gene2mod={}\n",
    "mod2gene={}\n",
    "for f in glob(\"/Users/fmarletaz/Dropbox/Genomes/Urchin/Annotation/Pliv_WGCNA_log2fpkm1/test2.2_filtered_gene_models_less_clusters/Genes_in_Modules/modules_genes/*.txt\"):\n",
    "    mod=f.split('/')[-1].split('.')[0]\n",
    "    genes=[]\n",
    "    for l in open(f):\n",
    "        gene2mod[l.strip()]=mod\n",
    "        genes.append(l.strip())\n",
    "    mod2gene[mod]=genes  \n",
    "    "
   ]
  },
  {
   "cell_type": "code",
   "execution_count": 34,
   "metadata": {},
   "outputs": [],
   "source": [
    "moddesc={}\n",
    "for l in open(\"/Users/fmarletaz/Dropbox/Genomes/Urchin/Annotation/Pliv_WGCNA_log2fpkm1/test2.2_filtered_gene_models_less_clusters/cluster_desc.txt\"):\n",
    "    mod,desc=l.strip().split()\n",
    "    moddesc[mod]=desc"
   ]
  },
  {
   "cell_type": "code",
   "execution_count": 35,
   "metadata": {},
   "outputs": [
    {
     "data": {
      "text/plain": [
       "'larva_adult_no_ovary'"
      ]
     },
     "execution_count": 35,
     "metadata": {},
     "output_type": "execute_result"
    }
   ],
   "source": [
    "moddesc['maroon']"
   ]
  },
  {
   "cell_type": "code",
   "execution_count": 48,
   "metadata": {},
   "outputs": [],
   "source": [
    "modstra=[]\n",
    "gbstr={}\n",
    "for m in mod2gene:\n",
    "    cnts=Counter([genephylo.get(g,'Parliv') for g in mod2gene[m]])\n",
    "    gbstr[m]={c:cnts[c] for c in selclades}\n",
    "    modstra.append([m,moddesc[m]]+[cnts[c] for c in selclades])"
   ]
  },
  {
   "cell_type": "code",
   "execution_count": 73,
   "metadata": {},
   "outputs": [],
   "source": [
    "moddupa=[]\n",
    "gbdpa={}\n",
    "for m in mod2gene:\n",
    "    cnts=Counter([gDupAge.get(g,'Parliv') for g in mod2gene[m]])\n",
    "    gbdpa[m]={c:cnts[c] for c in selclades}\n",
    "    moddupa.append([m,moddesc[m]]+[cnts[c] for c in selclades])"
   ]
  },
  {
   "cell_type": "code",
   "execution_count": null,
   "metadata": {},
   "outputs": [],
   "source": [
    "moddupa"
   ]
  },
  {
   "cell_type": "code",
   "execution_count": null,
   "metadata": {},
   "outputs": [],
   "source": [
    "modstra #['grey60', 'blastula_gastrula_pluteus_not_prism', 409, 40, 3, 1, 1, 1, 0, 9]"
   ]
  },
  {
   "cell_type": "markdown",
   "metadata": {},
   "source": [
    "#### Hyp\u001c",
    "ergeometric test on origin (strata) age"
   ]
  },
  {
   "cell_type": "code",
   "execution_count": null,
   "metadata": {},
   "outputs": [],
   "source": [
    "M=26054\n",
    "n=tbc['Ambulacraria']\n",
    "N=len()\n",
    "stats.scipy.stats.hypergeom(M, n, N)"
   ]
  },
  {
   "cell_type": "code",
   "execution_count": 157,
   "metadata": {},
   "outputs": [
    {
     "data": {
      "text/plain": [
       "26054"
      ]
     },
     "execution_count": 157,
     "metadata": {},
     "output_type": "execute_result"
    }
   ],
   "source": [
    "sum([sum(e.values()) for e in gbstr.values()])\n"
   ]
  },
  {
   "cell_type": "code",
   "execution_count": 49,
   "metadata": {},
   "outputs": [],
   "source": [
    "tbc=defaultdict(int)\n",
    "for e in gbstr.values():\n",
    "    for c in selclades:\n",
    "        tbc[c]+=e[c]"
   ]
  },
  {
   "cell_type": "code",
   "execution_count": 53,
   "metadata": {},
   "outputs": [],
   "source": [
    "hypres=[]\n",
    "for m,e in gbstr.items():\n",
    "    pv=[]\n",
    "    #print(e)\n",
    "    for c in selclades:\n",
    "        hpd=stats.hypergeom(26054, tbc[c],sum(e.values()))\n",
    "        pv.append(hpd.pmf(e[c]))\n",
    "    hypres.append([m,moddesc[m]]+pv)\n",
    "    "
   ]
  },
  {
   "cell_type": "code",
   "execution_count": 54,
   "metadata": {},
   "outputs": [],
   "source": [
    "modstrati=pd.DataFrame(modstra, columns = ['mod', 'mod_desc']+selclades)  "
   ]
  },
  {
   "cell_type": "code",
   "execution_count": 55,
   "metadata": {},
   "outputs": [],
   "source": [
    "modstrati.to_csv('strati_wgcna_nb.txt',sep='\\t')"
   ]
  },
  {
   "cell_type": "code",
   "execution_count": 56,
   "metadata": {},
   "outputs": [],
   "source": [
    "modstratihyp=pd.DataFrame(hypres, columns = ['mod', 'mod_desc']+selclades)  "
   ]
  },
  {
   "cell_type": "code",
   "execution_count": 57,
   "metadata": {},
   "outputs": [],
   "source": [
    "modstratihyp.to_csv('strati_wgcna_phyp.txt',sep='\\t')"
   ]
  },
  {
   "cell_type": "markdown",
   "metadata": {},
   "source": [
    "#### Hypergeometric test on duplication ages"
   ]
  },
  {
   "cell_type": "code",
   "execution_count": 62,
   "metadata": {},
   "outputs": [
    {
     "data": {
      "text/plain": [
       "31313"
      ]
     },
     "execution_count": 62,
     "metadata": {},
     "output_type": "execute_result"
    }
   ],
   "source": [
    "sum([sum(e.values()) for e in gbdpa.values()])\n",
    "\n"
   ]
  },
  {
   "cell_type": "code",
   "execution_count": 74,
   "metadata": {},
   "outputs": [],
   "source": [
    "tbd=defaultdict(int)\n",
    "for e in gbdpa.values():\n",
    "    for c in selclades:\n",
    "        tbd[c]+=e[c]"
   ]
  },
  {
   "cell_type": "code",
   "execution_count": 75,
   "metadata": {},
   "outputs": [],
   "source": [
    "hypresa=[]\n",
    "for m,e in gbdpa.items():\n",
    "    pv=[]\n",
    "    #print(e)\n",
    "    for c in selclades:\n",
    "        hpd=stats.hypergeom(31313, tbd[c],sum(e.values()))\n",
    "        pv.append(hpd.pmf(e[c]))\n",
    "    hypresa.append([m,moddesc[m]]+pv)"
   ]
  },
  {
   "cell_type": "code",
   "execution_count": 76,
   "metadata": {},
   "outputs": [],
   "source": [
    "selclades=['Eumetazoa','Bilateria','Deuterostomia','Ambulacraria', 'Echinodermata','Eleutherozoa','Echinozoa','Echinoidea','Parliv']"
   ]
  },
  {
   "cell_type": "code",
   "execution_count": 77,
   "metadata": {},
   "outputs": [
    {
     "data": {
      "text/plain": [
       "defaultdict(int,\n",
       "            {'Eumetazoa': 850,\n",
       "             'Bilateria': 1938,\n",
       "             'Deuterostomia': 543,\n",
       "             'Ambulacraria': 404,\n",
       "             'Echinodermata': 613,\n",
       "             'Eleutherozoa': 637,\n",
       "             'Echinozoa': 238,\n",
       "             'Echinoidea': 4276,\n",
       "             'Parliv': 18748})"
      ]
     },
     "execution_count": 77,
     "metadata": {},
     "output_type": "execute_result"
    }
   ],
   "source": [
    "tbd"
   ]
  },
  {
   "cell_type": "code",
   "execution_count": 78,
   "metadata": {},
   "outputs": [],
   "source": [
    "modduplage=pd.DataFrame(moddupa, columns = ['mod', 'mod_desc']+selclades)"
   ]
  },
  {
   "cell_type": "code",
   "execution_count": 79,
   "metadata": {},
   "outputs": [],
   "source": [
    "modduplage.to_csv('duplage_wgcna_nb.txt',sep='\\t')"
   ]
  },
  {
   "cell_type": "code",
   "execution_count": 80,
   "metadata": {},
   "outputs": [],
   "source": [
    "modduplahyp=pd.DataFrame(hypresa, columns = ['mod', 'mod_desc']+selclades)"
   ]
  },
  {
   "cell_type": "code",
   "execution_count": 81,
   "metadata": {},
   "outputs": [],
   "source": [
    "modduplahyp.to_csv('duplage_wgcna_phyp.txt',sep='\\t')"
   ]
  },
  {
   "cell_type": "code",
   "execution_count": 66,
   "metadata": {},
   "outputs": [
    {
     "ename": "NameError",
     "evalue": "name 'PlivNames' is not defined",
     "output_type": "error",
     "traceback": [
      "\u001b[0;31m---------------------------------------------------------------------------\u001b[0m",
      "\u001b[0;31mNameError\u001b[0m                                 Traceback (most recent call last)",
      "\u001b[0;32m<ipython-input-66-20bbc2a0109f>\u001b[0m in \u001b[0;36m<module>\u001b[0;34m\u001b[0m\n\u001b[0;32m----> 1\u001b[0;31m \u001b[0migl\u001b[0m\u001b[0;34m=\u001b[0m\u001b[0;34m[\u001b[0m\u001b[0;34m[\u001b[0m\u001b[0mg\u001b[0m\u001b[0;34m,\u001b[0m\u001b[0mPlivNames\u001b[0m\u001b[0;34m.\u001b[0m\u001b[0mget\u001b[0m\u001b[0;34m(\u001b[0m\u001b[0mg\u001b[0m\u001b[0;34m,\u001b[0m\u001b[0;34m'-'\u001b[0m\u001b[0;34m)\u001b[0m\u001b[0;34m,\u001b[0m\u001b[0mgenephylo\u001b[0m\u001b[0;34m.\u001b[0m\u001b[0mget\u001b[0m\u001b[0;34m(\u001b[0m\u001b[0mg\u001b[0m\u001b[0;34m,\u001b[0m\u001b[0;34m'Parliv'\u001b[0m\u001b[0;34m)\u001b[0m\u001b[0;34m,\u001b[0m\u001b[0mm\u001b[0m\u001b[0;34m,\u001b[0m\u001b[0mmoddesc\u001b[0m\u001b[0;34m[\u001b[0m\u001b[0mm\u001b[0m\u001b[0;34m]\u001b[0m\u001b[0;34m]\u001b[0m \u001b[0;32mfor\u001b[0m \u001b[0mg\u001b[0m\u001b[0;34m,\u001b[0m\u001b[0mm\u001b[0m \u001b[0;32min\u001b[0m \u001b[0mgene2mod\u001b[0m\u001b[0;34m.\u001b[0m\u001b[0mitems\u001b[0m\u001b[0;34m(\u001b[0m\u001b[0;34m)\u001b[0m\u001b[0;34m]\u001b[0m\u001b[0;34m\u001b[0m\u001b[0;34m\u001b[0m\u001b[0m\n\u001b[0m",
      "\u001b[0;32m<ipython-input-66-20bbc2a0109f>\u001b[0m in \u001b[0;36m<listcomp>\u001b[0;34m(.0)\u001b[0m\n\u001b[0;32m----> 1\u001b[0;31m \u001b[0migl\u001b[0m\u001b[0;34m=\u001b[0m\u001b[0;34m[\u001b[0m\u001b[0;34m[\u001b[0m\u001b[0mg\u001b[0m\u001b[0;34m,\u001b[0m\u001b[0mPlivNames\u001b[0m\u001b[0;34m.\u001b[0m\u001b[0mget\u001b[0m\u001b[0;34m(\u001b[0m\u001b[0mg\u001b[0m\u001b[0;34m,\u001b[0m\u001b[0;34m'-'\u001b[0m\u001b[0;34m)\u001b[0m\u001b[0;34m,\u001b[0m\u001b[0mgenephylo\u001b[0m\u001b[0;34m.\u001b[0m\u001b[0mget\u001b[0m\u001b[0;34m(\u001b[0m\u001b[0mg\u001b[0m\u001b[0;34m,\u001b[0m\u001b[0;34m'Parliv'\u001b[0m\u001b[0;34m)\u001b[0m\u001b[0;34m,\u001b[0m\u001b[0mm\u001b[0m\u001b[0;34m,\u001b[0m\u001b[0mmoddesc\u001b[0m\u001b[0;34m[\u001b[0m\u001b[0mm\u001b[0m\u001b[0;34m]\u001b[0m\u001b[0;34m]\u001b[0m \u001b[0;32mfor\u001b[0m \u001b[0mg\u001b[0m\u001b[0;34m,\u001b[0m\u001b[0mm\u001b[0m \u001b[0;32min\u001b[0m \u001b[0mgene2mod\u001b[0m\u001b[0;34m.\u001b[0m\u001b[0mitems\u001b[0m\u001b[0;34m(\u001b[0m\u001b[0;34m)\u001b[0m\u001b[0;34m]\u001b[0m\u001b[0;34m\u001b[0m\u001b[0;34m\u001b[0m\u001b[0m\n\u001b[0m",
      "\u001b[0;31mNameError\u001b[0m: name 'PlivNames' is not defined"
     ]
    }
   ],
   "source": [
    "igl=[[g,PlivNames.get(g,'-'),genephylo.get(g,'Parliv'),m,moddesc[m]] for g,m in gene2mod.items()]"
   ]
  },
  {
   "cell_type": "code",
   "execution_count": 65,
   "metadata": {},
   "outputs": [
    {
     "ename": "NameError",
     "evalue": "name 'igl' is not defined",
     "output_type": "error",
     "traceback": [
      "\u001b[0;31m---------------------------------------------------------------------------\u001b[0m",
      "\u001b[0;31mNameError\u001b[0m                                 Traceback (most recent call last)",
      "\u001b[0;32m<ipython-input-65-bbf74c26f041>\u001b[0m in \u001b[0;36m<module>\u001b[0;34m\u001b[0m\n\u001b[0;32m----> 1\u001b[0;31m \u001b[0mgstrmod\u001b[0m\u001b[0;34m=\u001b[0m\u001b[0mpd\u001b[0m\u001b[0;34m.\u001b[0m\u001b[0mDataFrame\u001b[0m\u001b[0;34m(\u001b[0m\u001b[0migl\u001b[0m\u001b[0;34m,\u001b[0m \u001b[0mcolumns\u001b[0m \u001b[0;34m=\u001b[0m \u001b[0;34m[\u001b[0m\u001b[0;34m'gid'\u001b[0m\u001b[0;34m,\u001b[0m \u001b[0;34m'gname'\u001b[0m\u001b[0;34m,\u001b[0m\u001b[0;34m'Strata'\u001b[0m\u001b[0;34m,\u001b[0m\u001b[0;34m'Module'\u001b[0m\u001b[0;34m,\u001b[0m\u001b[0;34m'ModuleDesc'\u001b[0m\u001b[0;34m]\u001b[0m\u001b[0;34m)\u001b[0m\u001b[0;34m\u001b[0m\u001b[0;34m\u001b[0m\u001b[0m\n\u001b[0m",
      "\u001b[0;31mNameError\u001b[0m: name 'igl' is not defined"
     ]
    }
   ],
   "source": [
    "gstrmod=pd.DataFrame(igl, columns = ['gid', 'gname','Strata','Module','ModuleDesc'])  "
   ]
  },
  {
   "cell_type": "code",
   "execution_count": 64,
   "metadata": {},
   "outputs": [
    {
     "ename": "NameError",
     "evalue": "name 'gstrmod' is not defined",
     "output_type": "error",
     "traceback": [
      "\u001b[0;31m---------------------------------------------------------------------------\u001b[0m",
      "\u001b[0;31mNameError\u001b[0m                                 Traceback (most recent call last)",
      "\u001b[0;32m<ipython-input-64-1358b0a411c6>\u001b[0m in \u001b[0;36m<module>\u001b[0;34m\u001b[0m\n\u001b[1;32m      1\u001b[0m \u001b[0;31m#gstrmod[gstrmod.Strata.str.contains('Echinozoa')]#.to_csv('novel_in_echinoidea.txt',sep='\\t')\u001b[0m\u001b[0;34m\u001b[0m\u001b[0;34m\u001b[0m\u001b[0;34m\u001b[0m\u001b[0m\n\u001b[0;32m----> 2\u001b[0;31m \u001b[0mgstrmod\u001b[0m\u001b[0;34m[\u001b[0m\u001b[0mgstrmod\u001b[0m\u001b[0;34m.\u001b[0m\u001b[0mModule\u001b[0m\u001b[0;34m==\u001b[0m\u001b[0;34m(\u001b[0m\u001b[0;34m'lightyellow'\u001b[0m\u001b[0;34m)\u001b[0m\u001b[0;34m]\u001b[0m\u001b[0;31m#.to_csv('novel_in_echinoidea.txt',sep='\\t')\u001b[0m\u001b[0;34m\u001b[0m\u001b[0;34m\u001b[0m\u001b[0m\n\u001b[0m",
      "\u001b[0;31mNameError\u001b[0m: name 'gstrmod' is not defined"
     ]
    }
   ],
   "source": [
    "#gstrmod[gstrmod.Strata.str.contains('Echinozoa')]#.to_csv('novel_in_echinoidea.txt',sep='\\t')\n",
    "gstrmod[gstrmod.Module==('lightyellow')]#.to_csv('novel_in_echinoidea.txt',sep='\\t')"
   ]
  },
  {
   "cell_type": "code",
   "execution_count": 292,
   "metadata": {},
   "outputs": [],
   "source": [
    "gstrmod.to_csv('genes_wgcna_strata.txt',sep='\\t')"
   ]
  },
  {
   "cell_type": "code",
   "execution_count": null,
   "metadata": {},
   "outputs": [],
   "source": [
    "for col in cols:\n",
    "    col_zscore = col + '_zscore'\n",
    "    df[col_zscore] = (df[col] - df[col].mean())/df[col].std(ddof=0)"
   ]
  },
  {
   "cell_type": "code",
   "execution_count": null,
   "metadata": {},
   "outputs": [],
   "source": [
    "modstratihyp"
   ]
  },
  {
   "cell_type": "markdown",
   "metadata": {},
   "source": [
    "## Output"
   ]
  }
 ],
 "metadata": {
  "kernelspec": {
   "display_name": "Python 3",
   "language": "python",
   "name": "python3"
  },
  "language_info": {
   "codemirror_mode": {
    "name": "ipython",
    "version": 3
   },
   "file_extension": ".py",
   "mimetype": "text/x-python",
   "name": "python",
   "nbconvert_exporter": "python",
   "pygments_lexer": "ipython3",
   "version": "3.7.6"
  }
 },
 "nbformat": 4,
 "nbformat_minor": 4
}
