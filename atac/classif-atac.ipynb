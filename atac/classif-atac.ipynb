{
 "cells": [
  {
   "cell_type": "code",
   "execution_count": 1,
   "metadata": {},
   "outputs": [],
   "source": [
    "from pybedtools import BedTool\n",
    "import csv\n",
    "from collections import defaultdict\n",
    "from collections import Counter\n",
    "from glob import glob\n",
    "import numpy as np"
   ]
  },
  {
   "cell_type": "code",
   "execution_count": 2,
   "metadata": {},
   "outputs": [],
   "source": [
    "import seaborn as sns\n",
    "import pandas as pd"
   ]
  },
  {
   "cell_type": "code",
   "execution_count": 3,
   "metadata": {},
   "outputs": [],
   "source": [
    "import pyBigWig"
   ]
  },
  {
   "cell_type": "code",
   "execution_count": 4,
   "metadata": {},
   "outputs": [],
   "source": [
    "tips = sns.load_dataset(\"tips\")\n"
   ]
  },
  {
   "cell_type": "code",
   "execution_count": 5,
   "metadata": {},
   "outputs": [
    {
     "data": {
      "text/html": [
       "<div>\n",
       "<style scoped>\n",
       "    .dataframe tbody tr th:only-of-type {\n",
       "        vertical-align: middle;\n",
       "    }\n",
       "\n",
       "    .dataframe tbody tr th {\n",
       "        vertical-align: top;\n",
       "    }\n",
       "\n",
       "    .dataframe thead th {\n",
       "        text-align: right;\n",
       "    }\n",
       "</style>\n",
       "<table border=\"1\" class=\"dataframe\">\n",
       "  <thead>\n",
       "    <tr style=\"text-align: right;\">\n",
       "      <th></th>\n",
       "      <th>total_bill</th>\n",
       "      <th>tip</th>\n",
       "      <th>sex</th>\n",
       "      <th>smoker</th>\n",
       "      <th>day</th>\n",
       "      <th>time</th>\n",
       "      <th>size</th>\n",
       "    </tr>\n",
       "  </thead>\n",
       "  <tbody>\n",
       "    <tr>\n",
       "      <th>0</th>\n",
       "      <td>16.99</td>\n",
       "      <td>1.01</td>\n",
       "      <td>Female</td>\n",
       "      <td>No</td>\n",
       "      <td>Sun</td>\n",
       "      <td>Dinner</td>\n",
       "      <td>2</td>\n",
       "    </tr>\n",
       "    <tr>\n",
       "      <th>1</th>\n",
       "      <td>10.34</td>\n",
       "      <td>1.66</td>\n",
       "      <td>Male</td>\n",
       "      <td>No</td>\n",
       "      <td>Sun</td>\n",
       "      <td>Dinner</td>\n",
       "      <td>3</td>\n",
       "    </tr>\n",
       "    <tr>\n",
       "      <th>2</th>\n",
       "      <td>21.01</td>\n",
       "      <td>3.50</td>\n",
       "      <td>Male</td>\n",
       "      <td>No</td>\n",
       "      <td>Sun</td>\n",
       "      <td>Dinner</td>\n",
       "      <td>3</td>\n",
       "    </tr>\n",
       "    <tr>\n",
       "      <th>3</th>\n",
       "      <td>23.68</td>\n",
       "      <td>3.31</td>\n",
       "      <td>Male</td>\n",
       "      <td>No</td>\n",
       "      <td>Sun</td>\n",
       "      <td>Dinner</td>\n",
       "      <td>2</td>\n",
       "    </tr>\n",
       "    <tr>\n",
       "      <th>4</th>\n",
       "      <td>24.59</td>\n",
       "      <td>3.61</td>\n",
       "      <td>Female</td>\n",
       "      <td>No</td>\n",
       "      <td>Sun</td>\n",
       "      <td>Dinner</td>\n",
       "      <td>4</td>\n",
       "    </tr>\n",
       "    <tr>\n",
       "      <th>...</th>\n",
       "      <td>...</td>\n",
       "      <td>...</td>\n",
       "      <td>...</td>\n",
       "      <td>...</td>\n",
       "      <td>...</td>\n",
       "      <td>...</td>\n",
       "      <td>...</td>\n",
       "    </tr>\n",
       "    <tr>\n",
       "      <th>239</th>\n",
       "      <td>29.03</td>\n",
       "      <td>5.92</td>\n",
       "      <td>Male</td>\n",
       "      <td>No</td>\n",
       "      <td>Sat</td>\n",
       "      <td>Dinner</td>\n",
       "      <td>3</td>\n",
       "    </tr>\n",
       "    <tr>\n",
       "      <th>240</th>\n",
       "      <td>27.18</td>\n",
       "      <td>2.00</td>\n",
       "      <td>Female</td>\n",
       "      <td>Yes</td>\n",
       "      <td>Sat</td>\n",
       "      <td>Dinner</td>\n",
       "      <td>2</td>\n",
       "    </tr>\n",
       "    <tr>\n",
       "      <th>241</th>\n",
       "      <td>22.67</td>\n",
       "      <td>2.00</td>\n",
       "      <td>Male</td>\n",
       "      <td>Yes</td>\n",
       "      <td>Sat</td>\n",
       "      <td>Dinner</td>\n",
       "      <td>2</td>\n",
       "    </tr>\n",
       "    <tr>\n",
       "      <th>242</th>\n",
       "      <td>17.82</td>\n",
       "      <td>1.75</td>\n",
       "      <td>Male</td>\n",
       "      <td>No</td>\n",
       "      <td>Sat</td>\n",
       "      <td>Dinner</td>\n",
       "      <td>2</td>\n",
       "    </tr>\n",
       "    <tr>\n",
       "      <th>243</th>\n",
       "      <td>18.78</td>\n",
       "      <td>3.00</td>\n",
       "      <td>Female</td>\n",
       "      <td>No</td>\n",
       "      <td>Thur</td>\n",
       "      <td>Dinner</td>\n",
       "      <td>2</td>\n",
       "    </tr>\n",
       "  </tbody>\n",
       "</table>\n",
       "<p>244 rows × 7 columns</p>\n",
       "</div>"
      ],
      "text/plain": [
       "     total_bill   tip     sex smoker   day    time  size\n",
       "0         16.99  1.01  Female     No   Sun  Dinner     2\n",
       "1         10.34  1.66    Male     No   Sun  Dinner     3\n",
       "2         21.01  3.50    Male     No   Sun  Dinner     3\n",
       "3         23.68  3.31    Male     No   Sun  Dinner     2\n",
       "4         24.59  3.61  Female     No   Sun  Dinner     4\n",
       "..          ...   ...     ...    ...   ...     ...   ...\n",
       "239       29.03  5.92    Male     No   Sat  Dinner     3\n",
       "240       27.18  2.00  Female    Yes   Sat  Dinner     2\n",
       "241       22.67  2.00    Male    Yes   Sat  Dinner     2\n",
       "242       17.82  1.75    Male     No   Sat  Dinner     2\n",
       "243       18.78  3.00  Female     No  Thur  Dinner     2\n",
       "\n",
       "[244 rows x 7 columns]"
      ]
     },
     "execution_count": 5,
     "metadata": {},
     "output_type": "execute_result"
    }
   ],
   "source": [
    "tips"
   ]
  },
  {
   "cell_type": "code",
   "execution_count": 6,
   "metadata": {},
   "outputs": [],
   "source": [
    "peakList=glob(\"*.npk\")"
   ]
  },
  {
   "cell_type": "code",
   "execution_count": 7,
   "metadata": {},
   "outputs": [
    {
     "name": "stdout",
     "output_type": "stream",
     "text": [
      "['Prism_all.npk', '16-cells_all.npk', 'EarlyBlastula_all.npk', 'Pluteus_all.npk', 'Gastrula_all.npk', 'LateBlastula_all.npk']\n"
     ]
    }
   ],
   "source": [
    "print(peakList)\n"
   ]
  },
  {
   "cell_type": "code",
   "execution_count": 8,
   "metadata": {},
   "outputs": [],
   "source": [
    "peakDict={pk.split('.')[0]:BedTool(pk) for pk in peakList}"
   ]
  },
  {
   "cell_type": "code",
   "execution_count": 9,
   "metadata": {},
   "outputs": [],
   "source": [
    "peakLength={stg:[p.length for p in peakDict[stg]] for stg in peakDict}\n",
    "    "
   ]
  },
  {
   "cell_type": "code",
   "execution_count": 10,
   "metadata": {},
   "outputs": [
    {
     "name": "stdout",
     "output_type": "stream",
     "text": [
      "Prism_all 55986874 501.73\n",
      "16-cells_all 18184373 602.23\n",
      "EarlyBlastula_all 72500186 508.88\n",
      "Pluteus_all 23951798 538.84\n",
      "Gastrula_all 74756124 485.95\n",
      "LateBlastula_all 63156427 476.4\n"
     ]
    }
   ],
   "source": [
    "pklen,pksum=[[],[]],[]\n",
    "for stg in peakLength:\n",
    "    print(stg,sum(peakLength[stg]),round(np.mean(peakLength[stg]),2))\n",
    "    for p in peakLength[stg]:\n",
    "        pklen[0].append(stg)\n",
    "        pklen[1].append(p)"
   ]
  },
  {
   "cell_type": "code",
   "execution_count": 11,
   "metadata": {},
   "outputs": [],
   "source": [
    "pkL= pd.Series(pklen,index=['stg','len'])"
   ]
  },
  {
   "cell_type": "code",
   "execution_count": 12,
   "metadata": {},
   "outputs": [
    {
     "data": {
      "text/plain": [
       "<seaborn.axisgrid.FacetGrid at 0x11356ee80>"
      ]
     },
     "execution_count": 12,
     "metadata": {},
     "output_type": "execute_result"
    },
    {
     "data": {
      "image/png": "[encoded data removed]",
      "text/plain": [
       "<Figure size 360x360 with 1 Axes>"
      ]
     },
     "metadata": {
      "needs_background": "light"
     },
     "output_type": "display_data"
    }
   ],
   "source": [
    "g=sns.catplot(x=\"stg\", y=\"len\", data=pkL,kind=\"violin\")\n",
    "g.set(yscale=\"log\")\n"
   ]
  },
  {
   "cell_type": "code",
   "execution_count": 13,
   "metadata": {},
   "outputs": [],
   "source": [
    "g.savefig('peak_size.pdf')\n"
   ]
  },
  {
   "cell_type": "code",
   "execution_count": 14,
   "metadata": {},
   "outputs": [],
   "source": [
    "peakBeds=[BedTool(pk) for pk in peakList]"
   ]
  },
  {
   "cell_type": "code",
   "execution_count": 15,
   "metadata": {},
   "outputs": [
    {
     "data": {
      "text/plain": [
       "359"
      ]
     },
     "execution_count": 15,
     "metadata": {},
     "output_type": "execute_result"
    }
   ],
   "source": [
    "\n",
    "peakBeds[0][0].length"
   ]
  },
  {
   "cell_type": "code",
   "execution_count": 16,
   "metadata": {},
   "outputs": [],
   "source": [
    "mrg=peakBeds[0].cat(*peakBeds[1:]).saveas('merged.bed')"
   ]
  },
  {
   "cell_type": "code",
   "execution_count": 17,
   "metadata": {},
   "outputs": [
    {
     "name": "stdout",
     "output_type": "stream",
     "text": [
      "185294\n"
     ]
    }
   ],
   "source": [
    "print(len(mrg))"
   ]
  },
  {
   "cell_type": "code",
   "execution_count": 18,
   "metadata": {},
   "outputs": [],
   "source": [
    "mrgList=[(elt[0],int(elt[1]),int(elt[2]),\"peak_{0}\".format(i)) for i,elt in enumerate(csv.reader(open('merged.bed'),delimiter='\\t'))]"
   ]
  },
  {
   "cell_type": "code",
   "execution_count": 19,
   "metadata": {},
   "outputs": [],
   "source": [
    "mrgNm=BedTool(mrgList)"
   ]
  },
  {
   "cell_type": "code",
   "execution_count": 20,
   "metadata": {},
   "outputs": [
    {
     "name": "stdout",
     "output_type": "stream",
     "text": [
      "Scaffold_10\t7\t274\tpeak_0\n",
      " Scaffold_1001\t663\t1059\tpeak_1\n",
      " Scaffold_1002\t4115\t4407\tpeak_2\n",
      " Scaffold_1003\t1027\t2809\tpeak_3\n",
      " Scaffold_1003\t2991\t3498\tpeak_4\n",
      " Scaffold_1003\t6948\t7494\tpeak_5\n",
      " Scaffold_1003\t7919\t8522\tpeak_6\n",
      " Scaffold_1003\t8646\t8823\tpeak_7\n",
      " Scaffold_1004\t5144\t5295\tpeak_8\n",
      " Scaffold_1005\t21\t1837\tpeak_9\n",
      " "
     ]
    }
   ],
   "source": [
    "mrgNm.head()"
   ]
  },
  {
   "cell_type": "markdown",
   "metadata": {},
   "source": [
    "## Intersection with repeats"
   ]
  },
  {
   "cell_type": "code",
   "execution_count": 21,
   "metadata": {},
   "outputs": [],
   "source": [
    "repeats=BedTool(\"Pliv_PqN3S.rep.bed\")"
   ]
  },
  {
   "cell_type": "code",
   "execution_count": 22,
   "metadata": {},
   "outputs": [
    {
     "name": "stdout",
     "output_type": "stream",
     "text": [
      "Scaffold_1\t1351\t1411\tSimple_repeat\n",
      " Scaffold_1\t1561\t1589\tSimple_repeat\n",
      " Scaffold_1\t1996\t2106\tSimple_repeat\n",
      " Scaffold_1\t3292\t3363\tSimple_repeat\n",
      " Scaffold_1\t3647\t3675\tSimple_repeat\n",
      " Scaffold_1\t4178\t4266\tSimple_repeat\n",
      " Scaffold_1\t4468\t4557\tSimple_repeat\n",
      " Scaffold_1\t4915\t5095\tSimple_repeat\n",
      " Scaffold_10\t3\t13\tUnknown\n",
      " Scaffold_10\t14\t254\tDNA\n",
      " "
     ]
    }
   ],
   "source": [
    "repeats.head()"
   ]
  },
  {
   "cell_type": "code",
   "execution_count": 23,
   "metadata": {},
   "outputs": [],
   "source": [
    "#mrgRep=mrgNm.intersect(repeats,wa=True,wb=True,f=0.2)\n"
   ]
  },
  {
   "cell_type": "code",
   "execution_count": null,
   "metadata": {},
   "outputs": [],
   "source": []
  },
  {
   "cell_type": "code",
   "execution_count": 24,
   "metadata": {},
   "outputs": [
    {
     "name": "stdout",
     "output_type": "stream",
     "text": [
      "Scaffold_10\t7\t274\tpeak_0\n",
      " Scaffold_1001\t663\t1059\tpeak_1\n",
      " Scaffold_1002\t4115\t4407\tpeak_2\n",
      " Scaffold_1003\t1027\t2809\tpeak_3\n",
      " Scaffold_1003\t2991\t3498\tpeak_4\n",
      " Scaffold_1003\t6948\t7494\tpeak_5\n",
      " Scaffold_1003\t7919\t8522\tpeak_6\n",
      " Scaffold_1003\t8646\t8823\tpeak_7\n",
      " Scaffold_1004\t5144\t5295\tpeak_8\n",
      " Scaffold_1005\t21\t1837\tpeak_9\n",
      " "
     ]
    }
   ],
   "source": [
    "mrgNm.head()"
   ]
  },
  {
   "cell_type": "code",
   "execution_count": 25,
   "metadata": {},
   "outputs": [],
   "source": [
    "mrgRep=mrgNm.intersect(repeats,u=True,f=0.3)"
   ]
  },
  {
   "cell_type": "code",
   "execution_count": 26,
   "metadata": {},
   "outputs": [],
   "source": [
    "repSet=set([p.fields[3] for p in mrgRep])"
   ]
  },
  {
   "cell_type": "code",
   "execution_count": 27,
   "metadata": {},
   "outputs": [
    {
     "name": "stdout",
     "output_type": "stream",
     "text": [
      "104486\n"
     ]
    }
   ],
   "source": [
    "print(len(repSet))"
   ]
  },
  {
   "cell_type": "code",
   "execution_count": 28,
   "metadata": {},
   "outputs": [],
   "source": [
    "mrgRepIsct=mrgNm.intersect(repeats).saveas('mergedRepIsct.bed')"
   ]
  },
  {
   "cell_type": "code",
   "execution_count": 29,
   "metadata": {},
   "outputs": [
    {
     "name": "stdout",
     "output_type": "stream",
     "text": [
      "257939 144584\n"
     ]
    }
   ],
   "source": [
    "n=0\n",
    "\n",
    "for i,elt in enumerate(csv.reader(open('mergedRepIsct.bed'),delimiter='\\t')):\n",
    "    scaf,start,end,name=elt[0],int(elt[1]),int(elt[2]),elt[3]\n",
    "    size=abs(end-start)\n",
    "    #,\"peak_{0}\".format(i)) \n",
    "    #print (scaf,start,end,abs(end-start),name)\n",
    "    if size>100:\n",
    "        n+=1\n",
    "    #if i==30: break\n",
    "print(i,n)\n"
   ]
  },
  {
   "cell_type": "markdown",
   "metadata": {},
   "source": [
    "## Intersection with conserved elements"
   ]
  },
  {
   "cell_type": "code",
   "execution_count": null,
   "metadata": {},
   "outputs": [],
   "source": [
    "Echinoidea.mcons.bed"
   ]
  },
  {
   "cell_type": "code",
   "execution_count": 22,
   "metadata": {},
   "outputs": [
    {
     "name": "stdout",
     "output_type": "stream",
     "text": [
      "185294\n"
     ]
    }
   ],
   "source": [
    "print(len(mrgNm))"
   ]
  },
  {
   "cell_type": "code",
   "execution_count": 50,
   "metadata": {},
   "outputs": [],
   "source": [
    "mostCons=BedTool(\"echino2.mostcons.bed\")"
   ]
  },
  {
   "cell_type": "code",
   "execution_count": 56,
   "metadata": {},
   "outputs": [
    {
     "name": "stdout",
     "output_type": "stream",
     "text": [
      "112801\n"
     ]
    }
   ],
   "source": [
    "print(len(mostCons))"
   ]
  },
  {
   "cell_type": "code",
   "execution_count": 57,
   "metadata": {},
   "outputs": [],
   "source": [
    "mrgCons=mrgNm.intersect(mostCons,wa=True,wb=True)"
   ]
  },
  {
   "cell_type": "code",
   "execution_count": 58,
   "metadata": {},
   "outputs": [],
   "source": [
    "consSet=set([p.fields[3] for p in mrgCons])"
   ]
  },
  {
   "cell_type": "code",
   "execution_count": 59,
   "metadata": {},
   "outputs": [
    {
     "name": "stdout",
     "output_type": "stream",
     "text": [
      "19689\n"
     ]
    }
   ],
   "source": [
    "print(len(consSet))"
   ]
  },
  {
   "cell_type": "code",
   "execution_count": 49,
   "metadata": {},
   "outputs": [
    {
     "name": "stdout",
     "output_type": "stream",
     "text": [
      "14694\n"
     ]
    }
   ],
   "source": [
    "print(len(consSet))"
   ]
  },
  {
   "cell_type": "markdown",
   "metadata": {},
   "source": [
    "## Position toward genes"
   ]
  },
  {
   "cell_type": "code",
   "execution_count": 41,
   "metadata": {},
   "outputs": [],
   "source": [
    "from pybedtools.featurefuncs import TSS"
   ]
  },
  {
   "cell_type": "code",
   "execution_count": 42,
   "metadata": {},
   "outputs": [],
   "source": [
    "genes=BedTool(\"/Users/fmarletaz/Dropbox/Genomes/Urchin/ATAC-urchin/Ressources/Pliv_aH2p.filt.bed\")"
   ]
  },
  {
   "cell_type": "code",
   "execution_count": 43,
   "metadata": {},
   "outputs": [],
   "source": [
    "gene_tss = genes.each(TSS, upstream=0, downstream=1).sort().saveas('Pliv_aH2p.tss.bed')"
   ]
  },
  {
   "cell_type": "code",
   "execution_count": 44,
   "metadata": {},
   "outputs": [],
   "source": [
    "#tssDict={p.fields[3]:p.fields[7].split('.')[0] for p in mrgTss}"
   ]
  },
  {
   "cell_type": "code",
   "execution_count": 45,
   "metadata": {},
   "outputs": [
    {
     "name": "stdout",
     "output_type": "stream",
     "text": [
      "Scaffold_10\t844\t845\tPL30914.1\t1000\t-\t733\t845\t0\t1\t112,\t0,\n",
      " Scaffold_1003\t7950\t7951\tPL04642.1\t1000\t+\t7950\t8803\t0\t3\t153,173,100,\t0,440,753,\n",
      " Scaffold_1005\t12110\t12111\tPL33535.1\t1000\t+\t12110\t13719\t0\t3\t33,53,127,\t0,864,1482,\n",
      " Scaffold_1006\t30416\t30417\tPL41561.1\t1000\t+\t30940\t31243\t0\t1\t1096,\t0,\n",
      " Scaffold_1006\t31516\t31517\tPL41563.1\t1000\t+\t31516\t31987\t0\t1\t471,\t0,\n",
      " Scaffold_1006\t50816\t50817\tPL41562.1\t1000\t+\t50816\t52221\t0\t2\t191,253,\t0,1152,\n",
      " Scaffold_1012\t66615\t66616\tPL41465.1\t1000\t-\t65944\t66616\t0\t1\t672,\t0,\n",
      " Scaffold_1012\t169278\t169279\tPL41476.1\t1000\t-\t156423\t169279\t0\t3\t210,118,11,\t0,10359,12845,\n",
      " Scaffold_1012\t176694\t176695\tPL41474.1\t1000\t-\t174547\t176695\t0\t2\t653,1237,\t0,911,\n",
      " Scaffold_1016\t10756\t10757\tPL00006.1\t1000\t+\t10756\t12195\t0\t2\t94,54,\t0,1385,\n",
      " "
     ]
    }
   ],
   "source": [
    "gene_tss.head()"
   ]
  },
  {
   "cell_type": "code",
   "execution_count": 50,
   "metadata": {},
   "outputs": [],
   "source": [
    "mrgClose=mrgNm.closest(gene_tss,D='a').saveas('closest_tss.bed')"
   ]
  },
  {
   "cell_type": "code",
   "execution_count": 51,
   "metadata": {},
   "outputs": [],
   "source": [
    "gl={g.name.split('.')[0]:abs(int(g.end)-g.start) for g in genes}"
   ]
  },
  {
   "cell_type": "code",
   "execution_count": 52,
   "metadata": {},
   "outputs": [],
   "source": [
    "#mrgClose=mrgNm.closest(genes,D='a').saveas('closest.bed')"
   ]
  },
  {
   "cell_type": "code",
   "execution_count": 53,
   "metadata": {},
   "outputs": [],
   "source": [
    "geneDist={p[3]:(p.fields[7].split('.')[0],int(p[-1])) for p in mrgClose}"
   ]
  },
  {
   "cell_type": "code",
   "execution_count": 54,
   "metadata": {},
   "outputs": [],
   "source": [
    "genStatus={}\n",
    "ct=0\n",
    "for pk,df in geneDist.items():\n",
    "    gene,d=df\n",
    "    if gene=='': \n",
    "        genStatus[pk]='distal'\n",
    "    else:\n",
    "        if d>-500 and d<1000:\n",
    "            genStatus[pk]='tss'\n",
    "        elif d<0 and abs(d)<gl[gene]:\n",
    "            genStatus[pk]='genebody'\n",
    "        elif d>0 and d<5000:\n",
    "            genStatus[pk]='proximal'\n",
    "        else: \n",
    "            genStatus[pk]='distal'\n",
    "    #print(pk,gene,d,genStatus[pk])"
   ]
  },
  {
   "cell_type": "code",
   "execution_count": 55,
   "metadata": {},
   "outputs": [
    {
     "name": "stdout",
     "output_type": "stream",
     "text": [
      "distal\n"
     ]
    }
   ],
   "source": [
    "#print(list(geneDist.items())[0:3])\n",
    "print(genStatus['peak_153'])"
   ]
  },
  {
   "cell_type": "code",
   "execution_count": 56,
   "metadata": {},
   "outputs": [
    {
     "name": "stdout",
     "output_type": "stream",
     "text": [
      "Counter({'distal': 95636, 'genebody': 45969, 'tss': 22208, 'proximal': 21481})\n"
     ]
    }
   ],
   "source": [
    "print(Counter(genStatus.values()))"
   ]
  },
  {
   "cell_type": "markdown",
   "metadata": {},
   "source": [
    " ## Intersection matrix "
   ]
  },
  {
   "cell_type": "code",
   "execution_count": 57,
   "metadata": {},
   "outputs": [
    {
     "name": "stdout",
     "output_type": "stream",
     "text": [
      "Scaffold_1003\t1027\t2809\tpeak_3\n",
      " Scaffold_1003\t2991\t3498\tpeak_4\n",
      " Scaffold_1003\t6948\t7494\tpeak_5\n",
      " Scaffold_1005\t21\t1837\tpeak_9\n",
      " Scaffold_1005\t5075\t5827\tpeak_10\n",
      " Scaffold_1006\t2159\t2771\tpeak_12\n",
      " Scaffold_1006\t18241\t19034\tpeak_15\n",
      " Scaffold_1006\t25612\t26019\tpeak_17\n",
      " Scaffold_1006\t27285\t27555\tpeak_18\n",
      " Scaffold_1006\t28378\t28782\tpeak_19\n",
      " "
     ]
    }
   ],
   "source": [
    "mrgNm.intersect(peakBeds[0],u=True,f=0.25).head()"
   ]
  },
  {
   "cell_type": "code",
   "execution_count": 58,
   "metadata": {},
   "outputs": [
    {
     "name": "stdout",
     "output_type": "stream",
     "text": [
      "Prism 104089\n",
      "16-cells 27501\n",
      "EarlyBlastula 137938\n",
      "Pluteus 39623\n",
      "Gastrula 147188\n",
      "LateBlastula 124419\n"
     ]
    }
   ],
   "source": [
    "IntrSc={}\n",
    "for cond in peakList:\n",
    "    cdn=cond.split('_')[0]\n",
    "    pkBed=BedTool(cond)\n",
    "    tmpInt=mrgNm.intersect(pkBed,u=True,f=0.1)\n",
    "    IntrSc[cdn]=set([p.fields[3] for p in tmpInt])\n",
    "    print(cdn,len(IntrSc[cdn]))"
   ]
  },
  {
   "cell_type": "markdown",
   "metadata": {},
   "source": [
    "## Master table\n"
   ]
  },
  {
   "cell_type": "code",
   "execution_count": 59,
   "metadata": {},
   "outputs": [],
   "source": [
    "from statistics import mean\n",
    "import pandas as pd"
   ]
  },
  {
   "cell_type": "code",
   "execution_count": 60,
   "metadata": {},
   "outputs": [],
   "source": [
    "tab=[(p.name,p.chrom,p.start,p.end,abs(p.end-p.start)) for p in mrgNm]"
   ]
  },
  {
   "cell_type": "code",
   "execution_count": 61,
   "metadata": {},
   "outputs": [
    {
     "name": "stdout",
     "output_type": "stream",
     "text": [
      "[('peak_0', 'Scaffold_10', 7, 274, 267), ('peak_1', 'Scaffold_1001', 663, 1059, 396), ('peak_2', 'Scaffold_1002', 4115, 4407, 292)]\n"
     ]
    }
   ],
   "source": [
    "print(tab[0:3])"
   ]
  },
  {
   "cell_type": "code",
   "execution_count": 62,
   "metadata": {},
   "outputs": [],
   "source": [
    "peakMaster = pd.DataFrame(tab, columns =['Peak', 'Scaf','Start','End','Size']) "
   ]
  },
  {
   "cell_type": "code",
   "execution_count": 63,
   "metadata": {},
   "outputs": [],
   "source": [
    "peakMaster=peakMaster.set_index('Peak')"
   ]
  },
  {
   "cell_type": "code",
   "execution_count": 65,
   "metadata": {},
   "outputs": [],
   "source": [
    "repDict={p.name:(1 if p.name in repSet else 0) for p in mrgNm}"
   ]
  },
  {
   "cell_type": "code",
   "execution_count": 66,
   "metadata": {},
   "outputs": [],
   "source": [
    "consDict={p.name:(1 if p.name in consSet else 0)  for p in mrgNm if p.name}"
   ]
  },
  {
   "cell_type": "code",
   "execution_count": 67,
   "metadata": {},
   "outputs": [],
   "source": [
    "pgn={e[0]:e[1] for e in csv.reader(open('../../Annotation/Pliv_genes_master_filt.txt'),delimiter='\\t')}"
   ]
  },
  {
   "cell_type": "code",
   "execution_count": 68,
   "metadata": {},
   "outputs": [],
   "source": [
    "genDict={p:x[0] for p,x in geneDist.items()}"
   ]
  },
  {
   "cell_type": "code",
   "execution_count": 69,
   "metadata": {},
   "outputs": [],
   "source": [
    "distDict={p:x[1] for p,x in geneDist.items() if not x[1]==-1}"
   ]
  },
  {
   "cell_type": "code",
   "execution_count": 70,
   "metadata": {},
   "outputs": [],
   "source": [
    "peakMaster[\"Repeat\"] = pd.Series(repDict)"
   ]
  },
  {
   "cell_type": "code",
   "execution_count": 71,
   "metadata": {},
   "outputs": [],
   "source": [
    "peakMaster[\"Cons\"] = pd.Series(consDict)"
   ]
  },
  {
   "cell_type": "code",
   "execution_count": 72,
   "metadata": {},
   "outputs": [],
   "source": [
    "peakMaster[\"Status\"]=pd.Series(genStatus)"
   ]
  },
  {
   "cell_type": "code",
   "execution_count": 73,
   "metadata": {},
   "outputs": [],
   "source": [
    "peakMaster[\"Closest\"]=pd.Series(genDict)"
   ]
  },
  {
   "cell_type": "code",
   "execution_count": 74,
   "metadata": {},
   "outputs": [],
   "source": [
    "genNmn={p:pgn.get(g,'') for p,g in genDict.items()}"
   ]
  },
  {
   "cell_type": "code",
   "execution_count": 75,
   "metadata": {},
   "outputs": [],
   "source": [
    "peakMaster[\"ClosestN\"]=pd.Series(genNmn)"
   ]
  },
  {
   "cell_type": "code",
   "execution_count": 76,
   "metadata": {},
   "outputs": [],
   "source": [
    "peakMaster[\"Dist\"]=pd.Series(distDict)"
   ]
  },
  {
   "cell_type": "code",
   "execution_count": 77,
   "metadata": {},
   "outputs": [],
   "source": [
    "ordStg=['16-cells','EarlyBlastula',  'LateBlastula', 'Gastrula', 'Prism', 'Pluteus']"
   ]
  },
  {
   "cell_type": "code",
   "execution_count": 78,
   "metadata": {},
   "outputs": [],
   "source": [
    "patDict=defaultdict(str)"
   ]
  },
  {
   "cell_type": "code",
   "execution_count": 79,
   "metadata": {},
   "outputs": [],
   "source": [
    "for cond in ordStg:\n",
    "    conDict={p.name:(1 if p.name in IntrSc[cond] else 0) for p in mrgNm}\n",
    "    for p in mrgNm:\n",
    "        BN='Y' if conDict[p.name]==1 else 'N'\n",
    "        patDict[p.name]+=str(BN)\n",
    "    peakMaster[cond]=pd.Series(conDict, dtype='category')"
   ]
  },
  {
   "cell_type": "code",
   "execution_count": 80,
   "metadata": {},
   "outputs": [
    {
     "name": "stdout",
     "output_type": "stream",
     "text": [
      "Counter({'NYYYYN': 37041, 'NYNNNN': 25505, 'YYYYYY': 16867, 'NYYYYY': 16389, 'NYYYNN': 15727, 'NNNYNN': 13526, 'YYYYYN': 9158, 'NYNYNN': 8877, 'NNYYYN': 8127, 'NNNYYN': 6467, 'NNYYNN': 6425, 'NNYNNN': 4814, 'NYYNNN': 4735, 'NNYYYY': 3856, 'NNNYYY': 1830, 'NYNYYN': 1729, 'NNNNYN': 1691, 'YYYYNN': 897, 'NNNNYY': 358, 'YYNNNN': 276, 'NYNNYN': 189, 'YYYNNN': 169, 'NNNNNY': 136, 'NYNYYY': 123, 'NYYNYN': 94, 'NNYNYN': 90, 'YYNYNN': 80, 'YYNYYN': 39, 'NNNYNY': 16, 'NYNNYY': 16, 'YYNNYN': 9, 'NNYNYY': 9, 'NNYYNY': 8, 'NYYYNY': 5, 'NYNNNY': 5, 'YYYNYN': 4, 'NYYNYY': 3, 'YNNNNN': 2, 'NYNYNY': 1, 'NNYNNY': 1})\n"
     ]
    }
   ],
   "source": [
    "print(Counter(patDict.values()))"
   ]
  },
  {
   "cell_type": "code",
   "execution_count": 81,
   "metadata": {},
   "outputs": [],
   "source": [
    "peakMaster['Pattern'] = pd.Series(patDict)"
   ]
  },
  {
   "cell_type": "code",
   "execution_count": 88,
   "metadata": {},
   "outputs": [],
   "source": [
    "#peakMaster['Motif'] = pd.Series(pkTFs)\n",
    "peakMaster['TF'] = pd.Series(pk_tf)"
   ]
  },
  {
   "cell_type": "code",
   "execution_count": 98,
   "metadata": {},
   "outputs": [
    {
     "data": {
      "text/html": [
       "<div>\n",
       "<style scoped>\n",
       "    .dataframe tbody tr th:only-of-type {\n",
       "        vertical-align: middle;\n",
       "    }\n",
       "\n",
       "    .dataframe tbody tr th {\n",
       "        vertical-align: top;\n",
       "    }\n",
       "\n",
       "    .dataframe thead th {\n",
       "        text-align: right;\n",
       "    }\n",
       "</style>\n",
       "<table border=\"1\" class=\"dataframe\">\n",
       "  <thead>\n",
       "    <tr style=\"text-align: right;\">\n",
       "      <th></th>\n",
       "      <th>Scaf</th>\n",
       "      <th>Start</th>\n",
       "      <th>End</th>\n",
       "      <th>Size</th>\n",
       "      <th>Repeat</th>\n",
       "      <th>Cons</th>\n",
       "      <th>Status</th>\n",
       "      <th>Closest</th>\n",
       "      <th>ClosestN</th>\n",
       "      <th>Dist</th>\n",
       "      <th>16-cells</th>\n",
       "      <th>EarlyBlastula</th>\n",
       "      <th>LateBlastula</th>\n",
       "      <th>Gastrula</th>\n",
       "      <th>Prism</th>\n",
       "      <th>Pluteus</th>\n",
       "      <th>Pattern</th>\n",
       "      <th>TF</th>\n",
       "    </tr>\n",
       "    <tr>\n",
       "      <th>Peak</th>\n",
       "      <th></th>\n",
       "      <th></th>\n",
       "      <th></th>\n",
       "      <th></th>\n",
       "      <th></th>\n",
       "      <th></th>\n",
       "      <th></th>\n",
       "      <th></th>\n",
       "      <th></th>\n",
       "      <th></th>\n",
       "      <th></th>\n",
       "      <th></th>\n",
       "      <th></th>\n",
       "      <th></th>\n",
       "      <th></th>\n",
       "      <th></th>\n",
       "      <th></th>\n",
       "      <th></th>\n",
       "    </tr>\n",
       "  </thead>\n",
       "  <tbody>\n",
       "    <tr>\n",
       "      <th>peak_2</th>\n",
       "      <td>Scaffold_1002</td>\n",
       "      <td>4115</td>\n",
       "      <td>4407</td>\n",
       "      <td>292</td>\n",
       "      <td>0</td>\n",
       "      <td>0</td>\n",
       "      <td>distal</td>\n",
       "      <td></td>\n",
       "      <td></td>\n",
       "      <td>NaN</td>\n",
       "      <td>0</td>\n",
       "      <td>1</td>\n",
       "      <td>0</td>\n",
       "      <td>1</td>\n",
       "      <td>0</td>\n",
       "      <td>0</td>\n",
       "      <td>NYNYNN</td>\n",
       "      <td>thr,atf4l,hnf6,casp,alx3,oct1-2,fxr,nurr1,rxr-...</td>\n",
       "    </tr>\n",
       "    <tr>\n",
       "      <th>peak_7</th>\n",
       "      <td>Scaffold_1003</td>\n",
       "      <td>8646</td>\n",
       "      <td>8823</td>\n",
       "      <td>177</td>\n",
       "      <td>0</td>\n",
       "      <td>0</td>\n",
       "      <td>genebody</td>\n",
       "      <td>PL04642</td>\n",
       "      <td>unchar-7019</td>\n",
       "      <td>-696.0</td>\n",
       "      <td>0</td>\n",
       "      <td>1</td>\n",
       "      <td>0</td>\n",
       "      <td>0</td>\n",
       "      <td>0</td>\n",
       "      <td>0</td>\n",
       "      <td>NYNNNN</td>\n",
       "      <td>z114,hmbox1,unchar-11716,gcm,irf4</td>\n",
       "    </tr>\n",
       "    <tr>\n",
       "      <th>peak_18</th>\n",
       "      <td>Scaffold_1006</td>\n",
       "      <td>27285</td>\n",
       "      <td>27555</td>\n",
       "      <td>270</td>\n",
       "      <td>0</td>\n",
       "      <td>0</td>\n",
       "      <td>proximal</td>\n",
       "      <td>PL41561</td>\n",
       "      <td>unchar-21852</td>\n",
       "      <td>2862.0</td>\n",
       "      <td>0</td>\n",
       "      <td>1</td>\n",
       "      <td>1</td>\n",
       "      <td>1</td>\n",
       "      <td>1</td>\n",
       "      <td>0</td>\n",
       "      <td>NYYYYN</td>\n",
       "      <td>pu1,hmb4,erg,hnf4,hlf-1,smad_ip,erf,six3,cebpg...</td>\n",
       "    </tr>\n",
       "    <tr>\n",
       "      <th>peak_29</th>\n",
       "      <td>Scaffold_101</td>\n",
       "      <td>1945</td>\n",
       "      <td>2432</td>\n",
       "      <td>487</td>\n",
       "      <td>0</td>\n",
       "      <td>0</td>\n",
       "      <td>distal</td>\n",
       "      <td></td>\n",
       "      <td></td>\n",
       "      <td>NaN</td>\n",
       "      <td>0</td>\n",
       "      <td>1</td>\n",
       "      <td>0</td>\n",
       "      <td>0</td>\n",
       "      <td>0</td>\n",
       "      <td>0</td>\n",
       "      <td>NYNNNN</td>\n",
       "      <td>z155,soxb2,mef2c,neurod1,sox6l,myor2,unchar-11...</td>\n",
       "    </tr>\n",
       "    <tr>\n",
       "      <th>peak_55</th>\n",
       "      <td>Scaffold_1012</td>\n",
       "      <td>118456</td>\n",
       "      <td>118679</td>\n",
       "      <td>223</td>\n",
       "      <td>0</td>\n",
       "      <td>0</td>\n",
       "      <td>distal</td>\n",
       "      <td>PL41476</td>\n",
       "      <td>unchar-1347</td>\n",
       "      <td>50600.0</td>\n",
       "      <td>0</td>\n",
       "      <td>1</td>\n",
       "      <td>0</td>\n",
       "      <td>0</td>\n",
       "      <td>0</td>\n",
       "      <td>0</td>\n",
       "      <td>NYNNNN</td>\n",
       "      <td>nfic,klf15,myb,ap2,srf,hmbox1,sox6l,z326,elfa,...</td>\n",
       "    </tr>\n",
       "    <tr>\n",
       "      <th>...</th>\n",
       "      <td>...</td>\n",
       "      <td>...</td>\n",
       "      <td>...</td>\n",
       "      <td>...</td>\n",
       "      <td>...</td>\n",
       "      <td>...</td>\n",
       "      <td>...</td>\n",
       "      <td>...</td>\n",
       "      <td>...</td>\n",
       "      <td>...</td>\n",
       "      <td>...</td>\n",
       "      <td>...</td>\n",
       "      <td>...</td>\n",
       "      <td>...</td>\n",
       "      <td>...</td>\n",
       "      <td>...</td>\n",
       "      <td>...</td>\n",
       "      <td>...</td>\n",
       "    </tr>\n",
       "    <tr>\n",
       "      <th>peak_185277</th>\n",
       "      <td>Scaffold_994</td>\n",
       "      <td>13860</td>\n",
       "      <td>14820</td>\n",
       "      <td>960</td>\n",
       "      <td>0</td>\n",
       "      <td>0</td>\n",
       "      <td>distal</td>\n",
       "      <td></td>\n",
       "      <td></td>\n",
       "      <td>NaN</td>\n",
       "      <td>1</td>\n",
       "      <td>1</td>\n",
       "      <td>1</td>\n",
       "      <td>1</td>\n",
       "      <td>1</td>\n",
       "      <td>0</td>\n",
       "      <td>YYYYYN</td>\n",
       "      <td>z155,rxr-1,z326,cdx,klf13,hmb4,gabp,unchar-103...</td>\n",
       "    </tr>\n",
       "    <tr>\n",
       "      <th>peak_185278</th>\n",
       "      <td>Scaffold_994</td>\n",
       "      <td>14959</td>\n",
       "      <td>15062</td>\n",
       "      <td>103</td>\n",
       "      <td>0</td>\n",
       "      <td>0</td>\n",
       "      <td>distal</td>\n",
       "      <td></td>\n",
       "      <td></td>\n",
       "      <td>NaN</td>\n",
       "      <td>0</td>\n",
       "      <td>1</td>\n",
       "      <td>0</td>\n",
       "      <td>0</td>\n",
       "      <td>0</td>\n",
       "      <td>0</td>\n",
       "      <td>NYNNNN</td>\n",
       "      <td>pu1,soxe</td>\n",
       "    </tr>\n",
       "    <tr>\n",
       "      <th>peak_185279</th>\n",
       "      <td>Scaffold_994</td>\n",
       "      <td>15905</td>\n",
       "      <td>16248</td>\n",
       "      <td>343</td>\n",
       "      <td>0</td>\n",
       "      <td>0</td>\n",
       "      <td>distal</td>\n",
       "      <td></td>\n",
       "      <td></td>\n",
       "      <td>NaN</td>\n",
       "      <td>1</td>\n",
       "      <td>1</td>\n",
       "      <td>1</td>\n",
       "      <td>1</td>\n",
       "      <td>1</td>\n",
       "      <td>0</td>\n",
       "      <td>YYYYYN</td>\n",
       "      <td>soxb2,z326,srebp,tbx3,pax6,myb,ctl,sox6l,mbx1,...</td>\n",
       "    </tr>\n",
       "    <tr>\n",
       "      <th>peak_185289</th>\n",
       "      <td>Scaffold_996</td>\n",
       "      <td>723</td>\n",
       "      <td>1104</td>\n",
       "      <td>381</td>\n",
       "      <td>0</td>\n",
       "      <td>0</td>\n",
       "      <td>genebody</td>\n",
       "      <td>PL25239</td>\n",
       "      <td></td>\n",
       "      <td>-723.0</td>\n",
       "      <td>0</td>\n",
       "      <td>0</td>\n",
       "      <td>1</td>\n",
       "      <td>0</td>\n",
       "      <td>0</td>\n",
       "      <td>0</td>\n",
       "      <td>NNYNNN</td>\n",
       "      <td>z276</td>\n",
       "    </tr>\n",
       "    <tr>\n",
       "      <th>peak_185290</th>\n",
       "      <td>Scaffold_996</td>\n",
       "      <td>4341</td>\n",
       "      <td>4933</td>\n",
       "      <td>592</td>\n",
       "      <td>0</td>\n",
       "      <td>0</td>\n",
       "      <td>proximal</td>\n",
       "      <td>PL25240</td>\n",
       "      <td></td>\n",
       "      <td>1503.0</td>\n",
       "      <td>0</td>\n",
       "      <td>1</td>\n",
       "      <td>1</td>\n",
       "      <td>1</td>\n",
       "      <td>1</td>\n",
       "      <td>0</td>\n",
       "      <td>NYYYYN</td>\n",
       "      <td>lim1,unchar-5802,klf13,unchar-10300,nr1h6b,sp2...</td>\n",
       "    </tr>\n",
       "  </tbody>\n",
       "</table>\n",
       "<p>64701 rows × 18 columns</p>\n",
       "</div>"
      ],
      "text/plain": [
       "                      Scaf   Start     End  Size  Repeat  Cons    Status  \\\n",
       "Peak                                                                       \n",
       "peak_2       Scaffold_1002    4115    4407   292       0     0    distal   \n",
       "peak_7       Scaffold_1003    8646    8823   177       0     0  genebody   \n",
       "peak_18      Scaffold_1006   27285   27555   270       0     0  proximal   \n",
       "peak_29       Scaffold_101    1945    2432   487       0     0    distal   \n",
       "peak_55      Scaffold_1012  118456  118679   223       0     0    distal   \n",
       "...                    ...     ...     ...   ...     ...   ...       ...   \n",
       "peak_185277   Scaffold_994   13860   14820   960       0     0    distal   \n",
       "peak_185278   Scaffold_994   14959   15062   103       0     0    distal   \n",
       "peak_185279   Scaffold_994   15905   16248   343       0     0    distal   \n",
       "peak_185289   Scaffold_996     723    1104   381       0     0  genebody   \n",
       "peak_185290   Scaffold_996    4341    4933   592       0     0  proximal   \n",
       "\n",
       "             Closest      ClosestN     Dist 16-cells EarlyBlastula  \\\n",
       "Peak                                                                 \n",
       "peak_2                                  NaN        0             1   \n",
       "peak_7       PL04642   unchar-7019   -696.0        0             1   \n",
       "peak_18      PL41561  unchar-21852   2862.0        0             1   \n",
       "peak_29                                 NaN        0             1   \n",
       "peak_55      PL41476   unchar-1347  50600.0        0             1   \n",
       "...              ...           ...      ...      ...           ...   \n",
       "peak_185277                             NaN        1             1   \n",
       "peak_185278                             NaN        0             1   \n",
       "peak_185279                             NaN        1             1   \n",
       "peak_185289  PL25239                 -723.0        0             0   \n",
       "peak_185290  PL25240                 1503.0        0             1   \n",
       "\n",
       "            LateBlastula Gastrula Prism Pluteus Pattern  \\\n",
       "Peak                                                      \n",
       "peak_2                 0        1     0       0  NYNYNN   \n",
       "peak_7                 0        0     0       0  NYNNNN   \n",
       "peak_18                1        1     1       0  NYYYYN   \n",
       "peak_29                0        0     0       0  NYNNNN   \n",
       "peak_55                0        0     0       0  NYNNNN   \n",
       "...                  ...      ...   ...     ...     ...   \n",
       "peak_185277            1        1     1       0  YYYYYN   \n",
       "peak_185278            0        0     0       0  NYNNNN   \n",
       "peak_185279            1        1     1       0  YYYYYN   \n",
       "peak_185289            1        0     0       0  NNYNNN   \n",
       "peak_185290            1        1     1       0  NYYYYN   \n",
       "\n",
       "                                                            TF  \n",
       "Peak                                                            \n",
       "peak_2       thr,atf4l,hnf6,casp,alx3,oct1-2,fxr,nurr1,rxr-...  \n",
       "peak_7                       z114,hmbox1,unchar-11716,gcm,irf4  \n",
       "peak_18      pu1,hmb4,erg,hnf4,hlf-1,smad_ip,erf,six3,cebpg...  \n",
       "peak_29      z155,soxb2,mef2c,neurod1,sox6l,myor2,unchar-11...  \n",
       "peak_55      nfic,klf15,myb,ap2,srf,hmbox1,sox6l,z326,elfa,...  \n",
       "...                                                        ...  \n",
       "peak_185277  z155,rxr-1,z326,cdx,klf13,hmb4,gabp,unchar-103...  \n",
       "peak_185278                                           pu1,soxe  \n",
       "peak_185279  soxb2,z326,srebp,tbx3,pax6,myb,ctl,sox6l,mbx1,...  \n",
       "peak_185289                                               z276  \n",
       "peak_185290  lim1,unchar-5802,klf13,unchar-10300,nr1h6b,sp2...  \n",
       "\n",
       "[64701 rows x 18 columns]"
      ]
     },
     "execution_count": 98,
     "metadata": {},
     "output_type": "execute_result"
    }
   ],
   "source": [
    "peakMaster[(peakMaster.Repeat==0) & (peakMaster.Status != 'tss') ]"
   ]
  },
  {
   "cell_type": "code",
   "execution_count": 99,
   "metadata": {},
   "outputs": [
    {
     "data": {
      "text/plain": [
       "0.3878919954869322"
      ]
     },
     "execution_count": 99,
     "metadata": {},
     "output_type": "execute_result"
    }
   ],
   "source": [
    "25097/64701"
   ]
  },
  {
   "cell_type": "code",
   "execution_count": 90,
   "metadata": {},
   "outputs": [],
   "source": [
    "reOrdCol=['Scaf', 'Start', 'End', 'Size', 'Repeat', 'Cons', 'Status', 'Closest','ClosestN' ,'Dist','16-cells', 'EarlyBlastula',  'LateBlastula', 'Gastrula', 'Prism', 'Pluteus','Pattern','TF']\n"
   ]
  },
  {
   "cell_type": "code",
   "execution_count": 91,
   "metadata": {},
   "outputs": [],
   "source": [
    "peakMaster=peakMaster[reOrdCol]"
   ]
  },
  {
   "cell_type": "code",
   "execution_count": null,
   "metadata": {},
   "outputs": [],
   "source": []
  },
  {
   "cell_type": "code",
   "execution_count": 92,
   "metadata": {},
   "outputs": [
    {
     "data": {
      "text/plain": [
       "80808"
      ]
     },
     "execution_count": 92,
     "metadata": {},
     "output_type": "execute_result"
    }
   ],
   "source": [
    "len(peakMaster[(peakMaster['Repeat']==0)])"
   ]
  },
  {
   "cell_type": "code",
   "execution_count": 71,
   "metadata": {},
   "outputs": [],
   "source": [
    "peakMaster[(peakMaster['Repeat']==0)].to_csv('stage_peaks.txt',sep='\\t')"
   ]
  },
  {
   "cell_type": "code",
   "execution_count": 77,
   "metadata": {},
   "outputs": [],
   "source": [
    "peakMaster[(peakMaster['Repeat']==0)].reset_index()[['Scaf','Start','End','Peak']].to_csv('stage_peaks.bed',sep='\\t',header=False,index=False)\n"
   ]
  },
  {
   "cell_type": "code",
   "execution_count": 72,
   "metadata": {},
   "outputs": [],
   "source": [
    "peakMaster_Enh=peakMaster[(peakMaster['Repeat']==0)&(peakMaster['Status']!='tss')]"
   ]
  },
  {
   "cell_type": "code",
   "execution_count": 73,
   "metadata": {},
   "outputs": [],
   "source": [
    "peakMaster_Prom=peakMaster[(peakMaster['Repeat']==0)&(peakMaster['Status']=='tss')]"
   ]
  },
  {
   "cell_type": "code",
   "execution_count": 74,
   "metadata": {},
   "outputs": [],
   "source": [
    "peakMaster_Enh.reset_index()[['Scaf','Start','End','Peak']].to_csv('stage_peak_enh.bed',sep='\\t',header=False,index=False)\n",
    "#peakMaster_Prom.to_csv('stage_peak_tss.txt',sep='\\t',header=False)"
   ]
  },
  {
   "cell_type": "code",
   "execution_count": 75,
   "metadata": {},
   "outputs": [],
   "source": [
    "peakMaster_Prom.reset_index()[['Scaf','Start','End','Peak']].to_csv('stage_peak_tss.bed',sep='\\t',header=False,index=False)\n",
    "\n"
   ]
  },
  {
   "cell_type": "code",
   "execution_count": 76,
   "metadata": {},
   "outputs": [
    {
     "data": {
      "text/plain": [
       "Counter({'NYNYNN': 1633,\n",
       "         'NYNNNN': 6320,\n",
       "         'NYYYYN': 9119,\n",
       "         'NYYYNN': 3057,\n",
       "         'NNNYNN': 7146,\n",
       "         'NNYYYN': 4835,\n",
       "         'NYYYYY': 7285,\n",
       "         'YYYYYY': 5034,\n",
       "         'NNNYYN': 4819,\n",
       "         'NNYYNN': 2797,\n",
       "         'NNNNYN': 1247,\n",
       "         'YYYYYN': 1907,\n",
       "         'NYYNNN': 1310,\n",
       "         'NYNYYN': 612,\n",
       "         'NNYNNN': 1973,\n",
       "         'NNYYYY': 2911,\n",
       "         'NNNYYY': 1507,\n",
       "         'NNYNYN': 51,\n",
       "         'NYNNYN': 86,\n",
       "         'YYNNNN': 135,\n",
       "         'NYYNYN': 30,\n",
       "         'YYYYNN': 254,\n",
       "         'NNNNYY': 286,\n",
       "         'NYYYNY': 3,\n",
       "         'YYYNNN': 72,\n",
       "         'NNNNNY': 114,\n",
       "         'YYNYYN': 10,\n",
       "         'NYNYNY': 1,\n",
       "         'NYNYYY': 71,\n",
       "         'YYNNYN': 5,\n",
       "         'YYNYNN': 29,\n",
       "         'NNNYNY': 15,\n",
       "         'NNYNYY': 6,\n",
       "         'NNYYNY': 8,\n",
       "         'NYNNYY': 6,\n",
       "         'YYYNYN': 4,\n",
       "         'NYNNNY': 2,\n",
       "         'NNYNNY': 1})"
      ]
     },
     "execution_count": 76,
     "metadata": {},
     "output_type": "execute_result"
    }
   ],
   "source": [
    "Counter(peakMaster_Enh['Pattern'])"
   ]
  },
  {
   "cell_type": "code",
   "execution_count": 322,
   "metadata": {},
   "outputs": [
    {
     "name": "stdout",
     "output_type": "stream",
     "text": [
      "15858 62616\n"
     ]
    }
   ],
   "source": [
    "print(len(peakMaster_Prom),len(peakMaster_Enh))"
   ]
  },
  {
   "cell_type": "code",
   "execution_count": 65,
   "metadata": {},
   "outputs": [
    {
     "data": {
      "text/html": [
       "<div>\n",
       "<style scoped>\n",
       "    .dataframe tbody tr th:only-of-type {\n",
       "        vertical-align: middle;\n",
       "    }\n",
       "\n",
       "    .dataframe tbody tr th {\n",
       "        vertical-align: top;\n",
       "    }\n",
       "\n",
       "    .dataframe thead th {\n",
       "        text-align: right;\n",
       "    }\n",
       "</style>\n",
       "<table border=\"1\" class=\"dataframe\">\n",
       "  <thead>\n",
       "    <tr style=\"text-align: right;\">\n",
       "      <th></th>\n",
       "      <th>Scaf</th>\n",
       "      <th>Start</th>\n",
       "      <th>End</th>\n",
       "      <th>Size</th>\n",
       "      <th>Repeat</th>\n",
       "      <th>Cons</th>\n",
       "      <th>Status</th>\n",
       "      <th>Closest</th>\n",
       "      <th>Dist</th>\n",
       "      <th>16-cells</th>\n",
       "      <th>EarlyBlastula</th>\n",
       "      <th>LateBlastula</th>\n",
       "      <th>Gastrula</th>\n",
       "      <th>Prism</th>\n",
       "      <th>Pluteus</th>\n",
       "      <th>Pattern</th>\n",
       "      <th>TF</th>\n",
       "    </tr>\n",
       "    <tr>\n",
       "      <th>Peak</th>\n",
       "      <th></th>\n",
       "      <th></th>\n",
       "      <th></th>\n",
       "      <th></th>\n",
       "      <th></th>\n",
       "      <th></th>\n",
       "      <th></th>\n",
       "      <th></th>\n",
       "      <th></th>\n",
       "      <th></th>\n",
       "      <th></th>\n",
       "      <th></th>\n",
       "      <th></th>\n",
       "      <th></th>\n",
       "      <th></th>\n",
       "      <th></th>\n",
       "      <th></th>\n",
       "    </tr>\n",
       "  </thead>\n",
       "  <tbody>\n",
       "    <tr>\n",
       "      <th>peak_0</th>\n",
       "      <td>Scaffold_10</td>\n",
       "      <td>7</td>\n",
       "      <td>274</td>\n",
       "      <td>267</td>\n",
       "      <td>1</td>\n",
       "      <td>0</td>\n",
       "      <td>tss</td>\n",
       "      <td>PL30914</td>\n",
       "      <td>571.0</td>\n",
       "      <td>0</td>\n",
       "      <td>1</td>\n",
       "      <td>1</td>\n",
       "      <td>1</td>\n",
       "      <td>0</td>\n",
       "      <td>0</td>\n",
       "      <td>NYYYNN</td>\n",
       "      <td>NaN</td>\n",
       "    </tr>\n",
       "    <tr>\n",
       "      <th>peak_1</th>\n",
       "      <td>Scaffold_1001</td>\n",
       "      <td>663</td>\n",
       "      <td>1059</td>\n",
       "      <td>396</td>\n",
       "      <td>1</td>\n",
       "      <td>0</td>\n",
       "      <td>distal</td>\n",
       "      <td></td>\n",
       "      <td>NaN</td>\n",
       "      <td>0</td>\n",
       "      <td>1</td>\n",
       "      <td>0</td>\n",
       "      <td>0</td>\n",
       "      <td>0</td>\n",
       "      <td>0</td>\n",
       "      <td>NYNNNN</td>\n",
       "      <td>NaN</td>\n",
       "    </tr>\n",
       "    <tr>\n",
       "      <th>peak_2</th>\n",
       "      <td>Scaffold_1002</td>\n",
       "      <td>4115</td>\n",
       "      <td>4407</td>\n",
       "      <td>292</td>\n",
       "      <td>0</td>\n",
       "      <td>0</td>\n",
       "      <td>distal</td>\n",
       "      <td></td>\n",
       "      <td>NaN</td>\n",
       "      <td>0</td>\n",
       "      <td>1</td>\n",
       "      <td>0</td>\n",
       "      <td>1</td>\n",
       "      <td>0</td>\n",
       "      <td>0</td>\n",
       "      <td>NYNYNN</td>\n",
       "      <td>thr,atf4l,hnf6,casp,alx3,oct1-2,fxr,nurr1,rxr-...</td>\n",
       "    </tr>\n",
       "    <tr>\n",
       "      <th>peak_3</th>\n",
       "      <td>Scaffold_1003</td>\n",
       "      <td>1027</td>\n",
       "      <td>2809</td>\n",
       "      <td>1782</td>\n",
       "      <td>1</td>\n",
       "      <td>0</td>\n",
       "      <td>distal</td>\n",
       "      <td>PL04642</td>\n",
       "      <td>5142.0</td>\n",
       "      <td>1</td>\n",
       "      <td>1</td>\n",
       "      <td>1</td>\n",
       "      <td>1</td>\n",
       "      <td>1</td>\n",
       "      <td>1</td>\n",
       "      <td>YYYYYY</td>\n",
       "      <td>NaN</td>\n",
       "    </tr>\n",
       "    <tr>\n",
       "      <th>peak_4</th>\n",
       "      <td>Scaffold_1003</td>\n",
       "      <td>2991</td>\n",
       "      <td>3498</td>\n",
       "      <td>507</td>\n",
       "      <td>1</td>\n",
       "      <td>0</td>\n",
       "      <td>proximal</td>\n",
       "      <td>PL04642</td>\n",
       "      <td>4453.0</td>\n",
       "      <td>0</td>\n",
       "      <td>1</td>\n",
       "      <td>1</td>\n",
       "      <td>1</td>\n",
       "      <td>1</td>\n",
       "      <td>0</td>\n",
       "      <td>NYYYYN</td>\n",
       "      <td>NaN</td>\n",
       "    </tr>\n",
       "    <tr>\n",
       "      <th>...</th>\n",
       "      <td>...</td>\n",
       "      <td>...</td>\n",
       "      <td>...</td>\n",
       "      <td>...</td>\n",
       "      <td>...</td>\n",
       "      <td>...</td>\n",
       "      <td>...</td>\n",
       "      <td>...</td>\n",
       "      <td>...</td>\n",
       "      <td>...</td>\n",
       "      <td>...</td>\n",
       "      <td>...</td>\n",
       "      <td>...</td>\n",
       "      <td>...</td>\n",
       "      <td>...</td>\n",
       "      <td>...</td>\n",
       "      <td>...</td>\n",
       "    </tr>\n",
       "    <tr>\n",
       "      <th>peak_185289</th>\n",
       "      <td>Scaffold_996</td>\n",
       "      <td>723</td>\n",
       "      <td>1104</td>\n",
       "      <td>381</td>\n",
       "      <td>0</td>\n",
       "      <td>0</td>\n",
       "      <td>genebody</td>\n",
       "      <td>PL25239</td>\n",
       "      <td>-723.0</td>\n",
       "      <td>0</td>\n",
       "      <td>0</td>\n",
       "      <td>1</td>\n",
       "      <td>0</td>\n",
       "      <td>0</td>\n",
       "      <td>0</td>\n",
       "      <td>NNYNNN</td>\n",
       "      <td>NaN</td>\n",
       "    </tr>\n",
       "    <tr>\n",
       "      <th>peak_185290</th>\n",
       "      <td>Scaffold_996</td>\n",
       "      <td>4341</td>\n",
       "      <td>4933</td>\n",
       "      <td>592</td>\n",
       "      <td>0</td>\n",
       "      <td>0</td>\n",
       "      <td>proximal</td>\n",
       "      <td>PL25240</td>\n",
       "      <td>1503.0</td>\n",
       "      <td>0</td>\n",
       "      <td>1</td>\n",
       "      <td>1</td>\n",
       "      <td>1</td>\n",
       "      <td>1</td>\n",
       "      <td>0</td>\n",
       "      <td>NYYYYN</td>\n",
       "      <td>NaN</td>\n",
       "    </tr>\n",
       "    <tr>\n",
       "      <th>peak_185291</th>\n",
       "      <td>Scaffold_996</td>\n",
       "      <td>5043</td>\n",
       "      <td>5526</td>\n",
       "      <td>483</td>\n",
       "      <td>0</td>\n",
       "      <td>0</td>\n",
       "      <td>tss</td>\n",
       "      <td>PL25240</td>\n",
       "      <td>910.0</td>\n",
       "      <td>0</td>\n",
       "      <td>0</td>\n",
       "      <td>1</td>\n",
       "      <td>1</td>\n",
       "      <td>0</td>\n",
       "      <td>0</td>\n",
       "      <td>NNYYNN</td>\n",
       "      <td>NaN</td>\n",
       "    </tr>\n",
       "    <tr>\n",
       "      <th>peak_185292</th>\n",
       "      <td>Scaffold_996</td>\n",
       "      <td>24904</td>\n",
       "      <td>25363</td>\n",
       "      <td>459</td>\n",
       "      <td>0</td>\n",
       "      <td>0</td>\n",
       "      <td>tss</td>\n",
       "      <td>PL25241</td>\n",
       "      <td>0.0</td>\n",
       "      <td>0</td>\n",
       "      <td>0</td>\n",
       "      <td>0</td>\n",
       "      <td>1</td>\n",
       "      <td>0</td>\n",
       "      <td>0</td>\n",
       "      <td>NNNYNN</td>\n",
       "      <td>NaN</td>\n",
       "    </tr>\n",
       "    <tr>\n",
       "      <th>peak_185293</th>\n",
       "      <td>Scaffold_997</td>\n",
       "      <td>117</td>\n",
       "      <td>788</td>\n",
       "      <td>671</td>\n",
       "      <td>1</td>\n",
       "      <td>0</td>\n",
       "      <td>distal</td>\n",
       "      <td></td>\n",
       "      <td>NaN</td>\n",
       "      <td>0</td>\n",
       "      <td>1</td>\n",
       "      <td>1</td>\n",
       "      <td>1</td>\n",
       "      <td>1</td>\n",
       "      <td>0</td>\n",
       "      <td>NYYYYN</td>\n",
       "      <td>NaN</td>\n",
       "    </tr>\n",
       "  </tbody>\n",
       "</table>\n",
       "<p>185294 rows × 17 columns</p>\n",
       "</div>"
      ],
      "text/plain": [
       "                      Scaf  Start    End  Size  Repeat  Cons    Status  \\\n",
       "Peak                                                                     \n",
       "peak_0         Scaffold_10      7    274   267       1     0       tss   \n",
       "peak_1       Scaffold_1001    663   1059   396       1     0    distal   \n",
       "peak_2       Scaffold_1002   4115   4407   292       0     0    distal   \n",
       "peak_3       Scaffold_1003   1027   2809  1782       1     0    distal   \n",
       "peak_4       Scaffold_1003   2991   3498   507       1     0  proximal   \n",
       "...                    ...    ...    ...   ...     ...   ...       ...   \n",
       "peak_185289   Scaffold_996    723   1104   381       0     0  genebody   \n",
       "peak_185290   Scaffold_996   4341   4933   592       0     0  proximal   \n",
       "peak_185291   Scaffold_996   5043   5526   483       0     0       tss   \n",
       "peak_185292   Scaffold_996  24904  25363   459       0     0       tss   \n",
       "peak_185293   Scaffold_997    117    788   671       1     0    distal   \n",
       "\n",
       "             Closest    Dist 16-cells EarlyBlastula LateBlastula Gastrula  \\\n",
       "Peak                                                                        \n",
       "peak_0       PL30914   571.0        0             1            1        1   \n",
       "peak_1                   NaN        0             1            0        0   \n",
       "peak_2                   NaN        0             1            0        1   \n",
       "peak_3       PL04642  5142.0        1             1            1        1   \n",
       "peak_4       PL04642  4453.0        0             1            1        1   \n",
       "...              ...     ...      ...           ...          ...      ...   \n",
       "peak_185289  PL25239  -723.0        0             0            1        0   \n",
       "peak_185290  PL25240  1503.0        0             1            1        1   \n",
       "peak_185291  PL25240   910.0        0             0            1        1   \n",
       "peak_185292  PL25241     0.0        0             0            0        1   \n",
       "peak_185293              NaN        0             1            1        1   \n",
       "\n",
       "            Prism Pluteus Pattern  \\\n",
       "Peak                                \n",
       "peak_0          0       0  NYYYNN   \n",
       "peak_1          0       0  NYNNNN   \n",
       "peak_2          0       0  NYNYNN   \n",
       "peak_3          1       1  YYYYYY   \n",
       "peak_4          1       0  NYYYYN   \n",
       "...           ...     ...     ...   \n",
       "peak_185289     0       0  NNYNNN   \n",
       "peak_185290     1       0  NYYYYN   \n",
       "peak_185291     0       0  NNYYNN   \n",
       "peak_185292     0       0  NNNYNN   \n",
       "peak_185293     1       0  NYYYYN   \n",
       "\n",
       "                                                            TF  \n",
       "Peak                                                            \n",
       "peak_0                                                     NaN  \n",
       "peak_1                                                     NaN  \n",
       "peak_2       thr,atf4l,hnf6,casp,alx3,oct1-2,fxr,nurr1,rxr-...  \n",
       "peak_3                                                     NaN  \n",
       "peak_4                                                     NaN  \n",
       "...                                                        ...  \n",
       "peak_185289                                                NaN  \n",
       "peak_185290                                                NaN  \n",
       "peak_185291                                                NaN  \n",
       "peak_185292                                                NaN  \n",
       "peak_185293                                                NaN  \n",
       "\n",
       "[185294 rows x 17 columns]"
      ]
     },
     "execution_count": 65,
     "metadata": {},
     "output_type": "execute_result"
    }
   ],
   "source": [
    "peakMaster"
   ]
  },
  {
   "cell_type": "code",
   "execution_count": 147,
   "metadata": {},
   "outputs": [
    {
     "data": {
      "text/html": [
       "<div>\n",
       "<style scoped>\n",
       "    .dataframe tbody tr th:only-of-type {\n",
       "        vertical-align: middle;\n",
       "    }\n",
       "\n",
       "    .dataframe tbody tr th {\n",
       "        vertical-align: top;\n",
       "    }\n",
       "\n",
       "    .dataframe thead th {\n",
       "        text-align: right;\n",
       "    }\n",
       "</style>\n",
       "<table border=\"1\" class=\"dataframe\">\n",
       "  <thead>\n",
       "    <tr style=\"text-align: right;\">\n",
       "      <th></th>\n",
       "      <th>Scaf</th>\n",
       "      <th>Start</th>\n",
       "      <th>End</th>\n",
       "      <th>Size</th>\n",
       "      <th>Repeat</th>\n",
       "      <th>Cons</th>\n",
       "      <th>Status</th>\n",
       "      <th>Closest</th>\n",
       "      <th>Dist</th>\n",
       "      <th>16-cells</th>\n",
       "      <th>EarlyBlastula</th>\n",
       "      <th>LateBlastula</th>\n",
       "      <th>Gastrula</th>\n",
       "      <th>Prism</th>\n",
       "      <th>Pluteus</th>\n",
       "      <th>Pattern</th>\n",
       "    </tr>\n",
       "    <tr>\n",
       "      <th>Peak</th>\n",
       "      <th></th>\n",
       "      <th></th>\n",
       "      <th></th>\n",
       "      <th></th>\n",
       "      <th></th>\n",
       "      <th></th>\n",
       "      <th></th>\n",
       "      <th></th>\n",
       "      <th></th>\n",
       "      <th></th>\n",
       "      <th></th>\n",
       "      <th></th>\n",
       "      <th></th>\n",
       "      <th></th>\n",
       "      <th></th>\n",
       "      <th></th>\n",
       "    </tr>\n",
       "  </thead>\n",
       "  <tbody>\n",
       "    <tr>\n",
       "      <td>peak_0</td>\n",
       "      <td>Scaffold_10</td>\n",
       "      <td>7</td>\n",
       "      <td>279</td>\n",
       "      <td>272</td>\n",
       "      <td>1</td>\n",
       "      <td>0</td>\n",
       "      <td>tss</td>\n",
       "      <td>PL30914</td>\n",
       "      <td>566.0</td>\n",
       "      <td>0</td>\n",
       "      <td>1</td>\n",
       "      <td>1</td>\n",
       "      <td>0</td>\n",
       "      <td>0</td>\n",
       "      <td>0</td>\n",
       "      <td>NYYNNN</td>\n",
       "    </tr>\n",
       "    <tr>\n",
       "      <td>peak_1</td>\n",
       "      <td>Scaffold_1002</td>\n",
       "      <td>4118</td>\n",
       "      <td>4407</td>\n",
       "      <td>289</td>\n",
       "      <td>0</td>\n",
       "      <td>0</td>\n",
       "      <td>distal</td>\n",
       "      <td></td>\n",
       "      <td>NaN</td>\n",
       "      <td>0</td>\n",
       "      <td>1</td>\n",
       "      <td>1</td>\n",
       "      <td>1</td>\n",
       "      <td>0</td>\n",
       "      <td>0</td>\n",
       "      <td>NYYYNN</td>\n",
       "    </tr>\n",
       "    <tr>\n",
       "      <td>peak_2</td>\n",
       "      <td>Scaffold_1003</td>\n",
       "      <td>1028</td>\n",
       "      <td>2793</td>\n",
       "      <td>1765</td>\n",
       "      <td>0</td>\n",
       "      <td>0</td>\n",
       "      <td>distal</td>\n",
       "      <td>PL04642</td>\n",
       "      <td>5158.0</td>\n",
       "      <td>1</td>\n",
       "      <td>1</td>\n",
       "      <td>1</td>\n",
       "      <td>1</td>\n",
       "      <td>1</td>\n",
       "      <td>1</td>\n",
       "      <td>YYYYYY</td>\n",
       "    </tr>\n",
       "    <tr>\n",
       "      <td>peak_3</td>\n",
       "      <td>Scaffold_1003</td>\n",
       "      <td>2991</td>\n",
       "      <td>3498</td>\n",
       "      <td>507</td>\n",
       "      <td>0</td>\n",
       "      <td>0</td>\n",
       "      <td>proximal</td>\n",
       "      <td>PL04642</td>\n",
       "      <td>4453.0</td>\n",
       "      <td>0</td>\n",
       "      <td>1</td>\n",
       "      <td>1</td>\n",
       "      <td>1</td>\n",
       "      <td>1</td>\n",
       "      <td>0</td>\n",
       "      <td>NYYYYN</td>\n",
       "    </tr>\n",
       "    <tr>\n",
       "      <td>peak_4</td>\n",
       "      <td>Scaffold_1003</td>\n",
       "      <td>6958</td>\n",
       "      <td>7356</td>\n",
       "      <td>398</td>\n",
       "      <td>0</td>\n",
       "      <td>0</td>\n",
       "      <td>tss</td>\n",
       "      <td>PL04642</td>\n",
       "      <td>595.0</td>\n",
       "      <td>0</td>\n",
       "      <td>1</td>\n",
       "      <td>1</td>\n",
       "      <td>1</td>\n",
       "      <td>1</td>\n",
       "      <td>0</td>\n",
       "      <td>NYYYYN</td>\n",
       "    </tr>\n",
       "    <tr>\n",
       "      <td>...</td>\n",
       "      <td>...</td>\n",
       "      <td>...</td>\n",
       "      <td>...</td>\n",
       "      <td>...</td>\n",
       "      <td>...</td>\n",
       "      <td>...</td>\n",
       "      <td>...</td>\n",
       "      <td>...</td>\n",
       "      <td>...</td>\n",
       "      <td>...</td>\n",
       "      <td>...</td>\n",
       "      <td>...</td>\n",
       "      <td>...</td>\n",
       "      <td>...</td>\n",
       "      <td>...</td>\n",
       "      <td>...</td>\n",
       "    </tr>\n",
       "    <tr>\n",
       "      <td>peak_181290</td>\n",
       "      <td>Scaffold_994</td>\n",
       "      <td>32968</td>\n",
       "      <td>33153</td>\n",
       "      <td>185</td>\n",
       "      <td>0</td>\n",
       "      <td>0</td>\n",
       "      <td>distal</td>\n",
       "      <td></td>\n",
       "      <td>NaN</td>\n",
       "      <td>0</td>\n",
       "      <td>1</td>\n",
       "      <td>1</td>\n",
       "      <td>0</td>\n",
       "      <td>0</td>\n",
       "      <td>0</td>\n",
       "      <td>NYYNNN</td>\n",
       "    </tr>\n",
       "    <tr>\n",
       "      <td>peak_181291</td>\n",
       "      <td>Scaffold_994</td>\n",
       "      <td>33263</td>\n",
       "      <td>33897</td>\n",
       "      <td>634</td>\n",
       "      <td>1</td>\n",
       "      <td>0</td>\n",
       "      <td>distal</td>\n",
       "      <td></td>\n",
       "      <td>NaN</td>\n",
       "      <td>1</td>\n",
       "      <td>1</td>\n",
       "      <td>1</td>\n",
       "      <td>1</td>\n",
       "      <td>1</td>\n",
       "      <td>1</td>\n",
       "      <td>YYYYYY</td>\n",
       "    </tr>\n",
       "    <tr>\n",
       "      <td>peak_181292</td>\n",
       "      <td>Scaffold_996</td>\n",
       "      <td>4449</td>\n",
       "      <td>4933</td>\n",
       "      <td>484</td>\n",
       "      <td>0</td>\n",
       "      <td>0</td>\n",
       "      <td>proximal</td>\n",
       "      <td>PL25240</td>\n",
       "      <td>1503.0</td>\n",
       "      <td>0</td>\n",
       "      <td>1</td>\n",
       "      <td>1</td>\n",
       "      <td>1</td>\n",
       "      <td>1</td>\n",
       "      <td>0</td>\n",
       "      <td>NYYYYN</td>\n",
       "    </tr>\n",
       "    <tr>\n",
       "      <td>peak_181293</td>\n",
       "      <td>Scaffold_996</td>\n",
       "      <td>5109</td>\n",
       "      <td>5528</td>\n",
       "      <td>419</td>\n",
       "      <td>0</td>\n",
       "      <td>0</td>\n",
       "      <td>tss</td>\n",
       "      <td>PL25240</td>\n",
       "      <td>908.0</td>\n",
       "      <td>0</td>\n",
       "      <td>0</td>\n",
       "      <td>0</td>\n",
       "      <td>1</td>\n",
       "      <td>0</td>\n",
       "      <td>0</td>\n",
       "      <td>NNNYNN</td>\n",
       "    </tr>\n",
       "    <tr>\n",
       "      <td>peak_181294</td>\n",
       "      <td>Scaffold_997</td>\n",
       "      <td>116</td>\n",
       "      <td>788</td>\n",
       "      <td>672</td>\n",
       "      <td>0</td>\n",
       "      <td>0</td>\n",
       "      <td>distal</td>\n",
       "      <td></td>\n",
       "      <td>NaN</td>\n",
       "      <td>0</td>\n",
       "      <td>1</td>\n",
       "      <td>1</td>\n",
       "      <td>1</td>\n",
       "      <td>1</td>\n",
       "      <td>0</td>\n",
       "      <td>NYYYYN</td>\n",
       "    </tr>\n",
       "  </tbody>\n",
       "</table>\n",
       "<p>181295 rows × 16 columns</p>\n",
       "</div>"
      ],
      "text/plain": [
       "                      Scaf  Start    End  Size  Repeat  Cons    Status  \\\n",
       "Peak                                                                     \n",
       "peak_0         Scaffold_10      7    279   272       1     0       tss   \n",
       "peak_1       Scaffold_1002   4118   4407   289       0     0    distal   \n",
       "peak_2       Scaffold_1003   1028   2793  1765       0     0    distal   \n",
       "peak_3       Scaffold_1003   2991   3498   507       0     0  proximal   \n",
       "peak_4       Scaffold_1003   6958   7356   398       0     0       tss   \n",
       "...                    ...    ...    ...   ...     ...   ...       ...   \n",
       "peak_181290   Scaffold_994  32968  33153   185       0     0    distal   \n",
       "peak_181291   Scaffold_994  33263  33897   634       1     0    distal   \n",
       "peak_181292   Scaffold_996   4449   4933   484       0     0  proximal   \n",
       "peak_181293   Scaffold_996   5109   5528   419       0     0       tss   \n",
       "peak_181294   Scaffold_997    116    788   672       0     0    distal   \n",
       "\n",
       "             Closest    Dist 16-cells EarlyBlastula LateBlastula Gastrula  \\\n",
       "Peak                                                                        \n",
       "peak_0       PL30914   566.0        0             1            1        0   \n",
       "peak_1                   NaN        0             1            1        1   \n",
       "peak_2       PL04642  5158.0        1             1            1        1   \n",
       "peak_3       PL04642  4453.0        0             1            1        1   \n",
       "peak_4       PL04642   595.0        0             1            1        1   \n",
       "...              ...     ...      ...           ...          ...      ...   \n",
       "peak_181290              NaN        0             1            1        0   \n",
       "peak_181291              NaN        1             1            1        1   \n",
       "peak_181292  PL25240  1503.0        0             1            1        1   \n",
       "peak_181293  PL25240   908.0        0             0            0        1   \n",
       "peak_181294              NaN        0             1            1        1   \n",
       "\n",
       "            Prism Pluteus Pattern  \n",
       "Peak                               \n",
       "peak_0          0       0  NYYNNN  \n",
       "peak_1          0       0  NYYYNN  \n",
       "peak_2          1       1  YYYYYY  \n",
       "peak_3          1       0  NYYYYN  \n",
       "peak_4          1       0  NYYYYN  \n",
       "...           ...     ...     ...  \n",
       "peak_181290     0       0  NYYNNN  \n",
       "peak_181291     1       1  YYYYYY  \n",
       "peak_181292     1       0  NYYYYN  \n",
       "peak_181293     0       0  NNNYNN  \n",
       "peak_181294     1       0  NYYYYN  \n",
       "\n",
       "[181295 rows x 16 columns]"
      ]
     },
     "execution_count": 147,
     "metadata": {},
     "output_type": "execute_result"
    }
   ],
   "source": [
    "peakMaster.reset_index()[['Scaf','Start','End','Peak']]"
   ]
  },
  {
   "cell_type": "code",
   "execution_count": 105,
   "metadata": {},
   "outputs": [
    {
     "name": "stdout",
     "output_type": "stream",
     "text": [
      "peak_0 7 279\n",
      "peak_1 4118 4407\n",
      "peak_2 1028 2793\n",
      "peak_3 2991 3498\n",
      "peak_4 6958 7356\n"
     ]
    }
   ],
   "source": [
    "for pk in peakMaster.head().itertuples():\n",
    "    print(pk.Index, pk.Start, pk.End)"
   ]
  },
  {
   "cell_type": "code",
   "execution_count": null,
   "metadata": {},
   "outputs": [],
   "source": [
    "peakMaster.to_csv('stage_peaks.txt',sep='\\t')"
   ]
  },
  {
   "cell_type": "code",
   "execution_count": 85,
   "metadata": {},
   "outputs": [],
   "source": [
    "patSet=set([p for p,n in Counter(patDict.values()).items() if n > 100])"
   ]
  },
  {
   "cell_type": "code",
   "execution_count": 55,
   "metadata": {},
   "outputs": [
    {
     "data": {
      "text/plain": [
       "{'NNNNNY',\n",
       " 'NNNNYN',\n",
       " 'NNNNYY',\n",
       " 'NNNYNN',\n",
       " 'NNNYYN',\n",
       " 'NNNYYY',\n",
       " 'NYYNNN',\n",
       " 'NYYYNN',\n",
       " 'NYYYYN',\n",
       " 'NYYYYY',\n",
       " 'YYYNNN',\n",
       " 'YYYYNN',\n",
       " 'YYYYYN',\n",
       " 'YYYYYY'}"
      ]
     },
     "execution_count": 55,
     "metadata": {},
     "output_type": "execute_result"
    }
   ],
   "source": [
    "patSet"
   ]
  },
  {
   "cell_type": "code",
   "execution_count": 190,
   "metadata": {},
   "outputs": [
    {
     "name": "stdout",
     "output_type": "stream",
     "text": [
      "Counter({1: 102821, 0: 78474})\n"
     ]
    }
   ],
   "source": [
    "print(Counter(repDict.values()))"
   ]
  },
  {
   "cell_type": "markdown",
   "metadata": {},
   "source": [
    "### Footprinting"
   ]
  },
  {
   "cell_type": "code",
   "execution_count": 83,
   "metadata": {},
   "outputs": [],
   "source": [
    "pk_tf={l[0]:l[1] for l in csv.reader(open('pk_bd_tf_an.tsv'),delimiter='\\t')}"
   ]
  },
  {
   "cell_type": "code",
   "execution_count": 84,
   "metadata": {},
   "outputs": [
    {
     "name": "stdout",
     "output_type": "stream",
     "text": [
      "('peak_108', 'z155,rel-1,ftzf,hey,rxr-1,z145,thap4-3,vdra,z218,rxr-2,pax6,z147,hnf6,neurod1,jun,plag1,tgif,xfin-4,mox,hxa10,z114,evi1,anln,oct1-2,irf4,ari5b,klf7,egr,tll,pax9,nfe2,hen1,clock,fxr,gcnf1,z103,glia,ptf1a,lhx3,soxb2,srf,nfil3,mad-2,srebp,cdx,hmb4,gabp,hox11,rfx5,smad4,sp2,klf15,pold,cp2,sox6l,sna,hlf-1,blimp1,creb1,cr3l3,stat,atf4l,runt1,usp10,foxc,eltd1,sia4b,lin54ll,e2f7,tead1,e2f3,scl,pou4f2,myod,alx3,elfa,sp8,cebpa,mlxpl,ppar1,z434,foxd,unchar-5802,klf13,unchar-10300,tbx20-2,shr2,ndufb9,nfya,lmx1b,tlx3,xbp1,irf,ap2,yyi,z181,ctl,pknox,tbr,z276,rreb1-1,tbx2b,otx-2,six3,soxf,osr,mafs,fra2,ntl,ehf,gatac,tssk4,soxb1,hmx,usf,hsf,mlx-1,unchar-11716,nfyc,alx1,nr1h6,mist,err,ctcf,p3a2,unchar-19815,z223,pu1,z326,tbx3,smarca3,scratch,hxbaa,glisb,xfin-2,unchar-4546,twi,unchar-15935,mef2c,hnf4,myor2,smad_ip,fos-2,gatal,dr-1,z367,nurr1,z480,unchar-16975,hand2,soxe,klf3,soxc,barh1,e12,tf7l2,fuk-1,maf,hxb9,rfx2,nfat,thr,bhe23,ngn,nkx3,rar,nk2,six1,tcfap4l,pbx1,suh-2,smad1')\n"
     ]
    }
   ],
   "source": [
    "print(list(pk_tf.items())[0])"
   ]
  },
  {
   "cell_type": "code",
   "execution_count": 85,
   "metadata": {},
   "outputs": [],
   "source": [
    "pk_an={l[0]:l[4] for l in csv.reader(open('bindetect_results_anf.txt'),delimiter='\\t')}"
   ]
  },
  {
   "cell_type": "code",
   "execution_count": 86,
   "metadata": {},
   "outputs": [],
   "source": [
    "pk_tff={l:['{}_{}'.format(e,pk_an[e]) for e in t if e in pk_an] for l,t in pk_tf.items()}"
   ]
  },
  {
   "cell_type": "code",
   "execution_count": 87,
   "metadata": {},
   "outputs": [
    {
     "name": "stdout",
     "output_type": "stream",
     "text": [
      "('peak_108', [])\n"
     ]
    }
   ],
   "source": [
    "print(list(pk_tff.items())[0])"
   ]
  },
  {
   "cell_type": "markdown",
   "metadata": {},
   "source": [
    "### Motifs"
   ]
  },
  {
   "cell_type": "code",
   "execution_count": 12,
   "metadata": {},
   "outputs": [],
   "source": [
    "peaks=pd.read_csv('stage_peaks_anc.tsv',sep='\\t')  "
   ]
  },
  {
   "cell_type": "code",
   "execution_count": 15,
   "metadata": {},
   "outputs": [],
   "source": [
    "patDict=pd.Series(peaks.Pattern.values,index=peaks.Peak).to_dict()"
   ]
  },
  {
   "cell_type": "code",
   "execution_count": 75,
   "metadata": {},
   "outputs": [],
   "source": [
    "with open('stage_4mael.txt','w') as out:\n",
    "    for i, r in peaks[(peaks['Status']!='tss')].iterrows():\n",
    "        out.write(\"{}:{}-{}\\t{}\\n\".format(r['Scaf'], r['Start'], r['End'],r['Pattern']))"
   ]
  },
  {
   "cell_type": "code",
   "execution_count": 70,
   "metadata": {},
   "outputs": [
    {
     "data": {
      "text/html": [
       "<div>\n",
       "<style scoped>\n",
       "    .dataframe tbody tr th:only-of-type {\n",
       "        vertical-align: middle;\n",
       "    }\n",
       "\n",
       "    .dataframe tbody tr th {\n",
       "        vertical-align: top;\n",
       "    }\n",
       "\n",
       "    .dataframe thead th {\n",
       "        text-align: right;\n",
       "    }\n",
       "</style>\n",
       "<table border=\"1\" class=\"dataframe\">\n",
       "  <thead>\n",
       "    <tr style=\"text-align: right;\">\n",
       "      <th></th>\n",
       "      <th>Peak</th>\n",
       "      <th>Scaf</th>\n",
       "      <th>Start</th>\n",
       "      <th>End</th>\n",
       "      <th>Size</th>\n",
       "      <th>Repeat</th>\n",
       "      <th>Cons</th>\n",
       "      <th>Status</th>\n",
       "      <th>Closest</th>\n",
       "      <th>ClosestN</th>\n",
       "      <th>...</th>\n",
       "      <th>16-cells</th>\n",
       "      <th>EarlyBlastula</th>\n",
       "      <th>LateBlastula</th>\n",
       "      <th>Gastrula</th>\n",
       "      <th>Prism</th>\n",
       "      <th>Pluteus</th>\n",
       "      <th>Pattern</th>\n",
       "      <th>Motif</th>\n",
       "      <th>Motif_TF</th>\n",
       "      <th>cons</th>\n",
       "    </tr>\n",
       "  </thead>\n",
       "  <tbody>\n",
       "    <tr>\n",
       "      <th>0</th>\n",
       "      <td>peak_1</td>\n",
       "      <td>Scaffold_1002</td>\n",
       "      <td>4118</td>\n",
       "      <td>4407</td>\n",
       "      <td>289</td>\n",
       "      <td>0</td>\n",
       "      <td>0</td>\n",
       "      <td>distal</td>\n",
       "      <td>NaN</td>\n",
       "      <td>NaN</td>\n",
       "      <td>...</td>\n",
       "      <td>0</td>\n",
       "      <td>1</td>\n",
       "      <td>1</td>\n",
       "      <td>1</td>\n",
       "      <td>0</td>\n",
       "      <td>0</td>\n",
       "      <td>NYYYNN</td>\n",
       "      <td>Nuclear_receptor.0005,Homeodomain.0029,Homeodo...</td>\n",
       "      <td>FXR,Gata2,LHX6,ZNF528,DUX4,ZNF274,CUX1,NFAT5,I...</td>\n",
       "      <td>0.000000</td>\n",
       "    </tr>\n",
       "    <tr>\n",
       "      <th>2</th>\n",
       "      <td>peak_6</td>\n",
       "      <td>Scaffold_1003</td>\n",
       "      <td>8646</td>\n",
       "      <td>8823</td>\n",
       "      <td>177</td>\n",
       "      <td>0</td>\n",
       "      <td>0</td>\n",
       "      <td>genebody</td>\n",
       "      <td>PL04642</td>\n",
       "      <td>unchar-7019</td>\n",
       "      <td>...</td>\n",
       "      <td>0</td>\n",
       "      <td>1</td>\n",
       "      <td>1</td>\n",
       "      <td>0</td>\n",
       "      <td>0</td>\n",
       "      <td>0</td>\n",
       "      <td>NYYNNN</td>\n",
       "      <td>C2H2_ZF.0109,C2H2_ZF.0236,C2H2_ZF.0264</td>\n",
       "      <td>Ovol1,REST,Ovol1</td>\n",
       "      <td>0.277508</td>\n",
       "    </tr>\n",
       "    <tr>\n",
       "      <th>3</th>\n",
       "      <td>peak_15</td>\n",
       "      <td>Scaffold_1006</td>\n",
       "      <td>27294</td>\n",
       "      <td>27555</td>\n",
       "      <td>261</td>\n",
       "      <td>0</td>\n",
       "      <td>0</td>\n",
       "      <td>proximal</td>\n",
       "      <td>PL41561</td>\n",
       "      <td>unchar-21852</td>\n",
       "      <td>...</td>\n",
       "      <td>0</td>\n",
       "      <td>1</td>\n",
       "      <td>1</td>\n",
       "      <td>1</td>\n",
       "      <td>1</td>\n",
       "      <td>0</td>\n",
       "      <td>NYYYYN</td>\n",
       "      <td>C2H2_ZF.0026,bZIP.0039,bZIP.0043,Mixed.0048,Nu...</td>\n",
       "      <td>ATF3,CEBPB,HLF,SIX5,HNF4G,ETS1,STAT3,PKNOX1,Tc...</td>\n",
       "      <td>0.137238</td>\n",
       "    </tr>\n",
       "    <tr>\n",
       "      <th>6</th>\n",
       "      <td>peak_27</td>\n",
       "      <td>Scaffold_101</td>\n",
       "      <td>1945</td>\n",
       "      <td>2432</td>\n",
       "      <td>487</td>\n",
       "      <td>0</td>\n",
       "      <td>0</td>\n",
       "      <td>distal</td>\n",
       "      <td>NaN</td>\n",
       "      <td>NaN</td>\n",
       "      <td>...</td>\n",
       "      <td>0</td>\n",
       "      <td>1</td>\n",
       "      <td>1</td>\n",
       "      <td>0</td>\n",
       "      <td>0</td>\n",
       "      <td>0</td>\n",
       "      <td>NYYNNN</td>\n",
       "      <td>bHLH.0007,bHLH.0010,Sox.0006,bHLH.0023,bHLH.00...</td>\n",
       "      <td>Atoh1,Olig2,SOX14,CLOCK,HEY1,HES5,BHLHA15,FOXA...</td>\n",
       "      <td>0.000000</td>\n",
       "    </tr>\n",
       "    <tr>\n",
       "      <th>7</th>\n",
       "      <td>peak_53</td>\n",
       "      <td>Scaffold_1012</td>\n",
       "      <td>118456</td>\n",
       "      <td>118679</td>\n",
       "      <td>223</td>\n",
       "      <td>0</td>\n",
       "      <td>0</td>\n",
       "      <td>distal</td>\n",
       "      <td>PL41476</td>\n",
       "      <td>unchar-1347</td>\n",
       "      <td>...</td>\n",
       "      <td>0</td>\n",
       "      <td>1</td>\n",
       "      <td>1</td>\n",
       "      <td>0</td>\n",
       "      <td>0</td>\n",
       "      <td>0</td>\n",
       "      <td>NYYNNN</td>\n",
       "      <td>Sox.0018,C2H2_ZF.0092,Sox.0024,Mixed.0044,Sox....</td>\n",
       "      <td>SOX10,HIC1,SOX10,BDP1,SOX21,MAF,MEF2A,ZBTB12,F...</td>\n",
       "      <td>0.000000</td>\n",
       "    </tr>\n",
       "    <tr>\n",
       "      <th>...</th>\n",
       "      <td>...</td>\n",
       "      <td>...</td>\n",
       "      <td>...</td>\n",
       "      <td>...</td>\n",
       "      <td>...</td>\n",
       "      <td>...</td>\n",
       "      <td>...</td>\n",
       "      <td>...</td>\n",
       "      <td>...</td>\n",
       "      <td>...</td>\n",
       "      <td>...</td>\n",
       "      <td>...</td>\n",
       "      <td>...</td>\n",
       "      <td>...</td>\n",
       "      <td>...</td>\n",
       "      <td>...</td>\n",
       "      <td>...</td>\n",
       "      <td>...</td>\n",
       "      <td>...</td>\n",
       "      <td>...</td>\n",
       "      <td>...</td>\n",
       "    </tr>\n",
       "    <tr>\n",
       "      <th>78468</th>\n",
       "      <td>peak_181272</td>\n",
       "      <td>Scaffold_993</td>\n",
       "      <td>4133</td>\n",
       "      <td>5332</td>\n",
       "      <td>1199</td>\n",
       "      <td>0</td>\n",
       "      <td>0</td>\n",
       "      <td>distal</td>\n",
       "      <td>PL41462</td>\n",
       "      <td>NaN</td>\n",
       "      <td>...</td>\n",
       "      <td>1</td>\n",
       "      <td>1</td>\n",
       "      <td>1</td>\n",
       "      <td>1</td>\n",
       "      <td>1</td>\n",
       "      <td>1</td>\n",
       "      <td>YYYYYY</td>\n",
       "      <td>Homeodomain.0003,MADS_box.0002,bZIP.0011,Myb_S...</td>\n",
       "      <td>HOXB7,AC002126.6,CEBPE,Mybl2,SOX9,Mef2a,KLF9,N...</td>\n",
       "      <td>0.000000</td>\n",
       "    </tr>\n",
       "    <tr>\n",
       "      <th>78469</th>\n",
       "      <td>peak_181278</td>\n",
       "      <td>Scaffold_994</td>\n",
       "      <td>13372</td>\n",
       "      <td>13592</td>\n",
       "      <td>220</td>\n",
       "      <td>0</td>\n",
       "      <td>0</td>\n",
       "      <td>distal</td>\n",
       "      <td>NaN</td>\n",
       "      <td>NaN</td>\n",
       "      <td>...</td>\n",
       "      <td>0</td>\n",
       "      <td>1</td>\n",
       "      <td>1</td>\n",
       "      <td>1</td>\n",
       "      <td>1</td>\n",
       "      <td>0</td>\n",
       "      <td>NYYYYN</td>\n",
       "      <td>C2H2_ZF.0044,Nuclear_receptor.0051,IRF.0008,Mi...</td>\n",
       "      <td>IKZF1,NR2F2,Irf3,FLI1,CUX1,CUX1,PPARG</td>\n",
       "      <td>0.000000</td>\n",
       "    </tr>\n",
       "    <tr>\n",
       "      <th>78470</th>\n",
       "      <td>peak_181279</td>\n",
       "      <td>Scaffold_994</td>\n",
       "      <td>13860</td>\n",
       "      <td>14819</td>\n",
       "      <td>959</td>\n",
       "      <td>0</td>\n",
       "      <td>0</td>\n",
       "      <td>distal</td>\n",
       "      <td>NaN</td>\n",
       "      <td>NaN</td>\n",
       "      <td>...</td>\n",
       "      <td>1</td>\n",
       "      <td>1</td>\n",
       "      <td>1</td>\n",
       "      <td>1</td>\n",
       "      <td>1</td>\n",
       "      <td>0</td>\n",
       "      <td>YYYYYN</td>\n",
       "      <td>Ets.0002,Homeodomain.0010,bHLH.0010,Sox.0007,D...</td>\n",
       "      <td>ELF5,Rhox8,Olig2,SOX9,DMRT1,Myf5,JUND,IKZF1,MY...</td>\n",
       "      <td>0.031510</td>\n",
       "    </tr>\n",
       "    <tr>\n",
       "      <th>78471</th>\n",
       "      <td>peak_181280</td>\n",
       "      <td>Scaffold_994</td>\n",
       "      <td>14959</td>\n",
       "      <td>15062</td>\n",
       "      <td>103</td>\n",
       "      <td>0</td>\n",
       "      <td>0</td>\n",
       "      <td>distal</td>\n",
       "      <td>NaN</td>\n",
       "      <td>NaN</td>\n",
       "      <td>...</td>\n",
       "      <td>0</td>\n",
       "      <td>1</td>\n",
       "      <td>1</td>\n",
       "      <td>0</td>\n",
       "      <td>0</td>\n",
       "      <td>0</td>\n",
       "      <td>NYYNNN</td>\n",
       "      <td>NaN</td>\n",
       "      <td>NaN</td>\n",
       "      <td>0.000000</td>\n",
       "    </tr>\n",
       "    <tr>\n",
       "      <th>78472</th>\n",
       "      <td>peak_181281</td>\n",
       "      <td>Scaffold_994</td>\n",
       "      <td>15913</td>\n",
       "      <td>16244</td>\n",
       "      <td>331</td>\n",
       "      <td>0</td>\n",
       "      <td>0</td>\n",
       "      <td>distal</td>\n",
       "      <td>NaN</td>\n",
       "      <td>NaN</td>\n",
       "      <td>...</td>\n",
       "      <td>1</td>\n",
       "      <td>1</td>\n",
       "      <td>1</td>\n",
       "      <td>1</td>\n",
       "      <td>1</td>\n",
       "      <td>0</td>\n",
       "      <td>YYYYYN</td>\n",
       "      <td>Myb_SANT.0001,Sox.0003,Homeodomain.0049,Homeod...</td>\n",
       "      <td>MYBL1,Sox3,PITX1,Obox1,SOX10,MECOM,HNF4G,STAT1...</td>\n",
       "      <td>0.055393</td>\n",
       "    </tr>\n",
       "  </tbody>\n",
       "</table>\n",
       "<p>62616 rows × 21 columns</p>\n",
       "</div>"
      ],
      "text/plain": [
       "              Peak           Scaf   Start     End  Size  Repeat  Cons  \\\n",
       "0           peak_1  Scaffold_1002    4118    4407   289       0     0   \n",
       "2           peak_6  Scaffold_1003    8646    8823   177       0     0   \n",
       "3          peak_15  Scaffold_1006   27294   27555   261       0     0   \n",
       "6          peak_27   Scaffold_101    1945    2432   487       0     0   \n",
       "7          peak_53  Scaffold_1012  118456  118679   223       0     0   \n",
       "...            ...            ...     ...     ...   ...     ...   ...   \n",
       "78468  peak_181272   Scaffold_993    4133    5332  1199       0     0   \n",
       "78469  peak_181278   Scaffold_994   13372   13592   220       0     0   \n",
       "78470  peak_181279   Scaffold_994   13860   14819   959       0     0   \n",
       "78471  peak_181280   Scaffold_994   14959   15062   103       0     0   \n",
       "78472  peak_181281   Scaffold_994   15913   16244   331       0     0   \n",
       "\n",
       "         Status  Closest      ClosestN  ...  16-cells  EarlyBlastula  \\\n",
       "0        distal      NaN           NaN  ...         0              1   \n",
       "2      genebody  PL04642   unchar-7019  ...         0              1   \n",
       "3      proximal  PL41561  unchar-21852  ...         0              1   \n",
       "6        distal      NaN           NaN  ...         0              1   \n",
       "7        distal  PL41476   unchar-1347  ...         0              1   \n",
       "...         ...      ...           ...  ...       ...            ...   \n",
       "78468    distal  PL41462           NaN  ...         1              1   \n",
       "78469    distal      NaN           NaN  ...         0              1   \n",
       "78470    distal      NaN           NaN  ...         1              1   \n",
       "78471    distal      NaN           NaN  ...         0              1   \n",
       "78472    distal      NaN           NaN  ...         1              1   \n",
       "\n",
       "       LateBlastula  Gastrula  Prism  Pluteus  Pattern  \\\n",
       "0                 1         1      0        0   NYYYNN   \n",
       "2                 1         0      0        0   NYYNNN   \n",
       "3                 1         1      1        0   NYYYYN   \n",
       "6                 1         0      0        0   NYYNNN   \n",
       "7                 1         0      0        0   NYYNNN   \n",
       "...             ...       ...    ...      ...      ...   \n",
       "78468             1         1      1        1   YYYYYY   \n",
       "78469             1         1      1        0   NYYYYN   \n",
       "78470             1         1      1        0   YYYYYN   \n",
       "78471             1         0      0        0   NYYNNN   \n",
       "78472             1         1      1        0   YYYYYN   \n",
       "\n",
       "                                                   Motif  \\\n",
       "0      Nuclear_receptor.0005,Homeodomain.0029,Homeodo...   \n",
       "2                 C2H2_ZF.0109,C2H2_ZF.0236,C2H2_ZF.0264   \n",
       "3      C2H2_ZF.0026,bZIP.0039,bZIP.0043,Mixed.0048,Nu...   \n",
       "6      bHLH.0007,bHLH.0010,Sox.0006,bHLH.0023,bHLH.00...   \n",
       "7      Sox.0018,C2H2_ZF.0092,Sox.0024,Mixed.0044,Sox....   \n",
       "...                                                  ...   \n",
       "78468  Homeodomain.0003,MADS_box.0002,bZIP.0011,Myb_S...   \n",
       "78469  C2H2_ZF.0044,Nuclear_receptor.0051,IRF.0008,Mi...   \n",
       "78470  Ets.0002,Homeodomain.0010,bHLH.0010,Sox.0007,D...   \n",
       "78471                                                NaN   \n",
       "78472  Myb_SANT.0001,Sox.0003,Homeodomain.0049,Homeod...   \n",
       "\n",
       "                                                Motif_TF      cons  \n",
       "0      FXR,Gata2,LHX6,ZNF528,DUX4,ZNF274,CUX1,NFAT5,I...  0.000000  \n",
       "2                                       Ovol1,REST,Ovol1  0.277508  \n",
       "3      ATF3,CEBPB,HLF,SIX5,HNF4G,ETS1,STAT3,PKNOX1,Tc...  0.137238  \n",
       "6      Atoh1,Olig2,SOX14,CLOCK,HEY1,HES5,BHLHA15,FOXA...  0.000000  \n",
       "7      SOX10,HIC1,SOX10,BDP1,SOX21,MAF,MEF2A,ZBTB12,F...  0.000000  \n",
       "...                                                  ...       ...  \n",
       "78468  HOXB7,AC002126.6,CEBPE,Mybl2,SOX9,Mef2a,KLF9,N...  0.000000  \n",
       "78469              IKZF1,NR2F2,Irf3,FLI1,CUX1,CUX1,PPARG  0.000000  \n",
       "78470  ELF5,Rhox8,Olig2,SOX9,DMRT1,Myf5,JUND,IKZF1,MY...  0.031510  \n",
       "78471                                                NaN  0.000000  \n",
       "78472  MYBL1,Sox3,PITX1,Obox1,SOX10,MECOM,HNF4G,STAT1...  0.055393  \n",
       "\n",
       "[62616 rows x 21 columns]"
      ]
     },
     "execution_count": 70,
     "metadata": {},
     "output_type": "execute_result"
    }
   ],
   "source": [
    "peaks[(peaks['Status']!='tss')]"
   ]
  },
  {
   "cell_type": "code",
   "execution_count": 49,
   "metadata": {},
   "outputs": [
    {
     "data": {
      "text/plain": [
       "['Homeodomain.0003',\n",
       " 'Paired_box.0001',\n",
       " 'Homeodomain_Paired_box.0001',\n",
       " 'Homeodomain.0017',\n",
       " 'Homeodomain.0027',\n",
       " 'Homeodomain_Paired_box.0002',\n",
       " 'Paired_box.0003',\n",
       " 'Homeodomain.0085',\n",
       " 'Homeodomain.0089',\n",
       " 'Homeodomain.0096',\n",
       " 'Paired_box.0004',\n",
       " 'Paired_box.0009',\n",
       " 'Homeodomain.0135',\n",
       " 'Paired_box.0014',\n",
       " 'GATA.0018',\n",
       " 'Mixed.0076',\n",
       " 'Homeodomain.0160',\n",
       " 'Unknown.0122',\n",
       " 'Mixed.0083',\n",
       " 'C2H2_ZF.0219',\n",
       " 'SAND.0008',\n",
       " 'Forkhead.0057']"
      ]
     },
     "execution_count": 49,
     "metadata": {},
     "output_type": "execute_result"
    }
   ],
   "source": [
    "pkTF['peak_3443']"
   ]
  },
  {
   "cell_type": "code",
   "execution_count": 56,
   "metadata": {},
   "outputs": [
    {
     "data": {
      "text/plain": [
       "{'NNNNNY',\n",
       " 'NNNNYN',\n",
       " 'NNNNYY',\n",
       " 'NNNYNN',\n",
       " 'NNNYYN',\n",
       " 'NNNYYY',\n",
       " 'NYYNNN',\n",
       " 'NYYYNN',\n",
       " 'NYYYYN',\n",
       " 'NYYYYY',\n",
       " 'YYYNNN',\n",
       " 'YYYYNN',\n",
       " 'YYYYYN',\n",
       " 'YYYYYY'}"
      ]
     },
     "execution_count": 56,
     "metadata": {},
     "output_type": "execute_result"
    }
   ],
   "source": [
    "patSet"
   ]
  },
  {
   "cell_type": "code",
   "execution_count": 54,
   "metadata": {},
   "outputs": [],
   "source": [
    "patSet=set(['NYYYNN', 'YYYYNN', 'NYYNNN', 'NYYYYN', 'YYYYYY', 'YYYYYN', 'NNNYYN', 'NYYYYY', 'NNNYNN', 'NNNNYN',  'NNNYYY', 'YYYNNN', 'NNNNYY', 'NNNNNY'])"
   ]
  },
  {
   "cell_type": "code",
   "execution_count": 7,
   "metadata": {},
   "outputs": [],
   "source": [
    "pkTF=defaultdict(list)\n",
    "pkTFs,pkTGs={},{}\n",
    "for elts in csv.reader(open('pk_tf.txt'),delimiter='\\t'):\n",
    "    pkTF[elts[0]]=elts[1].split(',')   \n",
    "    pkTFs[elts[0]]=elts[1]\n",
    "    pkTGs[elts[0]]=elts[2]"
   ]
  },
  {
   "cell_type": "code",
   "execution_count": 76,
   "metadata": {},
   "outputs": [
    {
     "name": "stdout",
     "output_type": "stream",
     "text": [
      "['peak_1', 'peak_6', 'peak_15', 'peak_27', 'peak_53']\n"
     ]
    }
   ],
   "source": [
    "print(list(pkTGs.keys())[0:5])"
   ]
  },
  {
   "cell_type": "code",
   "execution_count": 18,
   "metadata": {},
   "outputs": [],
   "source": [
    "pkByTf=defaultdict(list)\n",
    "for pk in pkTF:\n",
    "    if pk in patDict:\n",
    "        pat=patDict[pk]\n",
    "        for fm in pkTF[pk]:\n",
    "            pkByTf[fm].append(pk)"
   ]
  },
  {
   "cell_type": "code",
   "execution_count": 80,
   "metadata": {},
   "outputs": [],
   "source": [
    "ctByTf={}\n",
    "for m,p in pkByTf.items():\n",
    "    ctByTf[m]=len(p)"
   ]
  },
  {
   "cell_type": "code",
   "execution_count": null,
   "metadata": {},
   "outputs": [],
   "source": [
    "sorted(ctByTf.items(),key=lambda x:x[1],reverse=True)"
   ]
  },
  {
   "cell_type": "code",
   "execution_count": 50,
   "metadata": {},
   "outputs": [],
   "source": [
    "patTF = {}\n",
    "for tf,pks in pkByTf.items():\n",
    "    pkpat=defaultdict(int)\n",
    "    for pat in patSet:\n",
    "        for pk in pks:\n",
    "            if patDict[pk]==pat:\n",
    "                pkpat[pat]+=1\n",
    "    patTF[tf]=pkpat"
   ]
  },
  {
   "cell_type": "code",
   "execution_count": 51,
   "metadata": {},
   "outputs": [],
   "source": [
    "matPatTF=pd.DataFrame.from_dict(patTF, orient='index').fillna(0)"
   ]
  },
  {
   "cell_type": "code",
   "execution_count": 64,
   "metadata": {},
   "outputs": [
    {
     "data": {
      "text/html": [
       "<div>\n",
       "<style scoped>\n",
       "    .dataframe tbody tr th:only-of-type {\n",
       "        vertical-align: middle;\n",
       "    }\n",
       "\n",
       "    .dataframe tbody tr th {\n",
       "        vertical-align: top;\n",
       "    }\n",
       "\n",
       "    .dataframe thead th {\n",
       "        text-align: right;\n",
       "    }\n",
       "</style>\n",
       "<table border=\"1\" class=\"dataframe\">\n",
       "  <thead>\n",
       "    <tr style=\"text-align: right;\">\n",
       "      <th></th>\n",
       "      <th>NYYYNN</th>\n",
       "      <th>YYYYNN</th>\n",
       "      <th>NYYNNN</th>\n",
       "      <th>NYYYYN</th>\n",
       "      <th>YYYYYY</th>\n",
       "      <th>YYYYYN</th>\n",
       "      <th>NNNYYN</th>\n",
       "      <th>NYYYYY</th>\n",
       "      <th>NNNYNN</th>\n",
       "      <th>NNNNYN</th>\n",
       "      <th>NNNYYY</th>\n",
       "      <th>YYYNNN</th>\n",
       "      <th>NNNNYY</th>\n",
       "      <th>NNNNNY</th>\n",
       "    </tr>\n",
       "  </thead>\n",
       "  <tbody>\n",
       "    <tr>\n",
       "      <th>Nuclear_receptor.0005</th>\n",
       "      <td>80.0</td>\n",
       "      <td>12.0</td>\n",
       "      <td>149.0</td>\n",
       "      <td>218.0</td>\n",
       "      <td>215.0</td>\n",
       "      <td>64.0</td>\n",
       "      <td>215.0</td>\n",
       "      <td>290.0</td>\n",
       "      <td>169.0</td>\n",
       "      <td>27.0</td>\n",
       "      <td>172.0</td>\n",
       "      <td>8.0</td>\n",
       "      <td>7.0</td>\n",
       "      <td>3.0</td>\n",
       "    </tr>\n",
       "    <tr>\n",
       "      <th>Homeodomain.0029</th>\n",
       "      <td>115.0</td>\n",
       "      <td>4.0</td>\n",
       "      <td>138.0</td>\n",
       "      <td>279.0</td>\n",
       "      <td>321.0</td>\n",
       "      <td>79.0</td>\n",
       "      <td>210.0</td>\n",
       "      <td>403.0</td>\n",
       "      <td>134.0</td>\n",
       "      <td>42.0</td>\n",
       "      <td>187.0</td>\n",
       "      <td>2.0</td>\n",
       "      <td>19.0</td>\n",
       "      <td>4.0</td>\n",
       "    </tr>\n",
       "    <tr>\n",
       "      <th>C2H2_ZF.0080</th>\n",
       "      <td>61.0</td>\n",
       "      <td>6.0</td>\n",
       "      <td>94.0</td>\n",
       "      <td>170.0</td>\n",
       "      <td>220.0</td>\n",
       "      <td>40.0</td>\n",
       "      <td>122.0</td>\n",
       "      <td>223.0</td>\n",
       "      <td>96.0</td>\n",
       "      <td>14.0</td>\n",
       "      <td>90.0</td>\n",
       "      <td>2.0</td>\n",
       "      <td>4.0</td>\n",
       "      <td>2.0</td>\n",
       "    </tr>\n",
       "    <tr>\n",
       "      <th>C2H2_ZF.0118</th>\n",
       "      <td>84.0</td>\n",
       "      <td>12.0</td>\n",
       "      <td>148.0</td>\n",
       "      <td>206.0</td>\n",
       "      <td>304.0</td>\n",
       "      <td>58.0</td>\n",
       "      <td>174.0</td>\n",
       "      <td>273.0</td>\n",
       "      <td>134.0</td>\n",
       "      <td>14.0</td>\n",
       "      <td>150.0</td>\n",
       "      <td>3.0</td>\n",
       "      <td>1.0</td>\n",
       "      <td>2.0</td>\n",
       "    </tr>\n",
       "    <tr>\n",
       "      <th>CUT_Homeodomain.0005</th>\n",
       "      <td>69.0</td>\n",
       "      <td>2.0</td>\n",
       "      <td>63.0</td>\n",
       "      <td>154.0</td>\n",
       "      <td>227.0</td>\n",
       "      <td>47.0</td>\n",
       "      <td>137.0</td>\n",
       "      <td>337.0</td>\n",
       "      <td>90.0</td>\n",
       "      <td>37.0</td>\n",
       "      <td>202.0</td>\n",
       "      <td>4.0</td>\n",
       "      <td>22.0</td>\n",
       "      <td>5.0</td>\n",
       "    </tr>\n",
       "    <tr>\n",
       "      <th>...</th>\n",
       "      <td>...</td>\n",
       "      <td>...</td>\n",
       "      <td>...</td>\n",
       "      <td>...</td>\n",
       "      <td>...</td>\n",
       "      <td>...</td>\n",
       "      <td>...</td>\n",
       "      <td>...</td>\n",
       "      <td>...</td>\n",
       "      <td>...</td>\n",
       "      <td>...</td>\n",
       "      <td>...</td>\n",
       "      <td>...</td>\n",
       "      <td>...</td>\n",
       "    </tr>\n",
       "    <tr>\n",
       "      <th>Nuclear_receptor.0050</th>\n",
       "      <td>7.0</td>\n",
       "      <td>2.0</td>\n",
       "      <td>11.0</td>\n",
       "      <td>13.0</td>\n",
       "      <td>18.0</td>\n",
       "      <td>4.0</td>\n",
       "      <td>6.0</td>\n",
       "      <td>12.0</td>\n",
       "      <td>12.0</td>\n",
       "      <td>2.0</td>\n",
       "      <td>11.0</td>\n",
       "      <td>3.0</td>\n",
       "      <td>0.0</td>\n",
       "      <td>1.0</td>\n",
       "    </tr>\n",
       "    <tr>\n",
       "      <th>Runt.0002</th>\n",
       "      <td>10.0</td>\n",
       "      <td>3.0</td>\n",
       "      <td>23.0</td>\n",
       "      <td>43.0</td>\n",
       "      <td>33.0</td>\n",
       "      <td>8.0</td>\n",
       "      <td>28.0</td>\n",
       "      <td>51.0</td>\n",
       "      <td>20.0</td>\n",
       "      <td>3.0</td>\n",
       "      <td>16.0</td>\n",
       "      <td>1.0</td>\n",
       "      <td>0.0</td>\n",
       "      <td>1.0</td>\n",
       "    </tr>\n",
       "    <tr>\n",
       "      <th>bHLH.0093</th>\n",
       "      <td>11.0</td>\n",
       "      <td>0.0</td>\n",
       "      <td>12.0</td>\n",
       "      <td>15.0</td>\n",
       "      <td>21.0</td>\n",
       "      <td>4.0</td>\n",
       "      <td>12.0</td>\n",
       "      <td>22.0</td>\n",
       "      <td>11.0</td>\n",
       "      <td>1.0</td>\n",
       "      <td>3.0</td>\n",
       "      <td>0.0</td>\n",
       "      <td>1.0</td>\n",
       "      <td>1.0</td>\n",
       "    </tr>\n",
       "    <tr>\n",
       "      <th>Nuclear_receptor.0139</th>\n",
       "      <td>6.0</td>\n",
       "      <td>1.0</td>\n",
       "      <td>21.0</td>\n",
       "      <td>23.0</td>\n",
       "      <td>22.0</td>\n",
       "      <td>10.0</td>\n",
       "      <td>15.0</td>\n",
       "      <td>27.0</td>\n",
       "      <td>16.0</td>\n",
       "      <td>2.0</td>\n",
       "      <td>8.0</td>\n",
       "      <td>2.0</td>\n",
       "      <td>0.0</td>\n",
       "      <td>1.0</td>\n",
       "    </tr>\n",
       "    <tr>\n",
       "      <th>C2H2_ZF.0138</th>\n",
       "      <td>1.0</td>\n",
       "      <td>1.0</td>\n",
       "      <td>3.0</td>\n",
       "      <td>2.0</td>\n",
       "      <td>3.0</td>\n",
       "      <td>5.0</td>\n",
       "      <td>3.0</td>\n",
       "      <td>3.0</td>\n",
       "      <td>1.0</td>\n",
       "      <td>0.0</td>\n",
       "      <td>0.0</td>\n",
       "      <td>0.0</td>\n",
       "      <td>0.0</td>\n",
       "      <td>1.0</td>\n",
       "    </tr>\n",
       "  </tbody>\n",
       "</table>\n",
       "<p>905 rows × 14 columns</p>\n",
       "</div>"
      ],
      "text/plain": [
       "                       NYYYNN  YYYYNN  NYYNNN  NYYYYN  YYYYYY  YYYYYN  NNNYYN  \\\n",
       "Nuclear_receptor.0005    80.0    12.0   149.0   218.0   215.0    64.0   215.0   \n",
       "Homeodomain.0029        115.0     4.0   138.0   279.0   321.0    79.0   210.0   \n",
       "C2H2_ZF.0080             61.0     6.0    94.0   170.0   220.0    40.0   122.0   \n",
       "C2H2_ZF.0118             84.0    12.0   148.0   206.0   304.0    58.0   174.0   \n",
       "CUT_Homeodomain.0005     69.0     2.0    63.0   154.0   227.0    47.0   137.0   \n",
       "...                       ...     ...     ...     ...     ...     ...     ...   \n",
       "Nuclear_receptor.0050     7.0     2.0    11.0    13.0    18.0     4.0     6.0   \n",
       "Runt.0002                10.0     3.0    23.0    43.0    33.0     8.0    28.0   \n",
       "bHLH.0093                11.0     0.0    12.0    15.0    21.0     4.0    12.0   \n",
       "Nuclear_receptor.0139     6.0     1.0    21.0    23.0    22.0    10.0    15.0   \n",
       "C2H2_ZF.0138              1.0     1.0     3.0     2.0     3.0     5.0     3.0   \n",
       "\n",
       "                       NYYYYY  NNNYNN  NNNNYN  NNNYYY  YYYNNN  NNNNYY  NNNNNY  \n",
       "Nuclear_receptor.0005   290.0   169.0    27.0   172.0     8.0     7.0     3.0  \n",
       "Homeodomain.0029        403.0   134.0    42.0   187.0     2.0    19.0     4.0  \n",
       "C2H2_ZF.0080            223.0    96.0    14.0    90.0     2.0     4.0     2.0  \n",
       "C2H2_ZF.0118            273.0   134.0    14.0   150.0     3.0     1.0     2.0  \n",
       "CUT_Homeodomain.0005    337.0    90.0    37.0   202.0     4.0    22.0     5.0  \n",
       "...                       ...     ...     ...     ...     ...     ...     ...  \n",
       "Nuclear_receptor.0050    12.0    12.0     2.0    11.0     3.0     0.0     1.0  \n",
       "Runt.0002                51.0    20.0     3.0    16.0     1.0     0.0     1.0  \n",
       "bHLH.0093                22.0    11.0     1.0     3.0     0.0     1.0     1.0  \n",
       "Nuclear_receptor.0139    27.0    16.0     2.0     8.0     2.0     0.0     1.0  \n",
       "C2H2_ZF.0138              3.0     1.0     0.0     0.0     0.0     0.0     1.0  \n",
       "\n",
       "[905 rows x 14 columns]"
      ]
     },
     "execution_count": 64,
     "metadata": {},
     "output_type": "execute_result"
    }
   ],
   "source": [
    "matPatTF[(matPatTF['NNNNNY']!=0)]"
   ]
  },
  {
   "cell_type": "code",
   "execution_count": 57,
   "metadata": {},
   "outputs": [],
   "source": [
    "from scipy.stats import hypergeom\n",
    "from statsmodels.stats.multitest import multipletests"
   ]
  },
  {
   "cell_type": "code",
   "execution_count": 58,
   "metadata": {},
   "outputs": [],
   "source": [
    "matPatTF.to_csv('mat_tf_pattern.txt',sep='\\t')"
   ]
  },
  {
   "cell_type": "code",
   "execution_count": 59,
   "metadata": {},
   "outputs": [],
   "source": [
    "nbtf=matPatTF.to_numpy().sum()"
   ]
  },
  {
   "cell_type": "code",
   "execution_count": 33,
   "metadata": {},
   "outputs": [
    {
     "name": "stdout",
     "output_type": "stream",
     "text": [
      "1585760.0 1629.0 92152.0\n"
     ]
    }
   ],
   "source": [
    "print(nbtf,matPatTF.sum(axis=1)[0],matPatTF.sum(axis=0)[0])"
   ]
  },
  {
   "cell_type": "code",
   "execution_count": 34,
   "metadata": {},
   "outputs": [
    {
     "data": {
      "text/plain": [
       "1.0"
      ]
     },
     "execution_count": 34,
     "metadata": {},
     "output_type": "execute_result"
    }
   ],
   "source": [
    "hypergeom.sf(3,nbtf,matPatTF.sum(axis=1)[0],matPatTF.sum(axis=0)[0])"
   ]
  },
  {
   "cell_type": "code",
   "execution_count": 228,
   "metadata": {},
   "outputs": [
    {
     "data": {
      "text/plain": [
       "<scipy.stats._distn_infrastructure.rv_frozen at 0x7f9d7ca84828>"
      ]
     },
     "execution_count": 228,
     "metadata": {},
     "output_type": "execute_result"
    }
   ],
   "source": [
    "hypergeom(218,sum(matPatTF.iloc[0]),sum(matPatTF.iloc[:,0]))"
   ]
  },
  {
   "cell_type": "code",
   "execution_count": 252,
   "metadata": {},
   "outputs": [
    {
     "data": {
      "text/plain": [
       "218.0"
      ]
     },
     "execution_count": 252,
     "metadata": {},
     "output_type": "execute_result"
    }
   ],
   "source": [
    "matPatTF.iloc[0, matPatTF.columns.get_loc('NYYYYN')]"
   ]
  },
  {
   "cell_type": "code",
   "execution_count": 60,
   "metadata": {},
   "outputs": [],
   "source": [
    "pvalPat=pd.DataFrame(index=matPatTF.index)"
   ]
  },
  {
   "cell_type": "code",
   "execution_count": 38,
   "metadata": {},
   "outputs": [
    {
     "name": "stdout",
     "output_type": "stream",
     "text": [
      "NYYYNN\n",
      "YYYYNN\n",
      "NYYNNN\n",
      "NYYYYN\n",
      "YYYYYY\n",
      "YYYYYN\n",
      "NNNYYN\n",
      "NYYYYY\n",
      "NNNYNN\n",
      "NNNNYN\n",
      "NNNYYY\n",
      "YYYNNN\n",
      "NNNNYY\n",
      "NNNNNY\n"
     ]
    }
   ],
   "source": [
    "for i,(pat,vals) in enumerate(matPatTF.items()):\n",
    "    print(pat)\n",
    "    pvals=[]\n",
    "    for j,v in enumerate(vals):\n",
    "        phyp=hypergeom.sf(v,nbtf,matPatTF.sum(axis=1)[0],matPatTF.sum(axis=0)[0])\n",
    "        pvals.append(phyp)\n",
    "        #print(i,j,v,matPatTF.sum(axis=1)[j],matPatTF.sum(axis=0)[i],phyp)\n",
    "    padjs=multipletests(pvals, method='sidak')[1]\n",
    "    pvalPat[pat]=pvals\n",
    "    padjPat[pat]=padjs"
   ]
  },
  {
   "cell_type": "code",
   "execution_count": 61,
   "metadata": {},
   "outputs": [
    {
     "name": "stdout",
     "output_type": "stream",
     "text": [
      "NYYYNN 58\n",
      "YYYYNN 0\n",
      "NYYNNN 354\n",
      "NYYYYN 958\n",
      "YYYYYY 996\n",
      "YYYYYN 8\n",
      "NNNYYN 678\n",
      "NYYYYY 1023\n",
      "NNNYNN 380\n",
      "NNNNYN 0\n",
      "NNNYYY 286\n",
      "YYYNNN 0\n",
      "NNNNYY 0\n",
      "NNNNNY 0\n"
     ]
    }
   ],
   "source": [
    " for i,(pat,vals) in enumerate(padjPat.items()):\n",
    "    print(pat,len(matPatTF[padjPat[pat]<0.05]))\n",
    "    if not len(matPatTF[padjPat[pat]<0.05])==0:\n",
    "        padjPat[padjPat[pat]<0.05].to_csv('{0}_padj.tsv'.format(pat),sep='\\t')\n",
    "    #matPatTF[padjPat[pat]<0.05].to_csv('{0}_counts.tsv'.format(pat))"
   ]
  },
  {
   "cell_type": "code",
   "execution_count": 62,
   "metadata": {},
   "outputs": [
    {
     "data": {
      "text/html": [
       "<div>\n",
       "<style scoped>\n",
       "    .dataframe tbody tr th:only-of-type {\n",
       "        vertical-align: middle;\n",
       "    }\n",
       "\n",
       "    .dataframe tbody tr th {\n",
       "        vertical-align: top;\n",
       "    }\n",
       "\n",
       "    .dataframe thead th {\n",
       "        text-align: right;\n",
       "    }\n",
       "</style>\n",
       "<table border=\"1\" class=\"dataframe\">\n",
       "  <thead>\n",
       "    <tr style=\"text-align: right;\">\n",
       "      <th></th>\n",
       "      <th>NYYYNN</th>\n",
       "      <th>YYYYNN</th>\n",
       "      <th>NYYNNN</th>\n",
       "      <th>NYYYYN</th>\n",
       "      <th>YYYYYY</th>\n",
       "      <th>YYYYYN</th>\n",
       "      <th>NNNYYN</th>\n",
       "      <th>NYYYYY</th>\n",
       "      <th>NNNYNN</th>\n",
       "      <th>NNNNYN</th>\n",
       "      <th>NNNYYY</th>\n",
       "      <th>YYYNNN</th>\n",
       "      <th>NNNNYY</th>\n",
       "      <th>NNNNNY</th>\n",
       "    </tr>\n",
       "  </thead>\n",
       "  <tbody>\n",
       "  </tbody>\n",
       "</table>\n",
       "</div>"
      ],
      "text/plain": [
       "Empty DataFrame\n",
       "Columns: [NYYYNN, YYYYNN, NYYNNN, NYYYYN, YYYYYY, YYYYYN, NNNYYN, NYYYYY, NNNYNN, NNNNYN, NNNYYY, YYYNNN, NNNNYY, NNNNNY]\n",
       "Index: []"
      ]
     },
     "execution_count": 62,
     "metadata": {},
     "output_type": "execute_result"
    }
   ],
   "source": [
    "padjPat[(padjPat['NNNNNY']<0.05)]#.to_csv('mbt.tsv',sep='\\t')"
   ]
  },
  {
   "cell_type": "code",
   "execution_count": 321,
   "metadata": {},
   "outputs": [
    {
     "data": {
      "text/html": [
       "<div>\n",
       "<style scoped>\n",
       "    .dataframe tbody tr th:only-of-type {\n",
       "        vertical-align: middle;\n",
       "    }\n",
       "\n",
       "    .dataframe tbody tr th {\n",
       "        vertical-align: top;\n",
       "    }\n",
       "\n",
       "    .dataframe thead th {\n",
       "        text-align: right;\n",
       "    }\n",
       "</style>\n",
       "<table border=\"1\" class=\"dataframe\">\n",
       "  <thead>\n",
       "    <tr style=\"text-align: right;\">\n",
       "      <th></th>\n",
       "      <th>NYYYYN</th>\n",
       "      <th>NYYNNN</th>\n",
       "      <th>NNNYYN</th>\n",
       "      <th>YYYYYN</th>\n",
       "      <th>NNNNNY</th>\n",
       "      <th>YYYNNN</th>\n",
       "      <th>NYYYYY</th>\n",
       "      <th>NNNYYY</th>\n",
       "      <th>NNNNYY</th>\n",
       "      <th>NNNYNN</th>\n",
       "      <th>NNNNYN</th>\n",
       "      <th>NYYNYN</th>\n",
       "      <th>YYYYNN</th>\n",
       "      <th>NYYYNN</th>\n",
       "      <th>YYYYYY</th>\n",
       "    </tr>\n",
       "  </thead>\n",
       "  <tbody>\n",
       "    <tr>\n",
       "      <td>p53.0009</td>\n",
       "      <td>1.000000</td>\n",
       "      <td>1.0</td>\n",
       "      <td>0.000002</td>\n",
       "      <td>1.0</td>\n",
       "      <td>1.0</td>\n",
       "      <td>1.0</td>\n",
       "      <td>0.000000</td>\n",
       "      <td>1.0</td>\n",
       "      <td>1.0</td>\n",
       "      <td>1.0</td>\n",
       "      <td>1.0</td>\n",
       "      <td>1.0</td>\n",
       "      <td>1.0</td>\n",
       "      <td>1.0</td>\n",
       "      <td>0.994428</td>\n",
       "    </tr>\n",
       "    <tr>\n",
       "      <td>Unknown.0123</td>\n",
       "      <td>0.310521</td>\n",
       "      <td>1.0</td>\n",
       "      <td>1.000000</td>\n",
       "      <td>1.0</td>\n",
       "      <td>1.0</td>\n",
       "      <td>1.0</td>\n",
       "      <td>0.000000</td>\n",
       "      <td>1.0</td>\n",
       "      <td>1.0</td>\n",
       "      <td>1.0</td>\n",
       "      <td>1.0</td>\n",
       "      <td>1.0</td>\n",
       "      <td>1.0</td>\n",
       "      <td>1.0</td>\n",
       "      <td>0.530647</td>\n",
       "    </tr>\n",
       "    <tr>\n",
       "      <td>C2H2_ZF.0290</td>\n",
       "      <td>0.077904</td>\n",
       "      <td>1.0</td>\n",
       "      <td>1.000000</td>\n",
       "      <td>1.0</td>\n",
       "      <td>1.0</td>\n",
       "      <td>1.0</td>\n",
       "      <td>0.000000</td>\n",
       "      <td>1.0</td>\n",
       "      <td>1.0</td>\n",
       "      <td>1.0</td>\n",
       "      <td>1.0</td>\n",
       "      <td>1.0</td>\n",
       "      <td>1.0</td>\n",
       "      <td>1.0</td>\n",
       "      <td>1.000000</td>\n",
       "    </tr>\n",
       "    <tr>\n",
       "      <td>bZIP.0029</td>\n",
       "      <td>0.000000</td>\n",
       "      <td>1.0</td>\n",
       "      <td>1.000000</td>\n",
       "      <td>1.0</td>\n",
       "      <td>1.0</td>\n",
       "      <td>1.0</td>\n",
       "      <td>0.000000</td>\n",
       "      <td>1.0</td>\n",
       "      <td>1.0</td>\n",
       "      <td>1.0</td>\n",
       "      <td>1.0</td>\n",
       "      <td>1.0</td>\n",
       "      <td>1.0</td>\n",
       "      <td>1.0</td>\n",
       "      <td>0.999998</td>\n",
       "    </tr>\n",
       "    <tr>\n",
       "      <td>Forkhead.0036</td>\n",
       "      <td>1.000000</td>\n",
       "      <td>1.0</td>\n",
       "      <td>0.026883</td>\n",
       "      <td>1.0</td>\n",
       "      <td>1.0</td>\n",
       "      <td>1.0</td>\n",
       "      <td>0.000000</td>\n",
       "      <td>1.0</td>\n",
       "      <td>1.0</td>\n",
       "      <td>1.0</td>\n",
       "      <td>1.0</td>\n",
       "      <td>1.0</td>\n",
       "      <td>1.0</td>\n",
       "      <td>1.0</td>\n",
       "      <td>0.530647</td>\n",
       "    </tr>\n",
       "    <tr>\n",
       "      <td>...</td>\n",
       "      <td>...</td>\n",
       "      <td>...</td>\n",
       "      <td>...</td>\n",
       "      <td>...</td>\n",
       "      <td>...</td>\n",
       "      <td>...</td>\n",
       "      <td>...</td>\n",
       "      <td>...</td>\n",
       "      <td>...</td>\n",
       "      <td>...</td>\n",
       "      <td>...</td>\n",
       "      <td>...</td>\n",
       "      <td>...</td>\n",
       "      <td>...</td>\n",
       "      <td>...</td>\n",
       "    </tr>\n",
       "    <tr>\n",
       "      <td>bHLH.0009</td>\n",
       "      <td>0.000000</td>\n",
       "      <td>1.0</td>\n",
       "      <td>1.000000</td>\n",
       "      <td>1.0</td>\n",
       "      <td>1.0</td>\n",
       "      <td>1.0</td>\n",
       "      <td>0.035356</td>\n",
       "      <td>1.0</td>\n",
       "      <td>1.0</td>\n",
       "      <td>1.0</td>\n",
       "      <td>1.0</td>\n",
       "      <td>1.0</td>\n",
       "      <td>1.0</td>\n",
       "      <td>1.0</td>\n",
       "      <td>1.000000</td>\n",
       "    </tr>\n",
       "    <tr>\n",
       "      <td>Unknown.0060</td>\n",
       "      <td>1.000000</td>\n",
       "      <td>1.0</td>\n",
       "      <td>1.000000</td>\n",
       "      <td>1.0</td>\n",
       "      <td>1.0</td>\n",
       "      <td>1.0</td>\n",
       "      <td>0.035356</td>\n",
       "      <td>1.0</td>\n",
       "      <td>1.0</td>\n",
       "      <td>1.0</td>\n",
       "      <td>1.0</td>\n",
       "      <td>1.0</td>\n",
       "      <td>1.0</td>\n",
       "      <td>1.0</td>\n",
       "      <td>1.000000</td>\n",
       "    </tr>\n",
       "    <tr>\n",
       "      <td>Nuclear_receptor.0134</td>\n",
       "      <td>1.000000</td>\n",
       "      <td>1.0</td>\n",
       "      <td>1.000000</td>\n",
       "      <td>1.0</td>\n",
       "      <td>1.0</td>\n",
       "      <td>1.0</td>\n",
       "      <td>0.035356</td>\n",
       "      <td>1.0</td>\n",
       "      <td>1.0</td>\n",
       "      <td>1.0</td>\n",
       "      <td>1.0</td>\n",
       "      <td>1.0</td>\n",
       "      <td>1.0</td>\n",
       "      <td>1.0</td>\n",
       "      <td>1.000000</td>\n",
       "    </tr>\n",
       "    <tr>\n",
       "      <td>Homeodomain_POU.0011</td>\n",
       "      <td>1.000000</td>\n",
       "      <td>1.0</td>\n",
       "      <td>1.000000</td>\n",
       "      <td>1.0</td>\n",
       "      <td>1.0</td>\n",
       "      <td>1.0</td>\n",
       "      <td>0.046264</td>\n",
       "      <td>1.0</td>\n",
       "      <td>1.0</td>\n",
       "      <td>1.0</td>\n",
       "      <td>1.0</td>\n",
       "      <td>1.0</td>\n",
       "      <td>1.0</td>\n",
       "      <td>1.0</td>\n",
       "      <td>1.000000</td>\n",
       "    </tr>\n",
       "    <tr>\n",
       "      <td>Mixed.0083</td>\n",
       "      <td>1.000000</td>\n",
       "      <td>1.0</td>\n",
       "      <td>1.000000</td>\n",
       "      <td>1.0</td>\n",
       "      <td>1.0</td>\n",
       "      <td>1.0</td>\n",
       "      <td>0.046264</td>\n",
       "      <td>1.0</td>\n",
       "      <td>1.0</td>\n",
       "      <td>1.0</td>\n",
       "      <td>1.0</td>\n",
       "      <td>1.0</td>\n",
       "      <td>1.0</td>\n",
       "      <td>1.0</td>\n",
       "      <td>1.000000</td>\n",
       "    </tr>\n",
       "  </tbody>\n",
       "</table>\n",
       "<p>112 rows × 15 columns</p>\n",
       "</div>"
      ],
      "text/plain": [
       "                         NYYYYN  NYYNNN    NNNYYN  YYYYYN  NNNNNY  YYYNNN  \\\n",
       "p53.0009               1.000000     1.0  0.000002     1.0     1.0     1.0   \n",
       "Unknown.0123           0.310521     1.0  1.000000     1.0     1.0     1.0   \n",
       "C2H2_ZF.0290           0.077904     1.0  1.000000     1.0     1.0     1.0   \n",
       "bZIP.0029              0.000000     1.0  1.000000     1.0     1.0     1.0   \n",
       "Forkhead.0036          1.000000     1.0  0.026883     1.0     1.0     1.0   \n",
       "...                         ...     ...       ...     ...     ...     ...   \n",
       "bHLH.0009              0.000000     1.0  1.000000     1.0     1.0     1.0   \n",
       "Unknown.0060           1.000000     1.0  1.000000     1.0     1.0     1.0   \n",
       "Nuclear_receptor.0134  1.000000     1.0  1.000000     1.0     1.0     1.0   \n",
       "Homeodomain_POU.0011   1.000000     1.0  1.000000     1.0     1.0     1.0   \n",
       "Mixed.0083             1.000000     1.0  1.000000     1.0     1.0     1.0   \n",
       "\n",
       "                         NYYYYY  NNNYYY  NNNNYY  NNNYNN  NNNNYN  NYYNYN  \\\n",
       "p53.0009               0.000000     1.0     1.0     1.0     1.0     1.0   \n",
       "Unknown.0123           0.000000     1.0     1.0     1.0     1.0     1.0   \n",
       "C2H2_ZF.0290           0.000000     1.0     1.0     1.0     1.0     1.0   \n",
       "bZIP.0029              0.000000     1.0     1.0     1.0     1.0     1.0   \n",
       "Forkhead.0036          0.000000     1.0     1.0     1.0     1.0     1.0   \n",
       "...                         ...     ...     ...     ...     ...     ...   \n",
       "bHLH.0009              0.035356     1.0     1.0     1.0     1.0     1.0   \n",
       "Unknown.0060           0.035356     1.0     1.0     1.0     1.0     1.0   \n",
       "Nuclear_receptor.0134  0.035356     1.0     1.0     1.0     1.0     1.0   \n",
       "Homeodomain_POU.0011   0.046264     1.0     1.0     1.0     1.0     1.0   \n",
       "Mixed.0083             0.046264     1.0     1.0     1.0     1.0     1.0   \n",
       "\n",
       "                       YYYYNN  NYYYNN    YYYYYY  \n",
       "p53.0009                  1.0     1.0  0.994428  \n",
       "Unknown.0123              1.0     1.0  0.530647  \n",
       "C2H2_ZF.0290              1.0     1.0  1.000000  \n",
       "bZIP.0029                 1.0     1.0  0.999998  \n",
       "Forkhead.0036             1.0     1.0  0.530647  \n",
       "...                       ...     ...       ...  \n",
       "bHLH.0009                 1.0     1.0  1.000000  \n",
       "Unknown.0060              1.0     1.0  1.000000  \n",
       "Nuclear_receptor.0134     1.0     1.0  1.000000  \n",
       "Homeodomain_POU.0011      1.0     1.0  1.000000  \n",
       "Mixed.0083                1.0     1.0  1.000000  \n",
       "\n",
       "[112 rows x 15 columns]"
      ]
     },
     "execution_count": 321,
     "metadata": {},
     "output_type": "execute_result"
    }
   ],
   "source": [
    "padjPat[(padjPat['NYYYYY']<0.05) & (padjPat['YYYYYY']>0.05)].sort_values(by='NYYYYY', ascending=True)#.to_csv('mbt.tsv',sep='\\t')"
   ]
  },
  {
   "cell_type": "code",
   "execution_count": 312,
   "metadata": {},
   "outputs": [],
   "source": [
    "padjPat.to_csv('enrich_motifs.tsv',sep='\\t')"
   ]
  },
  {
   "cell_type": "code",
   "execution_count": 298,
   "metadata": {},
   "outputs": [],
   "source": [
    "padjPat.sum()"
   ]
  },
  {
   "cell_type": "code",
   "execution_count": 302,
   "metadata": {},
   "outputs": [
    {
     "data": {
      "text/plain": [
       "1.0"
      ]
     },
     "execution_count": 302,
     "metadata": {},
     "output_type": "execute_result"
    }
   ],
   "source": [
    "max(p_adjusted[1])"
   ]
  },
  {
   "cell_type": "code",
   "execution_count": 297,
   "metadata": {},
   "outputs": [],
   "source": [
    "from statsmodels.sandbox.stats.multicomp import multipletests"
   ]
  }
 ],
 "metadata": {
  "kernelspec": {
   "display_name": "Python 3 (ipykernel)",
   "language": "python",
   "name": "python3"
  },
  "language_info": {
   "codemirror_mode": {
    "name": "ipython",
    "version": 3
   },
   "file_extension": ".py",
   "mimetype": "text/x-python",
   "name": "python",
   "nbconvert_exporter": "python",
   "pygments_lexer": "ipython3",
   "version": "3.7.9"
  }
 },
 "nbformat": 4,
 "nbformat_minor": 4
}
