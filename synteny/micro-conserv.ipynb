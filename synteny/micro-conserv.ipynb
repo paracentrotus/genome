{
 "cells": [
  {
   "cell_type": "code",
   "execution_count": 1,
   "metadata": {},
   "outputs": [],
   "source": [
    "from pybedtools import BedTool\n",
    "from collections import defaultdict\n",
    "import csv\n",
    "import pandas as pd\n",
    "import numpy as np"
   ]
  },
  {
   "cell_type": "code",
   "execution_count": 2,
   "metadata": {},
   "outputs": [],
   "source": [
    "def geneLoc(gtf):\n",
    "    exons=BedTool(gtf)\n",
    "    genePos=defaultdict(list)\n",
    "    geneChr={}\n",
    "    geneStr={}\n",
    "    for lg in exons:\n",
    "        gn=lg.attrs['gene_id']\n",
    "        genePos[gn].append(int(lg.start))\n",
    "        genePos[gn].append(int(lg.end))\n",
    "        geneStr[gn]=str(lg.strand)\n",
    "        geneChr[gn]=str(lg.chrom)\n",
    "    geneLoc={}\n",
    "    for gene in genePos:\n",
    "        geneLoc[gene]=(geneChr[gene],min(genePos[gene]),max(genePos[gene]),geneStr[gene])\n",
    "    return geneLoc"
   ]
  },
  {
   "cell_type": "code",
   "execution_count": 3,
   "metadata": {},
   "outputs": [],
   "source": [
    "genPos={}"
   ]
  },
  {
   "cell_type": "code",
   "execution_count": null,
   "metadata": {},
   "outputs": [],
   "source": [
    "genPos['Pliv']=geneLoc(open(\"gtfs/Pliv_aH2p.gtf\"))"
   ]
  },
  {
   "cell_type": "code",
   "execution_count": null,
   "metadata": {},
   "outputs": [],
   "source": [
    "genPos['Bflo']=geneLoc(open(\"gtfs/amphioxus_7u5tJ.gtf\"))"
   ]
  },
  {
   "cell_type": "code",
   "execution_count": 5,
   "metadata": {},
   "outputs": [],
   "source": [
    "synt=[]\n",
    "for r in csv.reader(open('Hsa_Mmu_synt.txt'),delimiter='\\t'):\n",
    "    if r[0]=='s1g': continue\n",
    "    rr=[int(e) if j in (1,3,5,7) else e for j,e in enumerate(r)]\n",
    "    synt.append(rr)"
   ]
  },
  {
   "cell_type": "code",
   "execution_count": 4,
   "metadata": {},
   "outputs": [],
   "source": [
    "def readSynt(sfn):\n",
    "    synt=[]\n",
    "    for r in csv.reader(open(sfn),delimiter='\\t'):\n",
    "        if r[0]=='s1g': continue\n",
    "        rr=[int(e) if j in (1,3,5,7) else e for j,e in enumerate(r)]\n",
    "        synt.append(rr)\n",
    "    syntSrt=sorted(synt,key=lambda x:(x[2],x[3],x[6],x[7]))\n",
    "    return(syntSrt)"
   ]
  },
  {
   "cell_type": "code",
   "execution_count": 5,
   "metadata": {},
   "outputs": [],
   "source": [
    "def syntBlks(syntSrt):\n",
    "    blocks=[]\n",
    "    offset=2\n",
    "    blk=[]\n",
    "    i=0\n",
    "    while i<len(syntSrt):\n",
    "        r=syntSrt[i]\n",
    "        #print('>',i,r)\n",
    "        for j in range(i+1,len(syntSrt),1):\n",
    "            nr=syntSrt[j]\n",
    "            #print(j,nr)\n",
    "            if r[2]==nr[2] and r[6]==nr[6]:\n",
    "                neg=[r[7]-k for k in range(1,1+offset,1)]\n",
    "                pos=[r[7]+k for k in range(1,1+offset,1)]\n",
    "                #print(neg,pos)\n",
    "                if nr[7] in neg or nr[7] in pos:\n",
    "                    #print('+',i+1+j,nr)\n",
    "                    blk.append(nr)\n",
    "                    #print(' ',i+1+j,nr)\n",
    "                    r=nr\n",
    "                    i=j\n",
    "                    continue\n",
    "            else:\n",
    "                break\n",
    "        if len(blk)>1:\n",
    "            blocks.append(blk)\n",
    "        #print(len(blk))\n",
    "        blk=[]\n",
    "        i+=1\n",
    "    return(blocks)\n"
   ]
  },
  {
   "cell_type": "code",
   "execution_count": 54,
   "metadata": {},
   "outputs": [],
   "source": [
    "pliv_spur_synt=readSynt('Pliv_Spur_synt.txt')"
   ]
  },
  {
   "cell_type": "code",
   "execution_count": 55,
   "metadata": {},
   "outputs": [],
   "source": [
    "pliv_lvar_synt=readSynt('Pliv_Lvar_synt.txt')"
   ]
  },
  {
   "cell_type": "code",
   "execution_count": 59,
   "metadata": {},
   "outputs": [],
   "source": [
    "spur_lvar_synt=readSynt('Spur_Lvar_synt.txt')"
   ]
  },
  {
   "cell_type": "code",
   "execution_count": 56,
   "metadata": {},
   "outputs": [],
   "source": [
    "hsap_mmus_synt=readSynt('Hsa_Mmu_synt.txt')"
   ]
  },
  {
   "cell_type": "code",
   "execution_count": 57,
   "metadata": {},
   "outputs": [],
   "source": [
    "hsap_ggal_synt=readSynt('Homsap-Galgal_reci_synt.tsv')"
   ]
  },
  {
   "cell_type": "code",
   "execution_count": 60,
   "metadata": {},
   "outputs": [],
   "source": [
    "hsap_locu_synt=readSynt('Homsap-Lepocu_reci_synt.tsv')"
   ]
  },
  {
   "cell_type": "code",
   "execution_count": 84,
   "metadata": {},
   "outputs": [],
   "source": [
    "arub_pliv_synt=readSynt('Arub_Pliv_synt.txt')"
   ]
  },
  {
   "cell_type": "code",
   "execution_count": 91,
   "metadata": {},
   "outputs": [],
   "source": [
    "arub_pmin_synt=readSynt('Arub_Pmin_synt.txt') "
   ]
  },
  {
   "cell_type": "code",
   "execution_count": 61,
   "metadata": {},
   "outputs": [],
   "source": [
    "pliv_spur_blk=syntBlks(pliv_spur_synt)"
   ]
  },
  {
   "cell_type": "code",
   "execution_count": 62,
   "metadata": {},
   "outputs": [],
   "source": [
    "pliv_lvar_blk=syntBlks(pliv_lvar_synt)"
   ]
  },
  {
   "cell_type": "code",
   "execution_count": 63,
   "metadata": {},
   "outputs": [],
   "source": [
    "spur_lvar_blk=syntBlks(spur_lvar_synt)"
   ]
  },
  {
   "cell_type": "code",
   "execution_count": 69,
   "metadata": {},
   "outputs": [],
   "source": [
    "hsap_mmus_blk=syntBlks(hsap_mmus_synt)"
   ]
  },
  {
   "cell_type": "code",
   "execution_count": 65,
   "metadata": {},
   "outputs": [],
   "source": [
    "hsap_ggal_blk=syntBlks(hsap_ggal_synt)"
   ]
  },
  {
   "cell_type": "raw",
   "metadata": {},
   "source": [
    "hsap_locu_blk=syntBlks(hsap_locu_synt)"
   ]
  },
  {
   "cell_type": "code",
   "execution_count": 92,
   "metadata": {},
   "outputs": [],
   "source": [
    "arub_pmin_blk=syntBlks(arub_pmin_synt)"
   ]
  },
  {
   "cell_type": "code",
   "execution_count": null,
   "metadata": {},
   "outputs": [],
   "source": []
  },
  {
   "cell_type": "code",
   "execution_count": 87,
   "metadata": {},
   "outputs": [],
   "source": [
    "arub_pliv_blk=syntBlks(arub_pliv_synt)"
   ]
  },
  {
   "cell_type": "code",
   "execution_count": 88,
   "metadata": {},
   "outputs": [
    {
     "data": {
      "text/plain": [
       "{'sp1': 'Arub',\n",
       " 'sp2': 'Pliv',\n",
       " 'nb_blocks': 297,\n",
       " 'nb_genes': 9035,\n",
       " 'med_block_size': 2.0,\n",
       " 'genes_in_block': 692,\n",
       " 'frac_in_block': 7.66}"
      ]
     },
     "execution_count": 88,
     "metadata": {},
     "output_type": "execute_result"
    }
   ],
   "source": [
    "checkBlk('Arub','Pliv',arub_pliv_blk,arub_pliv_synt)"
   ]
  },
  {
   "cell_type": "code",
   "execution_count": 42,
   "metadata": {},
   "outputs": [],
   "source": [
    "def checkBlk(sp1,sp2,blk,synt):\n",
    "    blsz=[len(bl) for i,bl in enumerate(blk)]\n",
    "    out={'sp1':sp1,'sp2':sp2,'nb_blocks':len(blsz),'nb_genes':len(synt),'med_block_size':np.median(blsz),'genes_in_block':sum(blsz),'frac_in_block':round(sum(blsz)/len(synt)*100,2)}\n",
    "    return(out)"
   ]
  },
  {
   "cell_type": "code",
   "execution_count": 33,
   "metadata": {},
   "outputs": [],
   "source": [
    "import pandas as pd"
   ]
  },
  {
   "cell_type": "code",
   "execution_count": 74,
   "metadata": {},
   "outputs": [],
   "source": [
    "df = pd.DataFrame(columns=[\"sp1\",\"sp2\",\"nb_blocks\", \"nb_genes\",\"med_block_size\",\"genes_in_block\",\"frac_in_block\"])"
   ]
  },
  {
   "cell_type": "code",
   "execution_count": 75,
   "metadata": {},
   "outputs": [],
   "source": [
    "df=df.append(checkBlk('Pliv','Lvar',pliv_lvar_blk,pliv_lvar_synt),ignore_index=True)"
   ]
  },
  {
   "cell_type": "code",
   "execution_count": 76,
   "metadata": {},
   "outputs": [],
   "source": [
    "df=df.append(checkBlk('Pliv','Spur',pliv_spur_blk,pliv_spur_synt),ignore_index=True)"
   ]
  },
  {
   "cell_type": "code",
   "execution_count": 77,
   "metadata": {},
   "outputs": [],
   "source": [
    "df=df.append(checkBlk('Spur','Lvar',spur_lvar_blk,spur_lvar_synt),ignore_index=True)"
   ]
  },
  {
   "cell_type": "code",
   "execution_count": 78,
   "metadata": {},
   "outputs": [],
   "source": [
    "df=df.append(checkBlk('Hsap','Mmus',hsap_mmus_blk,hsap_mmus_synt),ignore_index=True)"
   ]
  },
  {
   "cell_type": "code",
   "execution_count": 79,
   "metadata": {},
   "outputs": [],
   "source": [
    "df=df.append(checkBlk('Hsap','Ggal',hsap_ggal_blk,hsap_ggal_synt),ignore_index=True)"
   ]
  },
  {
   "cell_type": "code",
   "execution_count": 80,
   "metadata": {},
   "outputs": [],
   "source": [
    "df=df.append(checkBlk('Hsap','Locu',hsap_locu_blk,hsap_locu_synt),ignore_index=True)"
   ]
  },
  {
   "cell_type": "code",
   "execution_count": 89,
   "metadata": {},
   "outputs": [],
   "source": [
    "df=df.append(checkBlk('Arub','Pliv',arub_pliv_blk,arub_pliv_synt),ignore_index=True)"
   ]
  },
  {
   "cell_type": "code",
   "execution_count": 93,
   "metadata": {},
   "outputs": [],
   "source": [
    "df=df.append(checkBlk('Arub','Pmin',arub_pmin_blk,arub_pmin_synt),ignore_index=True)"
   ]
  },
  {
   "cell_type": "code",
   "execution_count": 94,
   "metadata": {},
   "outputs": [],
   "source": [
    "df.to_csv('test.Txt',sep='\\t')"
   ]
  },
  {
   "cell_type": "code",
   "execution_count": 45,
   "metadata": {},
   "outputs": [
    {
     "ename": "NameError",
     "evalue": "name 'hsap_mmus_blk' is not defined",
     "output_type": "error",
     "traceback": [
      "\u001b[0;31m---------------------------------------------------------------------------\u001b[0m",
      "\u001b[0;31mNameError\u001b[0m                                 Traceback (most recent call last)",
      "\u001b[0;32m<ipython-input-45-63abd4a1c1e0>\u001b[0m in \u001b[0;36m<module>\u001b[0;34m\u001b[0m\n\u001b[0;32m----> 1\u001b[0;31m \u001b[0mhsap_mmus_blsz\u001b[0m\u001b[0;34m=\u001b[0m\u001b[0;34m[\u001b[0m\u001b[0mlen\u001b[0m\u001b[0;34m(\u001b[0m\u001b[0mbl\u001b[0m\u001b[0;34m)\u001b[0m \u001b[0;32mfor\u001b[0m \u001b[0mi\u001b[0m\u001b[0;34m,\u001b[0m\u001b[0mbl\u001b[0m \u001b[0;32min\u001b[0m \u001b[0menumerate\u001b[0m\u001b[0;34m(\u001b[0m\u001b[0mhsap_mmus_blk\u001b[0m\u001b[0;34m)\u001b[0m\u001b[0;34m]\u001b[0m\u001b[0;34m\u001b[0m\u001b[0;34m\u001b[0m\u001b[0m\n\u001b[0m",
      "\u001b[0;31mNameError\u001b[0m: name 'hsap_mmus_blk' is not defined"
     ]
    }
   ],
   "source": [
    "hsap_mmus_blsz=[len(bl) for i,bl in enumerate(hsap_mmus_blk)]"
   ]
  },
  {
   "cell_type": "code",
   "execution_count": 58,
   "metadata": {},
   "outputs": [],
   "source": [
    "pliv_spur_blsz=[len(bl) for i,bl in enumerate(spur_pliv_blk)]"
   ]
  },
  {
   "cell_type": "code",
   "execution_count": 59,
   "metadata": {},
   "outputs": [
    {
     "name": "stdout",
     "output_type": "stream",
     "text": [
      "1035 5.0 7391 62.75\n"
     ]
    }
   ],
   "source": [
    "print(len(pliv_spur_blsz),np.median(pliv_spur_blsz),sum(pliv_spur_blsz),round(sum(pliv_spur_blsz)/len(pliv_spur_synt)*100,2))"
   ]
  },
  {
   "cell_type": "code",
   "execution_count": 60,
   "metadata": {},
   "outputs": [
    {
     "name": "stdout",
     "output_type": "stream",
     "text": [
      "433 19.0 13963 88.18\n"
     ]
    }
   ],
   "source": [
    "print(len(hsap_mmus_blsz),np.median(hsap_mmus_blsz),sum(hsap_mmus_blsz),round(sum(hsap_mmus_blsz)/len(hsap_mmus_synt)*100,2))"
   ]
  },
  {
   "cell_type": "code",
   "execution_count": 31,
   "metadata": {},
   "outputs": [
    {
     "data": {
      "text/plain": [
       "[1, 2]"
      ]
     },
     "execution_count": 31,
     "metadata": {},
     "output_type": "execute_result"
    }
   ],
   "source": [
    "list(range(1,1+2,1))"
   ]
  },
  {
   "cell_type": "code",
   "execution_count": 32,
   "metadata": {},
   "outputs": [],
   "source": []
  },
  {
   "cell_type": "code",
   "execution_count": 34,
   "metadata": {},
   "outputs": [],
   "source": [
    "spur_pliv_blk=syntBlks(synt)"
   ]
  },
  {
   "cell_type": "code",
   "execution_count": 22,
   "metadata": {},
   "outputs": [],
   "source": [
    "blocks=[]\n",
    "offset=2\n",
    "blk=[]\n",
    "i=0\n",
    "while i<len(syntSrt):\n",
    "    r=syntSrt[i]\n",
    "    #print('>',i,r)\n",
    "    for j in range(i+1,len(syntSrt),1):\n",
    "        nr=syntSrt[j]\n",
    "        #print(j,nr)\n",
    "        if r[2]==nr[2] and r[6]==nr[6]:\n",
    "            neg=[r[7]-k for k in range(1,1+offset,1)]\n",
    "            pos=[r[7]+k for k in range(1,1+offset,1)]\n",
    "            #print(neg,pos)\n",
    "            if nr[7] in neg or nr[7] in pos:\n",
    "                #print('+',i+1+j,nr)\n",
    "                blk.append(nr)\n",
    "                #print(' ',i+1+j,nr)\n",
    "                r=nr\n",
    "                i=j\n",
    "                continue\n",
    "        else:\n",
    "            break\n",
    "    if len(blk)>1:\n",
    "        blocks.append(blk)\n",
    "    #print(len(blk))\n",
    "    blk=[]\n",
    "    i+=1\n",
    "            \n",
    "        \n",
    "        \n",
    "    \n",
    "    #if i==10: break"
   ]
  },
  {
   "cell_type": "code",
   "execution_count": 18,
   "metadata": {},
   "outputs": [
    {
     "name": "stdout",
     "output_type": "stream",
     "text": [
      "15835\n"
     ]
    }
   ],
   "source": [
    "print(len(syntSrt))"
   ]
  },
  {
   "cell_type": "code",
   "execution_count": 35,
   "metadata": {},
   "outputs": [
    {
     "name": "stdout",
     "output_type": "stream",
     "text": [
      "11778\n"
     ]
    }
   ],
   "source": [
    "print(len(syntSrt))"
   ]
  },
  {
   "cell_type": "code",
   "execution_count": 48,
   "metadata": {},
   "outputs": [],
   "source": [
    "ps_blsz=[len(bl) for i,bl in enumerate(spur_pliv_blk)]"
   ]
  },
  {
   "cell_type": "code",
   "execution_count": 49,
   "metadata": {},
   "outputs": [
    {
     "name": "stdout",
     "output_type": "stream",
     "text": [
      "[4, 8, 8, 6, 7, 9, 3, 8, 6, 4, 13, 4, 2, 22, 16, 3, 6, 16, 2, 4, 2, 8, 7, 3, 2, 14, 4, 2, 6, 16, 2, 5, 7, 8, 2, 6, 2, 4, 4, 6, 2, 3, 4, 4, 4, 2, 6, 2, 2, 2, 19, 3, 5, 8, 3, 10, 7, 2, 2, 2, 3, 12, 2, 5, 8, 2, 3, 22, 28, 2, 5, 3, 3, 9, 12, 21, 4, 10, 6, 33, 6, 4, 21, 27, 8, 5, 8, 18, 10, 19, 7, 17, 6, 2, 3, 4, 5, 2, 3, 17, 2, 3, 3, 5, 4, 21, 3, 8, 2, 3, 23, 2, 12, 17, 9, 29, 4, 4, 8, 4, 28, 7, 12, 5, 5, 5, 8, 2, 11, 24, 16, 4, 5, 10, 3, 5, 12, 3, 10, 4, 7, 7, 2, 7, 31, 11, 8, 2, 9, 4, 5, 2, 3, 2, 12, 9, 9, 14, 2, 15, 21, 69, 3, 8, 7, 4, 6, 11, 7, 5, 5, 11, 11, 3, 5, 6, 2, 2, 17, 2, 2, 2, 2, 3, 3, 6, 24, 2, 2, 3, 2, 3, 2, 5, 8, 8, 9, 8, 2, 4, 54, 7, 7, 10, 15, 13, 10, 5, 5, 6, 3, 2, 5, 46, 5, 7, 8, 2, 16, 2, 4, 6, 11, 12, 4, 3, 2, 4, 2, 4, 3, 2, 3, 5, 10, 18, 24, 12, 5, 3, 3, 10, 48, 19, 10, 6, 3, 18, 4, 5, 9, 8, 6, 19, 3, 2, 2, 4, 4, 4, 9, 7, 2, 11, 8, 4, 2, 2, 2, 3, 4, 2, 4, 2, 2, 4, 4, 3, 2, 11, 3, 10, 8, 3, 3, 9, 7, 8, 3, 3, 4, 21, 7, 5, 2, 4, 3, 3, 2, 4, 2, 3, 9, 5, 7, 3, 3, 15, 8, 3, 2, 16, 5, 2, 3, 3, 2, 3, 4, 2, 5, 14, 2, 6, 7, 6, 5, 2, 4, 4, 8, 14, 4, 7, 3, 11, 13, 5, 33, 6, 24, 29, 14, 20, 6, 2, 2, 2, 8, 24, 11, 2, 7, 2, 2, 40, 6, 4, 2, 4, 13, 4, 12, 2, 2, 17, 16, 16, 5, 2, 16, 14, 5, 5, 12, 8, 3, 10, 8, 3, 6, 26, 3, 6, 7, 2, 5, 2, 12, 17, 26, 7, 4, 2, 2, 2, 3, 7, 5, 33, 3, 4, 5, 3, 7, 3, 5, 7, 23, 14, 5, 2, 7, 8, 5, 4, 2, 3, 7, 3, 15, 2, 2, 6, 5, 5, 47, 7, 5, 2, 2, 8, 8, 8, 13, 7, 3, 7, 3, 9, 10, 8, 10, 11, 2, 3, 3, 2, 5, 2, 2, 3, 3, 2, 2, 4, 3, 2, 3, 4, 2, 9, 2, 3, 4, 17, 9, 10, 2, 2, 3, 2, 2, 8, 2, 2, 2, 3, 3, 3, 2, 14, 2, 7, 3, 6, 3, 2, 2, 5, 7, 9, 15, 10, 2, 2, 19, 26, 4, 6, 8, 2, 2, 10, 2, 3, 3, 3, 13, 8, 7, 2, 2, 2, 3, 4, 2, 5, 3, 39, 6, 11, 11, 6, 5, 5, 6, 3, 13, 5, 2, 14, 24, 11, 4, 38, 9, 14, 3, 22, 4, 32, 7, 6, 7, 3, 9, 39, 2, 2, 3, 5, 7, 10, 4, 9, 3, 7, 2, 3, 11, 8, 2, 10, 2, 10, 15, 10, 5, 3, 3, 12, 8, 6, 7, 3, 9, 4, 5, 6, 4, 6, 6, 2, 4, 7, 2, 3, 6, 9, 2, 7, 3, 2, 3, 3, 4, 2, 14, 10, 5, 4, 3, 2, 5, 5, 2, 3, 8, 3, 4, 3, 2, 16, 2, 2, 3, 6, 9, 4, 5, 17, 15, 3, 2, 7, 10, 7, 2, 5, 7, 10, 9, 2, 13, 9, 14, 4, 9, 2, 2, 2, 4, 7, 18, 21, 6, 15, 4, 2, 10, 9, 2, 16, 8, 3, 3, 14, 4, 4, 20, 6, 10, 7, 8, 12, 7, 3, 13, 2, 6, 5, 2, 17, 5, 8, 2, 2, 5, 3, 9, 6, 5, 2, 11, 9, 8, 4, 9, 3, 11, 29, 3, 3, 4, 3, 4, 6, 4, 8, 6, 2, 3, 6, 2, 2, 3, 6, 15, 2, 23, 6, 5, 2, 3, 3, 14, 2, 6, 6, 8, 11, 4, 58, 2, 2, 3, 7, 8, 2, 2, 2, 5, 3, 3, 2, 14, 3, 5, 3, 2, 2, 2, 2, 4, 2, 4, 2, 6, 2, 2, 3, 5, 4, 2, 16, 3, 3, 7, 24, 17, 16, 11, 13, 8, 2, 3, 3, 6, 13, 12, 2, 2, 5, 5, 2, 4, 3, 3, 10, 8, 7, 3, 3, 3, 4, 2, 2, 2, 7, 4, 3, 2, 3, 7, 6, 3, 6, 8, 8, 7, 5, 2, 9, 3, 2, 17, 3, 5, 11, 7, 3, 5, 11, 3, 12, 4, 25, 3, 2, 4, 8, 15, 4, 10, 4, 5, 2, 2, 13, 9, 10, 3, 30, 5, 7, 6, 15, 27, 8, 13, 2, 2, 2, 2, 8, 10, 10, 4, 2, 3, 6, 10, 17, 18, 10, 8, 7, 2, 6, 12, 2, 3, 4, 4, 15, 2, 7, 4, 7, 14, 2, 3, 8, 2, 5, 9, 3, 14, 9, 10, 2, 11, 11, 19, 11, 20, 52, 6, 5, 21, 4, 6, 3, 7, 8, 2, 16, 12, 14, 24, 3, 7, 3, 3, 4, 2, 2, 3, 2, 8, 2, 6, 2, 2, 5, 4, 8, 3, 2, 2, 3, 4, 2, 5, 11, 14, 6, 2, 7, 5, 8, 3, 16, 10, 3, 8, 2, 5, 2, 2, 2, 2, 8, 2, 7, 2, 4, 3, 11, 3, 3, 14, 6, 6, 11, 3, 3, 20, 7, 6, 2, 4, 3, 3, 4, 17, 5, 7, 34, 8, 6, 15, 12, 6, 4, 10, 2, 2, 3, 6, 8, 2, 6, 5, 14, 5, 9, 2, 4, 6, 3, 3, 7, 2, 2, 5, 2, 3, 11, 8, 3, 5, 5, 2, 5, 8, 19, 8, 5, 6, 5, 4, 3, 4, 12, 8, 8, 3, 12, 3, 10, 9, 4, 2, 2, 7, 9, 23, 8, 9, 3, 2, 2, 3] 7391 62.75\n"
     ]
    }
   ],
   "source": [
    "print(ps_blsz,sum(ps_blsz),round(sum(ps_blsz)/len(syntSrt)*100,2))"
   ]
  },
  {
   "cell_type": "code",
   "execution_count": 23,
   "metadata": {},
   "outputs": [
    {
     "name": "stdout",
     "output_type": "stream",
     "text": [
      "433\n"
     ]
    }
   ],
   "source": [
    "print(len(blocks))"
   ]
  },
  {
   "cell_type": "code",
   "execution_count": 25,
   "metadata": {},
   "outputs": [],
   "source": [
    "blsz=[len(bl) for i,bl in enumerate(blocks)]"
   ]
  },
  {
   "cell_type": "code",
   "execution_count": 28,
   "metadata": {},
   "outputs": [
    {
     "name": "stdout",
     "output_type": "stream",
     "text": [
      "[91, 187, 153, 37, 2, 46, 86, 29, 3, 68, 21, 78, 13, 58, 16, 78, 70, 37, 5, 10, 11, 302, 67, 14, 16, 33, 13, 5, 12, 2, 3, 18, 32, 7, 23, 15, 4, 3, 4, 3, 15, 2, 3, 15, 6, 82, 34, 23, 220, 76, 18, 38, 24, 103, 3, 33, 108, 40, 148, 61, 35, 14, 100, 63, 140, 22, 17, 22, 12, 29, 37, 8, 2, 6, 3, 65, 31, 5, 3, 49, 54, 61, 4, 87, 61, 84, 26, 25, 42, 10, 31, 66, 15, 17, 10, 20, 16, 22, 42, 4, 11, 6, 17, 45, 6, 39, 4, 45, 47, 3, 26, 55, 20, 2, 22, 8, 65, 35, 192, 3, 6, 3, 10, 114, 18, 3, 31, 4, 135, 8, 16, 6, 34, 25, 2, 5, 97, 14, 70, 5, 27, 32, 2, 46, 129, 39, 18, 78, 15, 9, 46, 22, 19, 68, 30, 12, 46, 3, 4, 4, 15, 12, 37, 59, 48, 23, 12, 3, 8, 188, 3, 16, 7, 8, 10, 18, 29, 82, 32, 20, 27, 10, 8, 53, 13, 38, 5, 10, 15, 7, 2, 14, 42, 4, 71, 15, 2, 65, 10, 109, 106, 4, 40, 9, 2, 5, 4, 9, 24, 58, 19, 18, 6, 94, 4, 48, 19, 3, 6, 18, 38, 32, 5, 9, 10, 50, 2, 6, 17, 6, 24, 13, 7, 16, 2, 87, 54, 7, 6, 29, 216, 21, 23, 127, 11, 36, 194, 59, 6, 20, 18, 11, 3, 13, 22, 11, 2, 9, 9, 19, 46, 3, 4, 6, 187, 60, 15, 10, 9, 11, 30, 6, 26, 26, 7, 120, 40, 19, 22, 10, 117, 23, 21, 7, 6, 77, 4, 66, 32, 12, 64, 5, 13, 35, 104, 22, 70, 39, 11, 85, 3, 35, 30, 44, 76, 28, 9, 11, 56, 121, 53, 2, 4, 4, 7, 52, 10, 27, 19, 2, 27, 14, 6, 53, 6, 4, 40, 26, 48, 29, 29, 3, 6, 19, 60, 2, 98, 12, 13, 21, 37, 42, 105, 63, 16, 2, 19, 2, 13, 28, 13, 16, 12, 18, 7, 2, 21, 38, 7, 21, 42, 7, 9, 26, 14, 46, 24, 18, 17, 17, 26, 13, 13, 8, 23, 29, 145, 35, 4, 7, 4, 5, 16, 18, 8, 62, 21, 5, 5, 14, 16, 2, 8, 37, 28, 35, 2, 93, 62, 6, 28, 31, 43, 89, 2, 38, 26, 18, 19, 49, 19, 41, 40, 15, 15, 3, 23, 51, 2, 2, 56, 3, 17, 15, 29, 40, 110, 37, 26, 17, 86, 10, 43] 13963 0.8817808651720872\n"
     ]
    }
   ],
   "source": [
    "print(blsz,sum(blsz),sum(blsz)/len(syntSrt))"
   ]
  }
 ],
 "metadata": {
  "kernelspec": {
   "display_name": "Python 3",
   "language": "python",
   "name": "python3"
  },
  "language_info": {
   "codemirror_mode": {
    "name": "ipython",
    "version": 3
   },
   "file_extension": ".py",
   "mimetype": "text/x-python",
   "name": "python",
   "nbconvert_exporter": "python",
   "pygments_lexer": "ipython3",
   "version": "3.8.6"
  }
 },
 "nbformat": 4,
 "nbformat_minor": 4
}
